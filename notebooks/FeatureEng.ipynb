{
 "cells": [
  {
   "cell_type": "markdown",
   "metadata": {},
   "source": [
    "# first we have to divide the data for our use case per day for each revenue center"
   ]
  },
  {
   "cell_type": "code",
   "execution_count": 4,
   "metadata": {},
   "outputs": [
    {
     "name": "stdout",
     "output_type": "stream",
     "text": [
      "(120562, 4)\n"
     ]
    },
    {
     "data": {
      "text/html": [
       "<div>\n",
       "<style scoped>\n",
       "    .dataframe tbody tr th:only-of-type {\n",
       "        vertical-align: middle;\n",
       "    }\n",
       "\n",
       "    .dataframe tbody tr th {\n",
       "        vertical-align: top;\n",
       "    }\n",
       "\n",
       "    .dataframe thead th {\n",
       "        text-align: right;\n",
       "    }\n",
       "</style>\n",
       "<table border=\"1\" class=\"dataframe\">\n",
       "  <thead>\n",
       "    <tr style=\"text-align: right;\">\n",
       "      <th></th>\n",
       "      <th>Date</th>\n",
       "      <th>MealPeriod</th>\n",
       "      <th>CheckTotal</th>\n",
       "      <th>RevenueCenterName</th>\n",
       "    </tr>\n",
       "  </thead>\n",
       "  <tbody>\n",
       "    <tr>\n",
       "      <th>0</th>\n",
       "      <td>2023-04-18</td>\n",
       "      <td>Dinner</td>\n",
       "      <td>125.0</td>\n",
       "      <td>RevenueCenter_1</td>\n",
       "    </tr>\n",
       "    <tr>\n",
       "      <th>1</th>\n",
       "      <td>2023-04-18</td>\n",
       "      <td>Dinner</td>\n",
       "      <td>37.5</td>\n",
       "      <td>RevenueCenter_1</td>\n",
       "    </tr>\n",
       "    <tr>\n",
       "      <th>2</th>\n",
       "      <td>2023-04-18</td>\n",
       "      <td>Dinner</td>\n",
       "      <td>0.0</td>\n",
       "      <td>RevenueCenter_1</td>\n",
       "    </tr>\n",
       "    <tr>\n",
       "      <th>3</th>\n",
       "      <td>2023-04-18</td>\n",
       "      <td>Dinner</td>\n",
       "      <td>0.0</td>\n",
       "      <td>RevenueCenter_1</td>\n",
       "    </tr>\n",
       "    <tr>\n",
       "      <th>4</th>\n",
       "      <td>2023-04-18</td>\n",
       "      <td>Dinner</td>\n",
       "      <td>70.0</td>\n",
       "      <td>RevenueCenter_2</td>\n",
       "    </tr>\n",
       "  </tbody>\n",
       "</table>\n",
       "</div>"
      ],
      "text/plain": [
       "        Date MealPeriod  CheckTotal RevenueCenterName\n",
       "0 2023-04-18     Dinner       125.0   RevenueCenter_1\n",
       "1 2023-04-18     Dinner        37.5   RevenueCenter_1\n",
       "2 2023-04-18     Dinner         0.0   RevenueCenter_1\n",
       "3 2023-04-18     Dinner         0.0   RevenueCenter_1\n",
       "4 2023-04-18     Dinner        70.0   RevenueCenter_2"
      ]
     },
     "execution_count": 4,
     "metadata": {},
     "output_type": "execute_result"
    }
   ],
   "source": [
    "import pandas as pd\n",
    "\n",
    "file_path = \"../data/raw/Hotel_Revenue_Data.xlsx\"\n",
    "\n",
    "# Use read_excel instead of read_csv\n",
    "df = pd.read_excel(file_path, parse_dates=[\"Date\"])\n",
    "\n",
    "# Quick sanity-check\n",
    "print(df.shape)\n",
    "df.head()\n"
   ]
  },
  {
   "cell_type": "code",
   "execution_count": 9,
   "metadata": {},
   "outputs": [],
   "source": [
    "import pandas as pd\n",
    "import itertools\n",
    "\n",
    "# Step 1: Get all unique values\n",
    "all_dates = df[\"Date\"].unique()\n",
    "all_meals = df[\"MealPeriod\"].unique()\n",
    "all_centers = df[\"RevenueCenterName\"].unique()\n",
    "\n",
    "# Step 2: Create full cartesian product of all combinations\n",
    "all_combinations = pd.DataFrame(\n",
    "    list(itertools.product(all_dates, all_meals, all_centers)),\n",
    "    columns=[\"Date\", \"MealPeriod\", \"RevenueCenterName\"]\n",
    ")\n",
    "\n",
    "# Step 3: Group actual data\n",
    "actual_totals = (\n",
    "    df.groupby([\"Date\", \"MealPeriod\", \"RevenueCenterName\"])[\"CheckTotal\"]\n",
    "    .sum()\n",
    "    .reset_index()\n",
    "    .rename(columns={\"CheckTotal\": \"TotalCheckAmount\"})\n",
    ")\n",
    "\n",
    "# Step 4: Merge with full combinations and fill missing with 0\n",
    "final_df = (\n",
    "    all_combinations\n",
    "    .merge(actual_totals, on=[\"Date\", \"MealPeriod\", \"RevenueCenterName\"], how=\"left\")\n",
    "    .fillna({\"TotalCheckAmount\": 0})\n",
    "    .sort_values(by=[\"Date\", \"MealPeriod\", \"RevenueCenterName\"])\n",
    ")\n",
    "\n",
    "# Step 5: Save to CSV\n",
    "final_df.to_csv(\"complete_daily_revenue_totals.csv\", index=False)\n"
   ]
  },
  {
   "cell_type": "code",
   "execution_count": null,
   "metadata": {},
   "outputs": [],
   "source": []
  }
 ],
 "metadata": {
  "kernelspec": {
   "display_name": "myenv1",
   "language": "python",
   "name": "python3"
  },
  "language_info": {
   "codemirror_mode": {
    "name": "ipython",
    "version": 3
   },
   "file_extension": ".py",
   "mimetype": "text/x-python",
   "name": "python",
   "nbconvert_exporter": "python",
   "pygments_lexer": "ipython3",
   "version": "3.11.11"
  }
 },
 "nbformat": 4,
 "nbformat_minor": 2
}
