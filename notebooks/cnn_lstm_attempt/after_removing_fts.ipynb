{
 "cells": [
  {
   "cell_type": "markdown",
   "id": "be36b403",
   "metadata": {},
   "source": [
    "# This is the training attempt after removing some irrevelant features\n"
   ]
  },
  {
   "cell_type": "markdown",
   "id": "6ebd27e9",
   "metadata": {},
   "source": []
  }
 ],
 "metadata": {
  "language_info": {
   "name": "python"
  }
 },
 "nbformat": 4,
 "nbformat_minor": 5
}
