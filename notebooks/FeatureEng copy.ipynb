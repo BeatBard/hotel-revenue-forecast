{
 "cells": [
  {
   "cell_type": "markdown",
   "metadata": {},
   "source": [
    "# first we have to divide the data for our use case per day for each revenue center"
   ]
  },
  {
   "cell_type": "code",
   "execution_count": 1,
   "metadata": {},
   "outputs": [
    {
     "name": "stdout",
     "output_type": "stream",
     "text": [
      "(120562, 4)\n"
     ]
    },
    {
     "data": {
      "text/html": [
       "<div>\n",
       "<style scoped>\n",
       "    .dataframe tbody tr th:only-of-type {\n",
       "        vertical-align: middle;\n",
       "    }\n",
       "\n",
       "    .dataframe tbody tr th {\n",
       "        vertical-align: top;\n",
       "    }\n",
       "\n",
       "    .dataframe thead th {\n",
       "        text-align: right;\n",
       "    }\n",
       "</style>\n",
       "<table border=\"1\" class=\"dataframe\">\n",
       "  <thead>\n",
       "    <tr style=\"text-align: right;\">\n",
       "      <th></th>\n",
       "      <th>Date</th>\n",
       "      <th>MealPeriod</th>\n",
       "      <th>CheckTotal</th>\n",
       "      <th>RevenueCenterName</th>\n",
       "    </tr>\n",
       "  </thead>\n",
       "  <tbody>\n",
       "    <tr>\n",
       "      <th>0</th>\n",
       "      <td>2023-04-18</td>\n",
       "      <td>Dinner</td>\n",
       "      <td>125.0</td>\n",
       "      <td>RevenueCenter_1</td>\n",
       "    </tr>\n",
       "    <tr>\n",
       "      <th>1</th>\n",
       "      <td>2023-04-18</td>\n",
       "      <td>Dinner</td>\n",
       "      <td>37.5</td>\n",
       "      <td>RevenueCenter_1</td>\n",
       "    </tr>\n",
       "    <tr>\n",
       "      <th>2</th>\n",
       "      <td>2023-04-18</td>\n",
       "      <td>Dinner</td>\n",
       "      <td>0.0</td>\n",
       "      <td>RevenueCenter_1</td>\n",
       "    </tr>\n",
       "    <tr>\n",
       "      <th>3</th>\n",
       "      <td>2023-04-18</td>\n",
       "      <td>Dinner</td>\n",
       "      <td>0.0</td>\n",
       "      <td>RevenueCenter_1</td>\n",
       "    </tr>\n",
       "    <tr>\n",
       "      <th>4</th>\n",
       "      <td>2023-04-18</td>\n",
       "      <td>Dinner</td>\n",
       "      <td>70.0</td>\n",
       "      <td>RevenueCenter_2</td>\n",
       "    </tr>\n",
       "  </tbody>\n",
       "</table>\n",
       "</div>"
      ],
      "text/plain": [
       "        Date MealPeriod  CheckTotal RevenueCenterName\n",
       "0 2023-04-18     Dinner       125.0   RevenueCenter_1\n",
       "1 2023-04-18     Dinner        37.5   RevenueCenter_1\n",
       "2 2023-04-18     Dinner         0.0   RevenueCenter_1\n",
       "3 2023-04-18     Dinner         0.0   RevenueCenter_1\n",
       "4 2023-04-18     Dinner        70.0   RevenueCenter_2"
      ]
     },
     "execution_count": 1,
     "metadata": {},
     "output_type": "execute_result"
    }
   ],
   "source": [
    "import pandas as pd\n",
    "\n",
    "file_path = \"../data/raw/Hotel_Revenue_Data.xlsx\"\n",
    "\n",
    "# Use read_excel instead of read_csv\n",
    "df = pd.read_excel(file_path, parse_dates=[\"Date\"])\n",
    "\n",
    "# Quick sanity-check\n",
    "print(df.shape)\n",
    "df.head()\n"
   ]
  },
  {
   "cell_type": "code",
   "execution_count": 3,
   "metadata": {},
   "outputs": [
    {
     "data": {
      "text/html": [
       "<div>\n",
       "<style scoped>\n",
       "    .dataframe tbody tr th:only-of-type {\n",
       "        vertical-align: middle;\n",
       "    }\n",
       "\n",
       "    .dataframe tbody tr th {\n",
       "        vertical-align: top;\n",
       "    }\n",
       "\n",
       "    .dataframe thead th {\n",
       "        text-align: right;\n",
       "    }\n",
       "</style>\n",
       "<table border=\"1\" class=\"dataframe\">\n",
       "  <thead>\n",
       "    <tr style=\"text-align: right;\">\n",
       "      <th></th>\n",
       "      <th>Date</th>\n",
       "      <th>MealPeriod</th>\n",
       "      <th>RevenueCenterName</th>\n",
       "      <th>TotalCheckAmount</th>\n",
       "    </tr>\n",
       "  </thead>\n",
       "  <tbody>\n",
       "    <tr>\n",
       "      <th>963</th>\n",
       "      <td>2023-01-01</td>\n",
       "      <td>BreakFast</td>\n",
       "      <td>RevenueCenter_1</td>\n",
       "      <td>1499.4</td>\n",
       "    </tr>\n",
       "    <tr>\n",
       "      <th>964</th>\n",
       "      <td>2023-01-01</td>\n",
       "      <td>BreakFast</td>\n",
       "      <td>RevenueCenter_2</td>\n",
       "      <td>35.0</td>\n",
       "    </tr>\n",
       "    <tr>\n",
       "      <th>965</th>\n",
       "      <td>2023-01-01</td>\n",
       "      <td>BreakFast</td>\n",
       "      <td>RevenueCenter_3</td>\n",
       "      <td>0.0</td>\n",
       "    </tr>\n",
       "    <tr>\n",
       "      <th>966</th>\n",
       "      <td>2023-01-01</td>\n",
       "      <td>BreakFast</td>\n",
       "      <td>RevenueCenter_4</td>\n",
       "      <td>0.0</td>\n",
       "    </tr>\n",
       "    <tr>\n",
       "      <th>967</th>\n",
       "      <td>2023-01-01</td>\n",
       "      <td>BreakFast</td>\n",
       "      <td>RevenueCenter_5</td>\n",
       "      <td>21807.0</td>\n",
       "    </tr>\n",
       "  </tbody>\n",
       "</table>\n",
       "</div>"
      ],
      "text/plain": [
       "          Date MealPeriod RevenueCenterName  TotalCheckAmount\n",
       "963 2023-01-01  BreakFast   RevenueCenter_1            1499.4\n",
       "964 2023-01-01  BreakFast   RevenueCenter_2              35.0\n",
       "965 2023-01-01  BreakFast   RevenueCenter_3               0.0\n",
       "966 2023-01-01  BreakFast   RevenueCenter_4               0.0\n",
       "967 2023-01-01  BreakFast   RevenueCenter_5           21807.0"
      ]
     },
     "execution_count": 3,
     "metadata": {},
     "output_type": "execute_result"
    }
   ],
   "source": [
    "import pandas as pd\n",
    "import itertools\n",
    "\n",
    "# Step 1: Get all unique values\n",
    "all_dates = df[\"Date\"].unique()\n",
    "all_meals = df[\"MealPeriod\"].unique()\n",
    "all_centers = df[\"RevenueCenterName\"].unique()\n",
    "\n",
    "# Step 2: Create full cartesian product of all combinations\n",
    "all_combinations = pd.DataFrame(\n",
    "    list(itertools.product(all_dates, all_meals, all_centers)),\n",
    "    columns=[\"Date\", \"MealPeriod\", \"RevenueCenterName\"]\n",
    ")\n",
    "\n",
    "# Step 3: Group actual data\n",
    "actual_totals = (\n",
    "    df.groupby([\"Date\", \"MealPeriod\", \"RevenueCenterName\"])[\"CheckTotal\"]\n",
    "    .sum()\n",
    "    .reset_index()\n",
    "    .rename(columns={\"CheckTotal\": \"TotalCheckAmount\"})\n",
    ")\n",
    "\n",
    "# Step 4: Merge with full combinations and fill missing with 0\n",
    "final_df = (\n",
    "    all_combinations\n",
    "    .merge(actual_totals, on=[\"Date\", \"MealPeriod\", \"RevenueCenterName\"], how=\"left\")\n",
    "    .fillna({\"TotalCheckAmount\": 0})\n",
    "    .sort_values(by=[\"Date\", \"MealPeriod\", \"RevenueCenterName\"])\n",
    ")\n",
    "\n",
    "# Step 5: Save to CSV\n",
    "final_df.to_csv(\"complete_daily_revenue_totals.csv\", index=False)\n",
    "\n",
    "final_df.head()"
   ]
  },
  {
   "cell_type": "code",
   "execution_count": 4,
   "metadata": {},
   "outputs": [
    {
     "ename": "ModuleNotFoundError",
     "evalue": "No module named 'seaborn'",
     "output_type": "error",
     "traceback": [
      "\u001b[31m---------------------------------------------------------------------------\u001b[39m",
      "\u001b[31mModuleNotFoundError\u001b[39m                       Traceback (most recent call last)",
      "\u001b[36mCell\u001b[39m\u001b[36m \u001b[39m\u001b[32mIn[4]\u001b[39m\u001b[32m, line 1\u001b[39m\n\u001b[32m----> \u001b[39m\u001b[32m1\u001b[39m \u001b[38;5;28;01mimport\u001b[39;00m\u001b[38;5;250m \u001b[39m\u001b[34;01mseaborn\u001b[39;00m\u001b[38;5;250m \u001b[39m\u001b[38;5;28;01mas\u001b[39;00m\u001b[38;5;250m \u001b[39m\u001b[34;01msns\u001b[39;00m\n\u001b[32m      2\u001b[39m \u001b[38;5;28;01mimport\u001b[39;00m\u001b[38;5;250m \u001b[39m\u001b[34;01mmatplotlib\u001b[39;00m\u001b[34;01m.\u001b[39;00m\u001b[34;01mpyplot\u001b[39;00m\u001b[38;5;250m \u001b[39m\u001b[38;5;28;01mas\u001b[39;00m\u001b[38;5;250m \u001b[39m\u001b[34;01mplt\u001b[39;00m\n\u001b[32m      4\u001b[39m \u001b[38;5;66;03m# Create a line plot with 'Date' on the x-axis and 'TotalCheckAmount' on the y-axis\u001b[39;00m\n\u001b[32m      5\u001b[39m \u001b[38;5;66;03m# Different lines are colored by 'MealPeriod'\u001b[39;00m\n",
      "\u001b[31mModuleNotFoundError\u001b[39m: No module named 'seaborn'"
     ]
    }
   ],
   "source": [
    "import seaborn as sns\n",
    "import matplotlib.pyplot as plt\n",
    "\n",
    "# Create a line plot with 'Date' on the x-axis and 'TotalCheckAmount' on the y-axis\n",
    "# Different lines are colored by 'MealPeriod'\n",
    "sns.lineplot(data=final_df, x=\"Date\", y=\"TotalCheckAmount\", hue=\"MealPeriod\")\n",
    "\n",
    "# Set the title of the plot\n",
    "plt.title(\"Daily Revenue Trend by Meal Period\")\n",
    "\n",
    "# Label the y-axis as 'Revenue'\n",
    "plt.ylabel(\"Revenue\")\n",
    "\n",
    "# Rotate x-axis labels by 45 degrees for better readability\n",
    "plt.xticks(rotation=45)\n",
    "\n",
    "# Display the plot\n",
    "plt.show()\n"
   ]
  },
  {
   "cell_type": "code",
   "execution_count": 5,
   "metadata": {},
   "outputs": [
    {
     "ename": "NameError",
     "evalue": "name 'sns' is not defined",
     "output_type": "error",
     "traceback": [
      "\u001b[31m---------------------------------------------------------------------------\u001b[39m",
      "\u001b[31mNameError\u001b[39m                                 Traceback (most recent call last)",
      "\u001b[36mCell\u001b[39m\u001b[36m \u001b[39m\u001b[32mIn[5]\u001b[39m\u001b[32m, line 5\u001b[39m\n\u001b[32m      2\u001b[39m smoothed = final_df.copy()\n\u001b[32m      3\u001b[39m smoothed[\u001b[33m\"\u001b[39m\u001b[33mTotalCheckAmount\u001b[39m\u001b[33m\"\u001b[39m] = smoothed.groupby(\u001b[33m\"\u001b[39m\u001b[33mMealPeriod\u001b[39m\u001b[33m\"\u001b[39m)[\u001b[33m\"\u001b[39m\u001b[33mTotalCheckAmount\u001b[39m\u001b[33m\"\u001b[39m].transform(\u001b[38;5;28;01mlambda\u001b[39;00m x: x.rolling(\u001b[32m7\u001b[39m, min_periods=\u001b[32m1\u001b[39m).mean())\n\u001b[32m----> \u001b[39m\u001b[32m5\u001b[39m \u001b[43msns\u001b[49m.lineplot(data=smoothed, x=\u001b[33m\"\u001b[39m\u001b[33mDate\u001b[39m\u001b[33m\"\u001b[39m, y=\u001b[33m\"\u001b[39m\u001b[33mTotalCheckAmount\u001b[39m\u001b[33m\"\u001b[39m, hue=\u001b[33m\"\u001b[39m\u001b[33mMealPeriod\u001b[39m\u001b[33m\"\u001b[39m)\n\u001b[32m      6\u001b[39m plt.title(\u001b[33m\"\u001b[39m\u001b[33mSmoothed Revenue Trend by Meal Period\u001b[39m\u001b[33m\"\u001b[39m)\n\u001b[32m      7\u001b[39m plt.ylabel(\u001b[33m\"\u001b[39m\u001b[33m7-Day Moving Average Revenue\u001b[39m\u001b[33m\"\u001b[39m)\n",
      "\u001b[31mNameError\u001b[39m: name 'sns' is not defined"
     ]
    }
   ],
   "source": [
    "# Smooth revenue with 7-day moving average\n",
    "smoothed = final_df.copy()\n",
    "smoothed[\"TotalCheckAmount\"] = smoothed.groupby(\"MealPeriod\")[\"TotalCheckAmount\"].transform(lambda x: x.rolling(7, min_periods=1).mean())\n",
    "\n",
    "sns.lineplot(data=smoothed, x=\"Date\", y=\"TotalCheckAmount\", hue=\"MealPeriod\")\n",
    "plt.title(\"Smoothed Revenue Trend by Meal Period\")\n",
    "plt.ylabel(\"7-Day Moving Average Revenue\")\n",
    "plt.xticks(rotation=45)\n",
    "plt.show()\n",
    "# Smooth revenue with 7-day moving average\n",
    "smoothed = final_df.copy()\n",
    "smoothed[\"TotalCheckAmount\"] = smoothed.groupby(\"MealPeriod\")[\"TotalCheckAmount\"].transform(lambda x: x.rolling(7, min_periods=1).mean())\n",
    "\n",
    "sns.lineplot(data=smoothed, x=\"Date\", y=\"TotalCheckAmount\", hue=\"MealPeriod\")\n",
    "plt.title(\"Smoothed Revenue Trend by Meal Period\")\n",
    "plt.ylabel(\"7-Day Moving Average Revenue\")\n",
    "plt.xticks(rotation=45)\n",
    "plt.show()\n"
   ]
  },
  {
   "cell_type": "code",
   "execution_count": 6,
   "metadata": {},
   "outputs": [
    {
     "ename": "NameError",
     "evalue": "name 'sns' is not defined",
     "output_type": "error",
     "traceback": [
      "\u001b[31m---------------------------------------------------------------------------\u001b[39m",
      "\u001b[31mNameError\u001b[39m                                 Traceback (most recent call last)",
      "\u001b[36mCell\u001b[39m\u001b[36m \u001b[39m\u001b[32mIn[6]\u001b[39m\u001b[32m, line 1\u001b[39m\n\u001b[32m----> \u001b[39m\u001b[32m1\u001b[39m g = \u001b[43msns\u001b[49m.FacetGrid(final_df, col=\u001b[33m\"\u001b[39m\u001b[33mRevenueCenterName\u001b[39m\u001b[33m\"\u001b[39m, hue=\u001b[33m\"\u001b[39m\u001b[33mMealPeriod\u001b[39m\u001b[33m\"\u001b[39m, col_wrap=\u001b[32m3\u001b[39m, height=\u001b[32m4\u001b[39m)\n\u001b[32m      2\u001b[39m g.map(sns.lineplot, \u001b[33m\"\u001b[39m\u001b[33mDate\u001b[39m\u001b[33m\"\u001b[39m, \u001b[33m\"\u001b[39m\u001b[33mTotalCheckAmount\u001b[39m\u001b[33m\"\u001b[39m).add_legend()\n\u001b[32m      3\u001b[39m g.set_titles(\u001b[33m\"\u001b[39m\u001b[38;5;132;01m{col_name}\u001b[39;00m\u001b[33m\"\u001b[39m)\n",
      "\u001b[31mNameError\u001b[39m: name 'sns' is not defined"
     ]
    }
   ],
   "source": [
    "g = sns.FacetGrid(final_df, col=\"RevenueCenterName\", hue=\"MealPeriod\", col_wrap=3, height=4)\n",
    "g.map(sns.lineplot, \"Date\", \"TotalCheckAmount\").add_legend()\n",
    "g.set_titles(\"{col_name}\")\n",
    "plt.subplots_adjust(top=0.9)\n",
    "g.fig.suptitle(\"Revenue Trends by Revenue Center and Meal Period\")\n"
   ]
  },
  {
   "cell_type": "code",
   "execution_count": 7,
   "metadata": {},
   "outputs": [
    {
     "name": "stderr",
     "output_type": "stream",
     "text": [
      "/tmp/ipykernel_7040/1164184104.py:7: DeprecationWarning: DataFrameGroupBy.apply operated on the grouping columns. This behavior is deprecated, and in a future version of pandas the grouping columns will be excluded from the operation. Either pass `include_groups=False` to exclude the groupings or explicitly select the grouping columns after groupby to silence this warning.\n",
      "  .apply(lambda x: x.assign(SmoothedRevenue=x[\"TotalCheckAmount\"].rolling(7, min_periods=1).mean()))\n"
     ]
    }
   ],
   "source": [
    "final_df['Date'] = pd.to_datetime(final_df['Date'])\n",
    "\n",
    "# Sort and apply 7-day moving average per MealPeriod + RevenueCenterName\n",
    "smoothed_df = (\n",
    "    final_df.sort_values(\"Date\")\n",
    "    .groupby([\"MealPeriod\", \"RevenueCenterName\"], as_index=False)\n",
    "    .apply(lambda x: x.assign(SmoothedRevenue=x[\"TotalCheckAmount\"].rolling(7, min_periods=1).mean()))\n",
    "    .reset_index(drop=True)\n",
    ")\n"
   ]
  },
  {
   "cell_type": "code",
   "execution_count": 8,
   "metadata": {},
   "outputs": [
    {
     "ename": "ModuleNotFoundError",
     "evalue": "No module named 'seaborn'",
     "output_type": "error",
     "traceback": [
      "\u001b[31m---------------------------------------------------------------------------\u001b[39m",
      "\u001b[31mModuleNotFoundError\u001b[39m                       Traceback (most recent call last)",
      "\u001b[36mCell\u001b[39m\u001b[36m \u001b[39m\u001b[32mIn[8]\u001b[39m\u001b[32m, line 1\u001b[39m\n\u001b[32m----> \u001b[39m\u001b[32m1\u001b[39m \u001b[38;5;28;01mimport\u001b[39;00m\u001b[38;5;250m \u001b[39m\u001b[34;01mseaborn\u001b[39;00m\u001b[38;5;250m \u001b[39m\u001b[38;5;28;01mas\u001b[39;00m\u001b[38;5;250m \u001b[39m\u001b[34;01msns\u001b[39;00m\n\u001b[32m      2\u001b[39m \u001b[38;5;28;01mimport\u001b[39;00m\u001b[38;5;250m \u001b[39m\u001b[34;01mmatplotlib\u001b[39;00m\u001b[34;01m.\u001b[39;00m\u001b[34;01mpyplot\u001b[39;00m\u001b[38;5;250m \u001b[39m\u001b[38;5;28;01mas\u001b[39;00m\u001b[38;5;250m \u001b[39m\u001b[34;01mplt\u001b[39;00m\n\u001b[32m      4\u001b[39m \u001b[38;5;66;03m# Plot only active revenue centers (optional filter)\u001b[39;00m\n",
      "\u001b[31mModuleNotFoundError\u001b[39m: No module named 'seaborn'"
     ]
    }
   ],
   "source": [
    "import seaborn as sns\n",
    "import matplotlib.pyplot as plt\n",
    "\n",
    "# Plot only active revenue centers (optional filter)\n",
    "active_centers = smoothed_df.groupby(\"RevenueCenterName\")[\"TotalCheckAmount\"].sum().sort_values(ascending=False).head(6).index\n",
    "filtered_df = smoothed_df[smoothed_df[\"RevenueCenterName\"].isin(active_centers)]\n",
    "\n",
    "g = sns.FacetGrid(\n",
    "    filtered_df,\n",
    "    col=\"RevenueCenterName\",\n",
    "    hue=\"MealPeriod\",\n",
    "    col_wrap=3,\n",
    "    height=4,\n",
    "    aspect=1.5,\n",
    "    sharey=False\n",
    ")\n",
    "\n",
    "g.map(sns.lineplot, \"Date\", \"SmoothedRevenue\").add_legend()\n",
    "g.set_titles(\"{col_name}\")\n",
    "g.fig.subplots_adjust(top=0.9)\n",
    "g.fig.suptitle(\"Smoothed Revenue Trends by Revenue Center and Meal Period\")\n",
    "plt.xticks(rotation=45)\n",
    "plt.show()\n"
   ]
  },
  {
   "cell_type": "code",
   "execution_count": 9,
   "metadata": {},
   "outputs": [
    {
     "name": "stdout",
     "output_type": "stream",
     "text": [
      "Collecting seaborn\n",
      "  Downloading seaborn-0.13.2-py3-none-any.whl.metadata (5.4 kB)\n",
      "Requirement already satisfied: numpy!=1.24.0,>=1.20 in /home/kuggix/miniconda3/envs/web/lib/python3.12/site-packages (from seaborn) (2.2.6)\n",
      "Requirement already satisfied: pandas>=1.2 in /home/kuggix/miniconda3/envs/web/lib/python3.12/site-packages (from seaborn) (2.2.3)\n",
      "Collecting matplotlib!=3.6.1,>=3.4 (from seaborn)\n",
      "  Downloading matplotlib-3.10.3-cp312-cp312-manylinux_2_17_x86_64.manylinux2014_x86_64.whl.metadata (11 kB)\n",
      "Collecting contourpy>=1.0.1 (from matplotlib!=3.6.1,>=3.4->seaborn)\n",
      "  Downloading contourpy-1.3.2-cp312-cp312-manylinux_2_17_x86_64.manylinux2014_x86_64.whl.metadata (5.5 kB)\n",
      "Collecting cycler>=0.10 (from matplotlib!=3.6.1,>=3.4->seaborn)\n",
      "  Downloading cycler-0.12.1-py3-none-any.whl.metadata (3.8 kB)\n",
      "Collecting fonttools>=4.22.0 (from matplotlib!=3.6.1,>=3.4->seaborn)\n",
      "  Downloading fonttools-4.58.4-cp312-cp312-manylinux1_x86_64.manylinux2014_x86_64.manylinux_2_17_x86_64.manylinux_2_5_x86_64.whl.metadata (106 kB)\n",
      "Collecting kiwisolver>=1.3.1 (from matplotlib!=3.6.1,>=3.4->seaborn)\n",
      "  Downloading kiwisolver-1.4.8-cp312-cp312-manylinux_2_17_x86_64.manylinux2014_x86_64.whl.metadata (6.2 kB)\n",
      "Requirement already satisfied: packaging>=20.0 in /home/kuggix/miniconda3/envs/web/lib/python3.12/site-packages (from matplotlib!=3.6.1,>=3.4->seaborn) (25.0)\n",
      "Collecting pillow>=8 (from matplotlib!=3.6.1,>=3.4->seaborn)\n",
      "  Downloading pillow-11.2.1-cp312-cp312-manylinux_2_28_x86_64.whl.metadata (8.9 kB)\n",
      "Collecting pyparsing>=2.3.1 (from matplotlib!=3.6.1,>=3.4->seaborn)\n",
      "  Using cached pyparsing-3.2.3-py3-none-any.whl.metadata (5.0 kB)\n",
      "Requirement already satisfied: python-dateutil>=2.7 in /home/kuggix/miniconda3/envs/web/lib/python3.12/site-packages (from matplotlib!=3.6.1,>=3.4->seaborn) (2.9.0.post0)\n",
      "Requirement already satisfied: pytz>=2020.1 in /home/kuggix/miniconda3/envs/web/lib/python3.12/site-packages (from pandas>=1.2->seaborn) (2025.2)\n",
      "Requirement already satisfied: tzdata>=2022.7 in /home/kuggix/miniconda3/envs/web/lib/python3.12/site-packages (from pandas>=1.2->seaborn) (2025.2)\n",
      "Requirement already satisfied: six>=1.5 in /home/kuggix/miniconda3/envs/web/lib/python3.12/site-packages (from python-dateutil>=2.7->matplotlib!=3.6.1,>=3.4->seaborn) (1.17.0)\n",
      "Downloading seaborn-0.13.2-py3-none-any.whl (294 kB)\n",
      "Downloading matplotlib-3.10.3-cp312-cp312-manylinux_2_17_x86_64.manylinux2014_x86_64.whl (8.6 MB)\n",
      "\u001b[2K   \u001b[90m━━━━━━━━━━━━━━━━━━━━━━━━━━━━━━━━━━━━━━━━\u001b[0m \u001b[32m8.6/8.6 MB\u001b[0m \u001b[31m11.6 MB/s\u001b[0m eta \u001b[36m0:00:00\u001b[0ma \u001b[36m0:00:01\u001b[0m\n",
      "\u001b[?25hDownloading contourpy-1.3.2-cp312-cp312-manylinux_2_17_x86_64.manylinux2014_x86_64.whl (323 kB)\n",
      "Downloading cycler-0.12.1-py3-none-any.whl (8.3 kB)\n",
      "Downloading fonttools-4.58.4-cp312-cp312-manylinux1_x86_64.manylinux2014_x86_64.manylinux_2_17_x86_64.manylinux_2_5_x86_64.whl (4.9 MB)\n",
      "\u001b[2K   \u001b[90m━━━━━━━━━━━━━━━━━━━━━━━━━━━━━━━━━━━━━━━━\u001b[0m \u001b[32m4.9/4.9 MB\u001b[0m \u001b[31m8.6 MB/s\u001b[0m eta \u001b[36m0:00:00\u001b[0ma \u001b[36m0:00:01\u001b[0m\n",
      "\u001b[?25hDownloading kiwisolver-1.4.8-cp312-cp312-manylinux_2_17_x86_64.manylinux2014_x86_64.whl (1.5 MB)\n",
      "\u001b[2K   \u001b[90m━━━━━━━━━━━━━━━━━━━━━━━━━━━━━━━━━━━━━━━━\u001b[0m \u001b[32m1.5/1.5 MB\u001b[0m \u001b[31m8.6 MB/s\u001b[0m eta \u001b[36m0:00:00\u001b[0m\n",
      "\u001b[?25hDownloading pillow-11.2.1-cp312-cp312-manylinux_2_28_x86_64.whl (4.6 MB)\n",
      "\u001b[2K   \u001b[90m━━━━━━━━━━━━━━━━━━━━━━━━━━━━━━━━━━━━━━━━\u001b[0m \u001b[32m4.6/4.6 MB\u001b[0m \u001b[31m8.6 MB/s\u001b[0m eta \u001b[36m0:00:00\u001b[0m\n",
      "\u001b[?25hUsing cached pyparsing-3.2.3-py3-none-any.whl (111 kB)\n",
      "Installing collected packages: pyparsing, pillow, kiwisolver, fonttools, cycler, contourpy, matplotlib, seaborn\n",
      "\u001b[2K   \u001b[90m━━━━━━━━━━━━━━━━━━━━━━━━━━━━━━━━━━━━━━━━\u001b[0m \u001b[32m8/8\u001b[0m [seaborn]m7/8\u001b[0m [seaborn]ib]\n",
      "\u001b[1A\u001b[2KSuccessfully installed contourpy-1.3.2 cycler-0.12.1 fonttools-4.58.4 kiwisolver-1.4.8 matplotlib-3.10.3 pillow-11.2.1 pyparsing-3.2.3 seaborn-0.13.2\n"
     ]
    }
   ],
   "source": [
    "!pip install seaborn"
   ]
  },
  {
   "cell_type": "code",
   "execution_count": null,
   "metadata": {},
   "outputs": [],
   "source": []
  }
 ],
 "metadata": {
  "kernelspec": {
   "display_name": "web",
   "language": "python",
   "name": "python3"
  },
  "language_info": {
   "codemirror_mode": {
    "name": "ipython",
    "version": 3
   },
   "file_extension": ".py",
   "mimetype": "text/x-python",
   "name": "python",
   "nbconvert_exporter": "python",
   "pygments_lexer": "ipython3",
   "version": "3.12.9"
  }
 },
 "nbformat": 4,
 "nbformat_minor": 2
}
