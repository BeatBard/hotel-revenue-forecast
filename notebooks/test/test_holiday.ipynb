{
 "cells": [
  {
   "cell_type": "code",
   "execution_count": 1,
   "metadata": {},
   "outputs": [],
   "source": [
    "import pandas as pd\n",
    "import holidays\n",
    "\n",
    "# Example: Future date range\n",
    "future_dates = pd.date_range('2025-01-01', '2025-12-31')\n",
    "\n",
    "# Get UAE public holidays for 2025\n",
    "uae_holidays = holidays.country_holidays('AE', years=[2025])"
   ]
  },
  {
   "cell_type": "code",
   "execution_count": 2,
   "metadata": {},
   "outputs": [
    {
     "name": "stdout",
     "output_type": "stream",
     "text": [
      "{datetime.date(2025, 1, 1): 'رأس السنة الميلادية', datetime.date(2025, 12, 2): 'اليوم الوطني', datetime.date(2025, 12, 3): 'اليوم الوطني', datetime.date(2025, 3, 30): 'عيد الفطر', datetime.date(2025, 3, 31): 'عطلة عيد الفطر', datetime.date(2025, 4, 1): 'عطلة عيد الفطر', datetime.date(2025, 6, 3): 'وقفة عرفة', datetime.date(2025, 6, 4): 'عيد الأضحى', datetime.date(2025, 6, 5): 'عطلة عيد الأضحى', datetime.date(2025, 6, 6): 'عطلة عيد الأضحى', datetime.date(2025, 6, 26): 'رأس السنة الهجرية', datetime.date(2025, 9, 5): 'عيد المولد النبوي'}\n"
     ]
    },
    {
     "ename": "",
     "evalue": "",
     "output_type": "error",
     "traceback": [
      "\u001b[1;31mThe Kernel crashed while executing code in the current cell or a previous cell. \n",
      "\u001b[1;31mPlease review the code in the cell(s) to identify a possible cause of the failure. \n",
      "\u001b[1;31mClick <a href='https://aka.ms/vscodeJupyterKernelCrash'>here</a> for more info. \n",
      "\u001b[1;31mView Jupyter <a href='command:jupyter.viewOutput'>log</a> for further details."
     ]
    }
   ],
   "source": [
    "print(uae_holidays)"
   ]
  },
  {
   "cell_type": "code",
   "execution_count": null,
   "metadata": {},
   "outputs": [],
   "source": []
  }
 ],
 "metadata": {
  "kernelspec": {
   "display_name": "myenv1",
   "language": "python",
   "name": "python3"
  },
  "language_info": {
   "codemirror_mode": {
    "name": "ipython",
    "version": 3
   },
   "file_extension": ".py",
   "mimetype": "text/x-python",
   "name": "python",
   "nbconvert_exporter": "python",
   "pygments_lexer": "ipython3",
   "version": "undefined.undefined.undefined"
  }
 },
 "nbformat": 4,
 "nbformat_minor": 2
}
