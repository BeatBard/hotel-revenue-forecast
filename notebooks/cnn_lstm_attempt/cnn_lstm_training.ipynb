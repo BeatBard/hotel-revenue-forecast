{
 "cells": [
  {
   "cell_type": "code",
   "execution_count": 1,
   "metadata": {},
   "outputs": [
    {
     "name": "stdout",
     "output_type": "stream",
     "text": [
      "✓ All libraries imported successfully\n",
      "✓ TensorFlow version: 2.19.0\n"
     ]
    }
   ],
   "source": [
    "# Cell 1: Import required libraries\n",
    "import numpy as np\n",
    "import pandas as pd\n",
    "import tensorflow as tf\n",
    "from tensorflow.keras.models import Sequential\n",
    "from tensorflow.keras.layers import Conv1D, LSTM, Dense, Dropout, MaxPooling1D\n",
    "from tensorflow.keras.optimizers import Adam\n",
    "from tensorflow.keras.callbacks import EarlyStopping, ReduceLROnPlateau, ModelCheckpoint\n",
    "from sklearn.metrics import mean_absolute_error, mean_squared_error\n",
    "import matplotlib.pyplot as plt\n",
    "import warnings\n",
    "warnings.filterwarnings('ignore')\n",
    "\n",
    "print(\"✓ All libraries imported successfully\")\n",
    "print(f\"✓ TensorFlow version: {tf.__version__}\")"
   ]
  },
  {
   "cell_type": "code",
   "execution_count": 3,
   "metadata": {},
   "outputs": [
    {
     "name": "stdout",
     "output_type": "stream",
     "text": [
      "==================================================\n",
      "LOADING CNN-LSTM READY DATASET\n",
      "==================================================\n",
      "✓ Transformed data shape: (1458, 65)\n",
      "✓ Target data shape: (1458, 4)\n",
      "✓ Transformed data columns: 65 features\n",
      "✓ Target data columns: 4 target variables\n",
      "\n",
      "First 3 rows of transformed data:\n",
      "       Year  CheckTotal   is_zero  IsRamadan     IsEid  IsPreRamadan  \\\n",
      "0 -0.575766    0.015624 -0.083103  -0.645685 -0.184506     -0.307562   \n",
      "1 -0.575766    2.072745 -0.083103  -0.645685 -0.184506     -0.307562   \n",
      "2 -0.575766   -0.155666 -0.083103  -0.645685 -0.184506     -0.307562   \n",
      "\n",
      "   IsPostRamadan  IsLast10Ramadan     IsDSF  IsSummerEvent  ...  \\\n",
      "0      -0.307562        -0.207168 -0.261021      -0.389434  ...   \n",
      "1      -0.307562        -0.207168 -0.261021      -0.389434  ...   \n",
      "2      -0.307562        -0.207168 -0.261021      -0.389434  ...   \n",
      "\n",
      "   Event_Ramadan-First10Days  Event_Ramadan-Last10Days  Event_Ramadan-Middle  \\\n",
      "0                  -0.207168                 -0.207168             -0.201706   \n",
      "1                  -0.207168                 -0.207168             -0.201706   \n",
      "2                  -0.207168                 -0.207168             -0.201706   \n",
      "\n",
      "   Tourism_0  Tourism_1  Tourism_2  Tourism_3  Impact_-1  Impact_0  Impact_1  \n",
      "0  -0.371717  -1.434086  -0.399881   3.705033  -0.311553 -2.615093  4.957716  \n",
      "1  -0.371717  -1.434086  -0.399881   3.705033  -0.311553 -2.615093  4.957716  \n",
      "2  -0.371717  -1.434086  -0.399881   3.705033  -0.311553 -2.615093  4.957716  \n",
      "\n",
      "[3 rows x 65 columns]\n"
     ]
    }
   ],
   "source": [
    "# Cell 2: Load the transformed datasets\n",
    "print(\"=\"*50)\n",
    "print(\"LOADING CNN-LSTM READY DATASET\")\n",
    "print(\"=\"*50)\n",
    "\n",
    "# Load the datasets\n",
    "df_transformed = pd.read_csv('cnn_lstm_ready_dataset.csv')\n",
    "target_data = pd.read_csv('target_data_for_sequences.csv')\n",
    "\n",
    "print(f\"✓ Transformed data shape: {df_transformed.shape}\")\n",
    "print(f\"✓ Target data shape: {target_data.shape}\")\n",
    "print(f\"✓ Transformed data columns: {len(df_transformed.columns)} features\")\n",
    "print(f\"✓ Target data columns: {len(target_data.columns)} target variables\")\n",
    "\n",
    "# Display first few rows\n",
    "print(f\"\\nFirst 3 rows of transformed data:\")\n",
    "print(df_transformed.head(3))"
   ]
  },
  {
   "cell_type": "code",
   "execution_count": null,
   "metadata": {},
   "outputs": [],
   "source": [
    "def create_sequences_for_cnn_lstm(df_transformed, target_data, sequence_length=30, forecast_horizon=7):\n",
    "    \"\"\"\n",
    "    Create sequences for CNN-LSTM training from loaded CSV files\n",
    "    \"\"\"\n",
    "    print(\"=\"*50)\n",
    "    print(\"CREATING SEQUENCES FOR CNN-LSTM\")\n",
    "    print(\"=\"*50)\n",
    "    \n",
    "    # Parameters\n",
    "    SEQ_LENGTH = sequence_length  # Look back 30 days\n",
    "    FORECAST_HORIZON = forecast_horizon  # Predict next 7 days\n",
    "    \n",
    "    # Sort by date to ensure proper sequence order\n",
    "    df_transformed_sorted = df_transformed.sort_values('Date').reset_index(drop=True)\n",
    "    target_data_sorted = target_data.sort_values('Date').reset_index(drop=True)\n",
    "    \n",
    "    # Pivot target data to wide format\n",
    "    target_pivot = target_data_sorted.pivot_table(\n",
    "        index='Date', \n",
    "        columns=['RevenueCenterName', 'MealPeriod'], \n",
    "        values='CheckTotal', \n",
    "        fill_value=0\n",
    "    ).reset_index()\n",
    "    \n",
    "    # Create column names for revenue streams\n",
    "    target_pivot.columns = ['Date'] + [f\"{col[0]}_{col[1]}\" for col in target_pivot.columns[1:]]\n",
    "    \n",
    "    # Ensure same date range\n",
    "    common_dates = set(df_transformed_sorted['Date']).intersection(set(target_pivot['Date']))\n",
    "    df_transformed_sorted = df_transformed_sorted[df_transformed_sorted['Date'].isin(common_dates)].reset_index(drop=True)\n",
    "    target_pivot = target_pivot[target_pivot['Date'].isin(common_dates)].reset_index(drop=True)\n",
    "    \n",
    "    # Remove Date column from features\n",
    "    feature_columns = [col for col in df_transformed_sorted.columns if col != 'Date']\n",
    "    features = df_transformed_sorted[feature_columns].values\n",
    "    \n",
    "    # Target columns (revenue targets)\n",
    "    target_columns = [col for col in target_pivot.columns if col != 'Date']\n",
    "    targets = target_pivot[target_columns].values\n",
    "    \n",
    "    print(f\"✓ Feature shape: {features.shape}\")\n",
    "    print(f\"✓ Target shape: {targets.shape}\")\n",
    "    print(f\"✓ Number of feature columns: {len(feature_columns)}\")\n",
    "    print(f\"✓ Number of target columns: {len(target_columns)}\")\n",
    "    print(f\"✓ Target columns: {target_columns}\")\n",
    "    print(f\"✓ Sequence length: {SEQ_LENGTH} days\")\n",
    "    print(f\"✓ Forecast horizon: {FORECAST_HORIZON} days\")\n",
    "    \n",
    "    # Create sequences\n",
    "    X, y = [], []\n",
    "    \n",
    "    for i in range(SEQ_LENGTH, len(features) - FORECAST_HORIZON + 1):\n",
    "        # Features: past 30 days\n",
    "        X.append(features[i-SEQ_LENGTH:i])\n",
    "        \n",
    "        # Targets: next 7 days\n",
    "        y.append(targets[i:i+FORECAST_HORIZON])\n",
    "    \n",
    "    X = np.array(X)\n",
    "    y = np.array(y)\n",
    "    \n",
    "    print(f\"✓ Final X shape: {X.shape}\")  # (samples, 30, features)\n",
    "    print(f\"✓ Final y shape: {y.shape}\")  # (samples, 7, revenue_targets)\n",
    "    print(f\"✓ Total sequences created: {len(X)}\")\n",
    "    \n",
    "    return X, y, feature_columns, target_columns"
   ]
  },
  {
   "cell_type": "code",
   "execution_count": 7,
   "metadata": {},
   "outputs": [
    {
     "name": "stdout",
     "output_type": "stream",
     "text": [
      "==================================================\n",
      "CLEANING AND PREPARING DATA FOR CNN-LSTM\n",
      "==================================================\n",
      "Original data info:\n",
      "df_transformed shape: (1458, 65)\n",
      "df_transformed columns: ['Year', 'CheckTotal', 'is_zero', 'IsRamadan', 'IsEid', 'IsPreRamadan', 'IsPostRamadan', 'IsLast10Ramadan', 'IsDSF', 'IsSummerEvent', 'IsNationalDay', 'IsNewYear', 'IsMarathon', 'IsGITEX', 'IsAirshow', 'IsFoodFestival', 'IsPreEvent', 'IsPostEvent', 'Month_sin', 'Month_cos', 'DayOfWeek_sin', 'DayOfWeek_cos', 'Meal_Breakfast', 'Meal_Dinner', 'Meal_Lunch', 'Event_Dubai-Airshow', 'Event_Dubai-Food-Festival', 'Event_Dubai-Marathon', 'Event_Dubai-Shopping-Festival', 'Event_Dubai-Summer-Surprises', 'Event_Eid-Adha', 'Event_Flag-Day', 'Event_GITEX-Technology-Week', 'Event_New-Year-Celebrations', 'Event_Normal', 'Event_Post-Dubai-Airshow', 'Event_Post-Dubai-Marathon', 'Event_Post-Eid-Adha', 'Event_Post-Flag-Day', 'Event_Post-GITEX-Technology-Week', 'Event_Post-New-Year-Celebrations', 'Event_Post-Ramadan-Recovery', 'Event_Post-Ramadan-Week1', 'Event_Post-Summer-Event', 'Event_Pre-Commemoration-Day', 'Event_Pre-DSF', 'Event_Pre-Dubai-Airshow', 'Event_Pre-Dubai-Food-Festival', 'Event_Pre-Dubai-Marathon', 'Event_Pre-Eid-Adha', 'Event_Pre-Flag-Day', 'Event_Pre-GITEX-Technology-Week', 'Event_Pre-Ramadan-Early', 'Event_Pre-Ramadan-Late', 'Event_Pre-UAE-National-Day', 'Event_Ramadan-First10Days', 'Event_Ramadan-Last10Days', 'Event_Ramadan-Middle', 'Tourism_0', 'Tourism_1', 'Tourism_2', 'Tourism_3', 'Impact_-1', 'Impact_0', 'Impact_1']\n",
      "target_data shape: (1458, 4)\n",
      "target_data columns: ['Date', 'RevenueCenterName', 'MealPeriod', 'CheckTotal']\n",
      "✓ Data lengths match - assuming already aligned by row index\n",
      "\n",
      "🔄 Pivoting target data to wide format...\n",
      "✓ Pivoted target shape: (486, 4)\n",
      "✓ Pivoted target columns: ['day_id', 'Breakfast', 'Dinner', 'Lunch']\n",
      "\n",
      "📊 Aggregating features to day level...\n",
      "✓ Aggregated features shape: (486, 65)\n",
      "✓ Final aligned shapes:\n",
      "Features: (486, 65)\n",
      "Targets: (486, 3)\n",
      "\n",
      "🧹 Cleaning data types...\n",
      "✅ Final cleaned data:\n",
      "Features shape: (486, 65)\n",
      "Targets shape: (486, 3)\n",
      "Target columns: ['Breakfast', 'Dinner', 'Lunch']\n",
      "Data lengths match: True\n",
      "\n",
      "==================================================\n",
      "CREATING SEQUENCES FOR CNN-LSTM\n",
      "==================================================\n",
      "✓ Feature shape: (486, 65)\n",
      "✓ Target shape: (486, 3)\n",
      "✓ Sequence length: 30 days\n",
      "✓ Forecast horizon: 7 days\n",
      "✓ Target columns: ['Breakfast', 'Dinner', 'Lunch']\n",
      "✓ Final X shape: (450, 30, 65)\n",
      "✓ Final y shape: (450, 7, 3)\n",
      "✓ X dtype: float32\n",
      "✓ y dtype: float32\n",
      "✓ Total sequences created: 450\n",
      "\n",
      "📊 Shape interpretation:\n",
      "X: (450 sequences, 30 days history, 65 features)\n",
      "y: (450 sequences, 7 days forecast, 3 revenue streams)\n",
      "\n",
      "🎉 SUCCESS! Sequences created successfully!\n",
      "✓ Input sequences (X): (450, 30, 65)\n",
      "✓ Output sequences (y): (450, 7, 3)\n",
      "✓ Feature columns: 65\n",
      "✓ Target columns: ['Breakfast', 'Dinner', 'Lunch']\n",
      "✓ Data types: X=float32, y=float32\n"
     ]
    }
   ],
   "source": [
    "# Cell 4: Corrected - Handle data without Date column in features\n",
    "def clean_and_prepare_data_fixed(df_transformed, target_data):\n",
    "    \"\"\"\n",
    "    Clean dataframes when features don't have Date column\n",
    "    \"\"\"\n",
    "    print(\"=\"*50)\n",
    "    print(\"CLEANING AND PREPARING DATA FOR CNN-LSTM\")\n",
    "    print(\"=\"*50)\n",
    "    \n",
    "    # Step 1: Check original data\n",
    "    print(\"Original data info:\")\n",
    "    print(f\"df_transformed shape: {df_transformed.shape}\")\n",
    "    print(f\"df_transformed columns: {list(df_transformed.columns)}\")\n",
    "    print(f\"target_data shape: {target_data.shape}\")\n",
    "    print(f\"target_data columns: {list(target_data.columns)}\")\n",
    "    \n",
    "    # Check if data is already aligned by length\n",
    "    if len(df_transformed) == len(target_data):\n",
    "        print(\"✓ Data lengths match - assuming already aligned by row index\")\n",
    "        \n",
    "        # Step 2: Pivot target data from long to wide format\n",
    "        print(\"\\n🔄 Pivoting target data to wide format...\")\n",
    "        \n",
    "        # Add row index to help with pivoting\n",
    "        target_with_index = target_data.copy()\n",
    "        target_with_index['row_index'] = target_with_index.index\n",
    "        \n",
    "        # Create a day identifier (since we know there are 3 meal periods per day)\n",
    "        target_with_index['day_id'] = target_with_index['row_index'] // 3\n",
    "        \n",
    "        target_pivot = target_with_index.pivot_table(\n",
    "            index='day_id', \n",
    "            columns='MealPeriod', \n",
    "            values='CheckTotal', \n",
    "            fill_value=0\n",
    "        ).reset_index()\n",
    "        \n",
    "        print(f\"✓ Pivoted target shape: {target_pivot.shape}\")\n",
    "        print(f\"✓ Pivoted target columns: {list(target_pivot.columns)}\")\n",
    "        \n",
    "        # Step 3: Aggregate features to day level (average of 3 meal periods per day)\n",
    "        print(\"\\n📊 Aggregating features to day level...\")\n",
    "        \n",
    "        # Add day_id to features\n",
    "        df_features_with_day = df_transformed.copy()\n",
    "        df_features_with_day['day_id'] = df_features_with_day.index // 3\n",
    "        \n",
    "        # Aggregate features by day (mean of the 3 meal periods)\n",
    "        df_features_daily = df_features_with_day.groupby('day_id').mean().reset_index()\n",
    "        df_features_daily = df_features_daily.drop('day_id', axis=1)\n",
    "        \n",
    "        print(f\"✓ Aggregated features shape: {df_features_daily.shape}\")\n",
    "        \n",
    "        # Step 4: Align the data\n",
    "        target_values = target_pivot.drop('day_id', axis=1)\n",
    "        \n",
    "        # Ensure same number of rows\n",
    "        min_rows = min(len(df_features_daily), len(target_values))\n",
    "        df_features_final = df_features_daily.iloc[:min_rows]\n",
    "        target_values_final = target_values.iloc[:min_rows]\n",
    "        \n",
    "        print(f\"✓ Final aligned shapes:\")\n",
    "        print(f\"Features: {df_features_final.shape}\")\n",
    "        print(f\"Targets: {target_values_final.shape}\")\n",
    "        \n",
    "    else:\n",
    "        raise ValueError(f\"Data length mismatch: features={len(df_transformed)}, targets={len(target_data)}\")\n",
    "    \n",
    "    # Step 5: Clean data types and handle missing values\n",
    "    print(\"\\n🧹 Cleaning data types...\")\n",
    "    \n",
    "    # Features: ensure all numeric\n",
    "    df_features_clean = df_features_final.select_dtypes(include=[np.number])\n",
    "    df_features_clean = df_features_clean.fillna(0).astype(np.float32)\n",
    "    \n",
    "    # Targets: ensure all numeric\n",
    "    df_targets_clean = target_values_final.fillna(0).astype(np.float32)\n",
    "    \n",
    "    print(f\"✅ Final cleaned data:\")\n",
    "    print(f\"Features shape: {df_features_clean.shape}\")\n",
    "    print(f\"Targets shape: {df_targets_clean.shape}\")\n",
    "    print(f\"Target columns: {list(df_targets_clean.columns)}\")\n",
    "    print(f\"Data lengths match: {len(df_features_clean) == len(df_targets_clean)}\")\n",
    "    \n",
    "    return df_features_clean, df_targets_clean\n",
    "\n",
    "def create_sequences_for_cnn_lstm_corrected(df_features, df_targets, sequence_length=30, forecast_horizon=7):\n",
    "    \"\"\"\n",
    "    Create sequences from properly aligned and cleaned data\n",
    "    \"\"\"\n",
    "    print(\"\\n\" + \"=\"*50)\n",
    "    print(\"CREATING SEQUENCES FOR CNN-LSTM\")\n",
    "    print(\"=\"*50)\n",
    "    \n",
    "    # Parameters\n",
    "    SEQ_LENGTH = sequence_length\n",
    "    FORECAST_HORIZON = forecast_horizon\n",
    "    \n",
    "    # Convert to arrays\n",
    "    features = df_features.values\n",
    "    targets = df_targets.values\n",
    "    feature_columns = df_features.columns.tolist()\n",
    "    target_columns = df_targets.columns.tolist()\n",
    "    \n",
    "    print(f\"✓ Feature shape: {features.shape}\")\n",
    "    print(f\"✓ Target shape: {targets.shape}\")\n",
    "    print(f\"✓ Sequence length: {SEQ_LENGTH} days\")\n",
    "    print(f\"✓ Forecast horizon: {FORECAST_HORIZON} days\")\n",
    "    print(f\"✓ Target columns: {target_columns}\")\n",
    "    \n",
    "    # Verify we have enough data\n",
    "    min_data_needed = SEQ_LENGTH + FORECAST_HORIZON\n",
    "    if len(features) < min_data_needed:\n",
    "        raise ValueError(f\"Not enough data. Need at least {min_data_needed} rows, got {len(features)}\")\n",
    "    \n",
    "    # Create sequences\n",
    "    X, y = [], []\n",
    "    \n",
    "    for i in range(SEQ_LENGTH, len(features) - FORECAST_HORIZON + 1):\n",
    "        # Features: past SEQ_LENGTH days\n",
    "        X.append(features[i-SEQ_LENGTH:i])\n",
    "        \n",
    "        # Targets: next FORECAST_HORIZON days\n",
    "        y.append(targets[i:i+FORECAST_HORIZON])\n",
    "    \n",
    "    X = np.array(X, dtype=np.float32)\n",
    "    y = np.array(y, dtype=np.float32)\n",
    "    \n",
    "    print(f\"✓ Final X shape: {X.shape}\")  # (samples, sequence_length, features)\n",
    "    print(f\"✓ Final y shape: {y.shape}\")  # (samples, forecast_horizon, revenue_streams)\n",
    "    print(f\"✓ X dtype: {X.dtype}\")\n",
    "    print(f\"✓ y dtype: {y.dtype}\")\n",
    "    print(f\"✓ Total sequences created: {len(X)}\")\n",
    "    \n",
    "    # Show example of what each dimension means\n",
    "    print(f\"\\n📊 Shape interpretation:\")\n",
    "    print(f\"X: ({X.shape[0]} sequences, {X.shape[1]} days history, {X.shape[2]} features)\")\n",
    "    print(f\"y: ({y.shape[0]} sequences, {y.shape[1]} days forecast, {y.shape[2]} revenue streams)\")\n",
    "    \n",
    "    return X, y, feature_columns, target_columns\n",
    "\n",
    "# Execute the corrected pipeline\n",
    "try:\n",
    "    # Step 1: Clean and prepare data without Date column dependency\n",
    "    df_features_clean, df_targets_clean = clean_and_prepare_data_fixed(df_transformed, target_data)\n",
    "    \n",
    "    # Step 2: Create sequences\n",
    "    X, y, feature_cols, target_cols = create_sequences_for_cnn_lstm_corrected(\n",
    "        df_features_clean, df_targets_clean\n",
    "    )\n",
    "    \n",
    "    print(f\"\\n🎉 SUCCESS! Sequences created successfully!\")\n",
    "    print(f\"✓ Input sequences (X): {X.shape}\")\n",
    "    print(f\"✓ Output sequences (y): {y.shape}\")\n",
    "    print(f\"✓ Feature columns: {len(feature_cols)}\")\n",
    "    print(f\"✓ Target columns: {target_cols}\")\n",
    "    print(f\"✓ Data types: X={X.dtype}, y={y.dtype}\")\n",
    "    \n",
    "except Exception as e:\n",
    "    print(f\"❌ Error: {e}\")\n",
    "    import traceback\n",
    "    traceback.print_exc()"
   ]
  },
  {
   "cell_type": "code",
   "execution_count": 17,
   "metadata": {},
   "outputs": [
    {
     "name": "stdout",
     "output_type": "stream",
     "text": [
      "[[[-0.5757663   0.6442341  -0.08310281 ... -0.3115533  -2.6150928\n",
      "    4.957716  ]\n",
      "  [-0.5757663   0.20041224 -0.08310281 ... -0.3115533   0.38239563\n",
      "   -0.20170578]\n",
      "  [-0.5757663   0.10293791 -0.08310281 ... -0.3115533   0.38239563\n",
      "   -0.20170578]\n",
      "  ...\n",
      "  [-0.5757663   0.01185533 -0.08310281 ... -0.3115533   0.38239563\n",
      "   -0.20170578]\n",
      "  [-0.5757663   0.11598377 -0.08310281 ... -0.3115533   0.38239563\n",
      "   -0.20170578]\n",
      "  [-0.5757663  -0.17047678 -0.08310281 ... -0.3115533   0.38239563\n",
      "   -0.20170578]]\n",
      "\n",
      " [[-0.5757663   0.20041224 -0.08310281 ... -0.3115533   0.38239563\n",
      "   -0.20170578]\n",
      "  [-0.5757663   0.10293791 -0.08310281 ... -0.3115533   0.38239563\n",
      "   -0.20170578]\n",
      "  [-0.5757663   0.44010323 -0.08310281 ... -0.3115533   0.38239563\n",
      "   -0.20170578]\n",
      "  ...\n",
      "  [-0.5757663   0.11598377 -0.08310281 ... -0.3115533   0.38239563\n",
      "   -0.20170578]\n",
      "  [-0.5757663  -0.17047678 -0.08310281 ... -0.3115533   0.38239563\n",
      "   -0.20170578]\n",
      "  [-0.5757663   0.15700552 -0.08310281 ... -0.3115533   0.38239563\n",
      "   -0.20170578]]\n",
      "\n",
      " [[-0.5757663   0.10293791 -0.08310281 ... -0.3115533   0.38239563\n",
      "   -0.20170578]\n",
      "  [-0.5757663   0.44010323 -0.08310281 ... -0.3115533   0.38239563\n",
      "   -0.20170578]\n",
      "  [-0.5757663   0.2981966  -0.08310281 ... -0.3115533   0.38239563\n",
      "   -0.20170578]\n",
      "  ...\n",
      "  [-0.5757663  -0.17047678 -0.08310281 ... -0.3115533   0.38239563\n",
      "   -0.20170578]\n",
      "  [-0.5757663   0.15700552 -0.08310281 ... -0.3115533   0.38239563\n",
      "   -0.20170578]\n",
      "  [-0.5757663  -0.48062024 -0.08310281 ... -0.3115533   0.38239563\n",
      "   -0.20170578]]\n",
      "\n",
      " ...\n",
      "\n",
      " [[ 1.7368157  -0.7176877  -0.08310281 ...  3.2097237  -2.6150928\n",
      "   -0.20170578]\n",
      "  [ 1.7368157  -0.75030243 -0.08310281 ...  3.2097237  -2.6150928\n",
      "   -0.20170578]\n",
      "  [ 1.7368157  -0.7354559  -0.08310281 ...  3.2097237  -2.6150928\n",
      "   -0.20170578]\n",
      "  ...\n",
      "  [ 1.7368157   0.35829824 -0.08310281 ... -0.3115533   0.38239563\n",
      "   -0.20170578]\n",
      "  [ 1.7368157  -0.323879   -0.08310281 ... -0.3115533   0.38239563\n",
      "   -0.20170578]\n",
      "  [ 1.7368157   0.27193794 -0.08310281 ... -0.3115533   0.38239563\n",
      "   -0.20170578]]\n",
      "\n",
      " [[ 1.7368157  -0.75030243 -0.08310281 ...  3.2097237  -2.6150928\n",
      "   -0.20170578]\n",
      "  [ 1.7368157  -0.7354559  -0.08310281 ...  3.2097237  -2.6150928\n",
      "   -0.20170578]\n",
      "  [ 1.7368157  -0.66974956 -0.08310281 ...  3.2097237  -2.6150928\n",
      "   -0.20170578]\n",
      "  ...\n",
      "  [ 1.7368157  -0.323879   -0.08310281 ... -0.3115533   0.38239563\n",
      "   -0.20170578]\n",
      "  [ 1.7368157   0.27193794 -0.08310281 ... -0.3115533   0.38239563\n",
      "   -0.20170578]\n",
      "  [ 1.7368157  -0.29938522 -0.08310281 ... -0.3115533   0.38239563\n",
      "   -0.20170578]]\n",
      "\n",
      " [[ 1.7368157  -0.7354559  -0.08310281 ...  3.2097237  -2.6150928\n",
      "   -0.20170578]\n",
      "  [ 1.7368157  -0.66974956 -0.08310281 ...  3.2097237  -2.6150928\n",
      "   -0.20170578]\n",
      "  [ 1.7368157  -0.2725303  -0.08310281 ...  3.2097237  -2.6150928\n",
      "   -0.20170578]\n",
      "  ...\n",
      "  [ 1.7368157   0.27193794 -0.08310281 ... -0.3115533   0.38239563\n",
      "   -0.20170578]\n",
      "  [ 1.7368157  -0.29938522 -0.08310281 ... -0.3115533   0.38239563\n",
      "   -0.20170578]\n",
      "  [ 1.7368157  -0.03529583 -0.08310281 ... -0.3115533   0.38239563\n",
      "   -0.20170578]]]\n"
     ]
    }
   ],
   "source": [
    "print(X)"
   ]
  },
  {
   "cell_type": "code",
   "execution_count": 11,
   "metadata": {},
   "outputs": [
    {
     "name": "stdout",
     "output_type": "stream",
     "text": [
      "==============================\n",
      "TRAIN-TEST SPLIT\n",
      "==============================\n",
      "✓ Training sequences: 360\n",
      "✓ Testing sequences: 90\n",
      "✓ Input shape per sample: (30, 65)\n",
      "✓ Output shape per sample: (7, 3)\n",
      "✓ X_train dtype: float32\n",
      "✓ y_train dtype: float32\n",
      "✓ X_test dtype: float32\n",
      "✓ y_test dtype: float32\n",
      "\n",
      "✓ Data quality check:\n",
      "X_train NaN count: 0\n",
      "y_train NaN count: 0\n",
      "X_train Inf count: 0\n",
      "y_train Inf count: 0\n",
      "\n",
      "✅ Data is ready for training!\n"
     ]
    }
   ],
   "source": [
    "# Cell 5: Train-Test Split with clean data\n",
    "print(\"=\"*30)\n",
    "print(\"TRAIN-TEST SPLIT\")\n",
    "print(\"=\"*30)\n",
    "\n",
    "# Time-based split (80% train, 20% test)\n",
    "split_ratio = 0.8\n",
    "split_index = int(len(X) * split_ratio)\n",
    "\n",
    "X_train, X_test = X[:split_index], X[split_index:]\n",
    "y_train, y_test = y[:split_index], y[split_index:]\n",
    "\n",
    "print(f\"✓ Training sequences: {X_train.shape[0]}\")\n",
    "print(f\"✓ Testing sequences: {X_test.shape[0]}\")\n",
    "print(f\"✓ Input shape per sample: {X_train.shape[1:]}\")\n",
    "print(f\"✓ Output shape per sample: {y_train.shape[1:]}\")\n",
    "\n",
    "# Verify data types\n",
    "print(f\"✓ X_train dtype: {X_train.dtype}\")\n",
    "print(f\"✓ y_train dtype: {y_train.dtype}\")\n",
    "print(f\"✓ X_test dtype: {X_test.dtype}\")\n",
    "print(f\"✓ y_test dtype: {y_test.dtype}\")\n",
    "\n",
    "# Check for any problematic values\n",
    "print(f\"\\n✓ Data quality check:\")\n",
    "print(f\"X_train NaN count: {np.isnan(X_train).sum()}\")\n",
    "print(f\"y_train NaN count: {np.isnan(y_train).sum()}\")\n",
    "print(f\"X_train Inf count: {np.isinf(X_train).sum()}\")\n",
    "print(f\"y_train Inf count: {np.isinf(y_train).sum()}\")\n",
    "\n",
    "print(f\"\\n✅ Data is ready for training!\")"
   ]
  },
  {
   "cell_type": "code",
   "execution_count": 12,
   "metadata": {},
   "outputs": [
    {
     "name": "stdout",
     "output_type": "stream",
     "text": [
      "✓ Model building function defined\n"
     ]
    }
   ],
   "source": [
    "# Cell 6: Define CNN-LSTM model architecture\n",
    "def build_cnn_lstm_model(input_shape, output_shape):\n",
    "    \"\"\"\n",
    "    Build CNN-LSTM hybrid model for hotel revenue forecasting\n",
    "    \"\"\"\n",
    "    print(f\"✓ Building model with input shape: {input_shape}\")\n",
    "    print(f\"✓ Output shape: {output_shape}\")\n",
    "    \n",
    "    model = Sequential([\n",
    "        # CNN layers for feature extraction\n",
    "        Conv1D(filters=64, kernel_size=3, activation='relu', input_shape=input_shape, name='conv1d_1'),\n",
    "        Conv1D(filters=64, kernel_size=3, activation='relu', name='conv1d_2'),\n",
    "        MaxPooling1D(pool_size=2, name='maxpool_1'),\n",
    "        Dropout(0.2, name='dropout_1'),\n",
    "        \n",
    "        # More CNN layers\n",
    "        Conv1D(filters=32, kernel_size=3, activation='relu', name='conv1d_3'),\n",
    "        MaxPooling1D(pool_size=2, name='maxpool_2'),\n",
    "        Dropout(0.2, name='dropout_2'),\n",
    "        \n",
    "        # LSTM layers for temporal patterns\n",
    "        LSTM(100, return_sequences=True, name='lstm_1'),\n",
    "        Dropout(0.3, name='dropout_3'),\n",
    "        LSTM(50, return_sequences=False, name='lstm_2'),\n",
    "        Dropout(0.3, name='dropout_4'),\n",
    "        \n",
    "        # Dense layers for final prediction\n",
    "        Dense(100, activation='relu', name='dense_1'),\n",
    "        Dropout(0.2, name='dropout_5'),\n",
    "        Dense(np.prod(output_shape), activation='linear', name='dense_output'),\n",
    "    ])\n",
    "    \n",
    "    # Reshape output to (forecast_days, revenue_streams)\n",
    "    model.add(tf.keras.layers.Reshape(output_shape, name='reshape_output'))\n",
    "    \n",
    "    return model\n",
    "\n",
    "print(\"✓ Model building function defined\")"
   ]
  },
  {
   "cell_type": "code",
   "execution_count": 13,
   "metadata": {},
   "outputs": [
    {
     "name": "stdout",
     "output_type": "stream",
     "text": [
      "==============================\n",
      "BUILDING MODEL\n",
      "==============================\n",
      "✓ Building model with input shape: (30, 65)\n",
      "✓ Output shape: (7, 3)\n",
      "\n",
      "==============================\n",
      "MODEL ARCHITECTURE\n",
      "==============================\n"
     ]
    },
    {
     "data": {
      "text/html": [
       "<pre style=\"white-space:pre;overflow-x:auto;line-height:normal;font-family:Menlo,'DejaVu Sans Mono',consolas,'Courier New',monospace\"><span style=\"font-weight: bold\">Model: \"sequential\"</span>\n",
       "</pre>\n"
      ],
      "text/plain": [
       "\u001b[1mModel: \"sequential\"\u001b[0m\n"
      ]
     },
     "metadata": {},
     "output_type": "display_data"
    },
    {
     "data": {
      "text/html": [
       "<pre style=\"white-space:pre;overflow-x:auto;line-height:normal;font-family:Menlo,'DejaVu Sans Mono',consolas,'Courier New',monospace\">┏━━━━━━━━━━━━━━━━━━━━━━━━━━━━━━━━━┳━━━━━━━━━━━━━━━━━━━━━━━━┳━━━━━━━━━━━━━━━┓\n",
       "┃<span style=\"font-weight: bold\"> Layer (type)                    </span>┃<span style=\"font-weight: bold\"> Output Shape           </span>┃<span style=\"font-weight: bold\">       Param # </span>┃\n",
       "┡━━━━━━━━━━━━━━━━━━━━━━━━━━━━━━━━━╇━━━━━━━━━━━━━━━━━━━━━━━━╇━━━━━━━━━━━━━━━┩\n",
       "│ conv1d_1 (<span style=\"color: #0087ff; text-decoration-color: #0087ff\">Conv1D</span>)               │ (<span style=\"color: #00d7ff; text-decoration-color: #00d7ff\">None</span>, <span style=\"color: #00af00; text-decoration-color: #00af00\">28</span>, <span style=\"color: #00af00; text-decoration-color: #00af00\">64</span>)         │        <span style=\"color: #00af00; text-decoration-color: #00af00\">12,544</span> │\n",
       "├─────────────────────────────────┼────────────────────────┼───────────────┤\n",
       "│ conv1d_2 (<span style=\"color: #0087ff; text-decoration-color: #0087ff\">Conv1D</span>)               │ (<span style=\"color: #00d7ff; text-decoration-color: #00d7ff\">None</span>, <span style=\"color: #00af00; text-decoration-color: #00af00\">26</span>, <span style=\"color: #00af00; text-decoration-color: #00af00\">64</span>)         │        <span style=\"color: #00af00; text-decoration-color: #00af00\">12,352</span> │\n",
       "├─────────────────────────────────┼────────────────────────┼───────────────┤\n",
       "│ maxpool_1 (<span style=\"color: #0087ff; text-decoration-color: #0087ff\">MaxPooling1D</span>)        │ (<span style=\"color: #00d7ff; text-decoration-color: #00d7ff\">None</span>, <span style=\"color: #00af00; text-decoration-color: #00af00\">13</span>, <span style=\"color: #00af00; text-decoration-color: #00af00\">64</span>)         │             <span style=\"color: #00af00; text-decoration-color: #00af00\">0</span> │\n",
       "├─────────────────────────────────┼────────────────────────┼───────────────┤\n",
       "│ dropout_1 (<span style=\"color: #0087ff; text-decoration-color: #0087ff\">Dropout</span>)             │ (<span style=\"color: #00d7ff; text-decoration-color: #00d7ff\">None</span>, <span style=\"color: #00af00; text-decoration-color: #00af00\">13</span>, <span style=\"color: #00af00; text-decoration-color: #00af00\">64</span>)         │             <span style=\"color: #00af00; text-decoration-color: #00af00\">0</span> │\n",
       "├─────────────────────────────────┼────────────────────────┼───────────────┤\n",
       "│ conv1d_3 (<span style=\"color: #0087ff; text-decoration-color: #0087ff\">Conv1D</span>)               │ (<span style=\"color: #00d7ff; text-decoration-color: #00d7ff\">None</span>, <span style=\"color: #00af00; text-decoration-color: #00af00\">11</span>, <span style=\"color: #00af00; text-decoration-color: #00af00\">32</span>)         │         <span style=\"color: #00af00; text-decoration-color: #00af00\">6,176</span> │\n",
       "├─────────────────────────────────┼────────────────────────┼───────────────┤\n",
       "│ maxpool_2 (<span style=\"color: #0087ff; text-decoration-color: #0087ff\">MaxPooling1D</span>)        │ (<span style=\"color: #00d7ff; text-decoration-color: #00d7ff\">None</span>, <span style=\"color: #00af00; text-decoration-color: #00af00\">5</span>, <span style=\"color: #00af00; text-decoration-color: #00af00\">32</span>)          │             <span style=\"color: #00af00; text-decoration-color: #00af00\">0</span> │\n",
       "├─────────────────────────────────┼────────────────────────┼───────────────┤\n",
       "│ dropout_2 (<span style=\"color: #0087ff; text-decoration-color: #0087ff\">Dropout</span>)             │ (<span style=\"color: #00d7ff; text-decoration-color: #00d7ff\">None</span>, <span style=\"color: #00af00; text-decoration-color: #00af00\">5</span>, <span style=\"color: #00af00; text-decoration-color: #00af00\">32</span>)          │             <span style=\"color: #00af00; text-decoration-color: #00af00\">0</span> │\n",
       "├─────────────────────────────────┼────────────────────────┼───────────────┤\n",
       "│ lstm_1 (<span style=\"color: #0087ff; text-decoration-color: #0087ff\">LSTM</span>)                   │ (<span style=\"color: #00d7ff; text-decoration-color: #00d7ff\">None</span>, <span style=\"color: #00af00; text-decoration-color: #00af00\">5</span>, <span style=\"color: #00af00; text-decoration-color: #00af00\">100</span>)         │        <span style=\"color: #00af00; text-decoration-color: #00af00\">53,200</span> │\n",
       "├─────────────────────────────────┼────────────────────────┼───────────────┤\n",
       "│ dropout_3 (<span style=\"color: #0087ff; text-decoration-color: #0087ff\">Dropout</span>)             │ (<span style=\"color: #00d7ff; text-decoration-color: #00d7ff\">None</span>, <span style=\"color: #00af00; text-decoration-color: #00af00\">5</span>, <span style=\"color: #00af00; text-decoration-color: #00af00\">100</span>)         │             <span style=\"color: #00af00; text-decoration-color: #00af00\">0</span> │\n",
       "├─────────────────────────────────┼────────────────────────┼───────────────┤\n",
       "│ lstm_2 (<span style=\"color: #0087ff; text-decoration-color: #0087ff\">LSTM</span>)                   │ (<span style=\"color: #00d7ff; text-decoration-color: #00d7ff\">None</span>, <span style=\"color: #00af00; text-decoration-color: #00af00\">50</span>)             │        <span style=\"color: #00af00; text-decoration-color: #00af00\">30,200</span> │\n",
       "├─────────────────────────────────┼────────────────────────┼───────────────┤\n",
       "│ dropout_4 (<span style=\"color: #0087ff; text-decoration-color: #0087ff\">Dropout</span>)             │ (<span style=\"color: #00d7ff; text-decoration-color: #00d7ff\">None</span>, <span style=\"color: #00af00; text-decoration-color: #00af00\">50</span>)             │             <span style=\"color: #00af00; text-decoration-color: #00af00\">0</span> │\n",
       "├─────────────────────────────────┼────────────────────────┼───────────────┤\n",
       "│ dense_1 (<span style=\"color: #0087ff; text-decoration-color: #0087ff\">Dense</span>)                 │ (<span style=\"color: #00d7ff; text-decoration-color: #00d7ff\">None</span>, <span style=\"color: #00af00; text-decoration-color: #00af00\">100</span>)            │         <span style=\"color: #00af00; text-decoration-color: #00af00\">5,100</span> │\n",
       "├─────────────────────────────────┼────────────────────────┼───────────────┤\n",
       "│ dropout_5 (<span style=\"color: #0087ff; text-decoration-color: #0087ff\">Dropout</span>)             │ (<span style=\"color: #00d7ff; text-decoration-color: #00d7ff\">None</span>, <span style=\"color: #00af00; text-decoration-color: #00af00\">100</span>)            │             <span style=\"color: #00af00; text-decoration-color: #00af00\">0</span> │\n",
       "├─────────────────────────────────┼────────────────────────┼───────────────┤\n",
       "│ dense_output (<span style=\"color: #0087ff; text-decoration-color: #0087ff\">Dense</span>)            │ (<span style=\"color: #00d7ff; text-decoration-color: #00d7ff\">None</span>, <span style=\"color: #00af00; text-decoration-color: #00af00\">21</span>)             │         <span style=\"color: #00af00; text-decoration-color: #00af00\">2,121</span> │\n",
       "├─────────────────────────────────┼────────────────────────┼───────────────┤\n",
       "│ reshape_output (<span style=\"color: #0087ff; text-decoration-color: #0087ff\">Reshape</span>)        │ (<span style=\"color: #00d7ff; text-decoration-color: #00d7ff\">None</span>, <span style=\"color: #00af00; text-decoration-color: #00af00\">7</span>, <span style=\"color: #00af00; text-decoration-color: #00af00\">3</span>)           │             <span style=\"color: #00af00; text-decoration-color: #00af00\">0</span> │\n",
       "└─────────────────────────────────┴────────────────────────┴───────────────┘\n",
       "</pre>\n"
      ],
      "text/plain": [
       "┏━━━━━━━━━━━━━━━━━━━━━━━━━━━━━━━━━┳━━━━━━━━━━━━━━━━━━━━━━━━┳━━━━━━━━━━━━━━━┓\n",
       "┃\u001b[1m \u001b[0m\u001b[1mLayer (type)                   \u001b[0m\u001b[1m \u001b[0m┃\u001b[1m \u001b[0m\u001b[1mOutput Shape          \u001b[0m\u001b[1m \u001b[0m┃\u001b[1m \u001b[0m\u001b[1m      Param #\u001b[0m\u001b[1m \u001b[0m┃\n",
       "┡━━━━━━━━━━━━━━━━━━━━━━━━━━━━━━━━━╇━━━━━━━━━━━━━━━━━━━━━━━━╇━━━━━━━━━━━━━━━┩\n",
       "│ conv1d_1 (\u001b[38;5;33mConv1D\u001b[0m)               │ (\u001b[38;5;45mNone\u001b[0m, \u001b[38;5;34m28\u001b[0m, \u001b[38;5;34m64\u001b[0m)         │        \u001b[38;5;34m12,544\u001b[0m │\n",
       "├─────────────────────────────────┼────────────────────────┼───────────────┤\n",
       "│ conv1d_2 (\u001b[38;5;33mConv1D\u001b[0m)               │ (\u001b[38;5;45mNone\u001b[0m, \u001b[38;5;34m26\u001b[0m, \u001b[38;5;34m64\u001b[0m)         │        \u001b[38;5;34m12,352\u001b[0m │\n",
       "├─────────────────────────────────┼────────────────────────┼───────────────┤\n",
       "│ maxpool_1 (\u001b[38;5;33mMaxPooling1D\u001b[0m)        │ (\u001b[38;5;45mNone\u001b[0m, \u001b[38;5;34m13\u001b[0m, \u001b[38;5;34m64\u001b[0m)         │             \u001b[38;5;34m0\u001b[0m │\n",
       "├─────────────────────────────────┼────────────────────────┼───────────────┤\n",
       "│ dropout_1 (\u001b[38;5;33mDropout\u001b[0m)             │ (\u001b[38;5;45mNone\u001b[0m, \u001b[38;5;34m13\u001b[0m, \u001b[38;5;34m64\u001b[0m)         │             \u001b[38;5;34m0\u001b[0m │\n",
       "├─────────────────────────────────┼────────────────────────┼───────────────┤\n",
       "│ conv1d_3 (\u001b[38;5;33mConv1D\u001b[0m)               │ (\u001b[38;5;45mNone\u001b[0m, \u001b[38;5;34m11\u001b[0m, \u001b[38;5;34m32\u001b[0m)         │         \u001b[38;5;34m6,176\u001b[0m │\n",
       "├─────────────────────────────────┼────────────────────────┼───────────────┤\n",
       "│ maxpool_2 (\u001b[38;5;33mMaxPooling1D\u001b[0m)        │ (\u001b[38;5;45mNone\u001b[0m, \u001b[38;5;34m5\u001b[0m, \u001b[38;5;34m32\u001b[0m)          │             \u001b[38;5;34m0\u001b[0m │\n",
       "├─────────────────────────────────┼────────────────────────┼───────────────┤\n",
       "│ dropout_2 (\u001b[38;5;33mDropout\u001b[0m)             │ (\u001b[38;5;45mNone\u001b[0m, \u001b[38;5;34m5\u001b[0m, \u001b[38;5;34m32\u001b[0m)          │             \u001b[38;5;34m0\u001b[0m │\n",
       "├─────────────────────────────────┼────────────────────────┼───────────────┤\n",
       "│ lstm_1 (\u001b[38;5;33mLSTM\u001b[0m)                   │ (\u001b[38;5;45mNone\u001b[0m, \u001b[38;5;34m5\u001b[0m, \u001b[38;5;34m100\u001b[0m)         │        \u001b[38;5;34m53,200\u001b[0m │\n",
       "├─────────────────────────────────┼────────────────────────┼───────────────┤\n",
       "│ dropout_3 (\u001b[38;5;33mDropout\u001b[0m)             │ (\u001b[38;5;45mNone\u001b[0m, \u001b[38;5;34m5\u001b[0m, \u001b[38;5;34m100\u001b[0m)         │             \u001b[38;5;34m0\u001b[0m │\n",
       "├─────────────────────────────────┼────────────────────────┼───────────────┤\n",
       "│ lstm_2 (\u001b[38;5;33mLSTM\u001b[0m)                   │ (\u001b[38;5;45mNone\u001b[0m, \u001b[38;5;34m50\u001b[0m)             │        \u001b[38;5;34m30,200\u001b[0m │\n",
       "├─────────────────────────────────┼────────────────────────┼───────────────┤\n",
       "│ dropout_4 (\u001b[38;5;33mDropout\u001b[0m)             │ (\u001b[38;5;45mNone\u001b[0m, \u001b[38;5;34m50\u001b[0m)             │             \u001b[38;5;34m0\u001b[0m │\n",
       "├─────────────────────────────────┼────────────────────────┼───────────────┤\n",
       "│ dense_1 (\u001b[38;5;33mDense\u001b[0m)                 │ (\u001b[38;5;45mNone\u001b[0m, \u001b[38;5;34m100\u001b[0m)            │         \u001b[38;5;34m5,100\u001b[0m │\n",
       "├─────────────────────────────────┼────────────────────────┼───────────────┤\n",
       "│ dropout_5 (\u001b[38;5;33mDropout\u001b[0m)             │ (\u001b[38;5;45mNone\u001b[0m, \u001b[38;5;34m100\u001b[0m)            │             \u001b[38;5;34m0\u001b[0m │\n",
       "├─────────────────────────────────┼────────────────────────┼───────────────┤\n",
       "│ dense_output (\u001b[38;5;33mDense\u001b[0m)            │ (\u001b[38;5;45mNone\u001b[0m, \u001b[38;5;34m21\u001b[0m)             │         \u001b[38;5;34m2,121\u001b[0m │\n",
       "├─────────────────────────────────┼────────────────────────┼───────────────┤\n",
       "│ reshape_output (\u001b[38;5;33mReshape\u001b[0m)        │ (\u001b[38;5;45mNone\u001b[0m, \u001b[38;5;34m7\u001b[0m, \u001b[38;5;34m3\u001b[0m)           │             \u001b[38;5;34m0\u001b[0m │\n",
       "└─────────────────────────────────┴────────────────────────┴───────────────┘\n"
      ]
     },
     "metadata": {},
     "output_type": "display_data"
    },
    {
     "data": {
      "text/html": [
       "<pre style=\"white-space:pre;overflow-x:auto;line-height:normal;font-family:Menlo,'DejaVu Sans Mono',consolas,'Courier New',monospace\"><span style=\"font-weight: bold\"> Total params: </span><span style=\"color: #00af00; text-decoration-color: #00af00\">121,693</span> (475.36 KB)\n",
       "</pre>\n"
      ],
      "text/plain": [
       "\u001b[1m Total params: \u001b[0m\u001b[38;5;34m121,693\u001b[0m (475.36 KB)\n"
      ]
     },
     "metadata": {},
     "output_type": "display_data"
    },
    {
     "data": {
      "text/html": [
       "<pre style=\"white-space:pre;overflow-x:auto;line-height:normal;font-family:Menlo,'DejaVu Sans Mono',consolas,'Courier New',monospace\"><span style=\"font-weight: bold\"> Trainable params: </span><span style=\"color: #00af00; text-decoration-color: #00af00\">121,693</span> (475.36 KB)\n",
       "</pre>\n"
      ],
      "text/plain": [
       "\u001b[1m Trainable params: \u001b[0m\u001b[38;5;34m121,693\u001b[0m (475.36 KB)\n"
      ]
     },
     "metadata": {},
     "output_type": "display_data"
    },
    {
     "data": {
      "text/html": [
       "<pre style=\"white-space:pre;overflow-x:auto;line-height:normal;font-family:Menlo,'DejaVu Sans Mono',consolas,'Courier New',monospace\"><span style=\"font-weight: bold\"> Non-trainable params: </span><span style=\"color: #00af00; text-decoration-color: #00af00\">0</span> (0.00 B)\n",
       "</pre>\n"
      ],
      "text/plain": [
       "\u001b[1m Non-trainable params: \u001b[0m\u001b[38;5;34m0\u001b[0m (0.00 B)\n"
      ]
     },
     "metadata": {},
     "output_type": "display_data"
    },
    {
     "name": "stdout",
     "output_type": "stream",
     "text": [
      "\n",
      "✓ Total parameters: 121,693\n"
     ]
    }
   ],
   "source": [
    "# Cell 7: Build and compile the model\n",
    "print(\"=\"*30)\n",
    "print(\"BUILDING MODEL\")\n",
    "print(\"=\"*30)\n",
    "\n",
    "# Define input and output shapes\n",
    "input_shape = (X_train.shape[1], X_train.shape[2])  # (30, features)\n",
    "output_shape = (y_train.shape[1], y_train.shape[2])  # (7, revenue_streams)\n",
    "\n",
    "# Build model\n",
    "model = build_cnn_lstm_model(input_shape, output_shape)\n",
    "\n",
    "# Compile model\n",
    "model.compile(\n",
    "    optimizer=Adam(learning_rate=0.001),\n",
    "    loss='mse',\n",
    "    metrics=['mae']\n",
    ")\n",
    "\n",
    "print(\"\\n\" + \"=\"*30)\n",
    "print(\"MODEL ARCHITECTURE\")\n",
    "print(\"=\"*30)\n",
    "model.summary()\n",
    "\n",
    "# Count parameters\n",
    "total_params = model.count_params()\n",
    "print(f\"\\n✓ Total parameters: {total_params:,}\")"
   ]
  },
  {
   "cell_type": "code",
   "execution_count": 14,
   "metadata": {},
   "outputs": [
    {
     "name": "stdout",
     "output_type": "stream",
     "text": [
      "==============================\n",
      "TRAINING SETUP\n",
      "==============================\n",
      "✓ Callbacks configured:\n",
      "  - Early stopping (patience=15)\n",
      "  - Learning rate reduction (factor=0.5, patience=5)\n",
      "  - Model checkpoint (best_cnn_lstm_model.h5)\n",
      "✓ Batch size: 32\n",
      "✓ Max epochs: 100\n"
     ]
    }
   ],
   "source": [
    "# Cell 8: Setup training callbacks\n",
    "print(\"=\"*30)\n",
    "print(\"TRAINING SETUP\")\n",
    "print(\"=\"*30)\n",
    "\n",
    "# Define callbacks\n",
    "callbacks = [\n",
    "    EarlyStopping(\n",
    "        monitor='val_loss', \n",
    "        patience=15, \n",
    "        restore_best_weights=True,\n",
    "        verbose=1\n",
    "    ),\n",
    "    ReduceLROnPlateau(\n",
    "        monitor='val_loss', \n",
    "        factor=0.5, \n",
    "        patience=5, \n",
    "        min_lr=1e-7,\n",
    "        verbose=1\n",
    "    ),\n",
    "    ModelCheckpoint(\n",
    "        'best_cnn_lstm_model.h5', \n",
    "        save_best_only=True, \n",
    "        monitor='val_loss',\n",
    "        verbose=1\n",
    "    )\n",
    "]\n",
    "\n",
    "# Training parameters\n",
    "BATCH_SIZE = 32\n",
    "EPOCHS = 100\n",
    "\n",
    "print(\"✓ Callbacks configured:\")\n",
    "print(\"  - Early stopping (patience=15)\")\n",
    "print(\"  - Learning rate reduction (factor=0.5, patience=5)\")\n",
    "print(\"  - Model checkpoint (best_cnn_lstm_model.h5)\")\n",
    "print(f\"✓ Batch size: {BATCH_SIZE}\")\n",
    "print(f\"✓ Max epochs: {EPOCHS}\")"
   ]
  },
  {
   "cell_type": "code",
   "execution_count": 15,
   "metadata": {},
   "outputs": [
    {
     "name": "stdout",
     "output_type": "stream",
     "text": [
      "========================================\n",
      "COMPREHENSIVE DATA PREPARATION\n",
      "========================================\n",
      "🔧 Cleaning and preparing data...\n",
      "🧹 Handling NaN and infinite values...\n",
      "✓ Final data types:\n",
      "  X_train: float32, shape: (360, 30, 65)\n",
      "  y_train: float32, shape: (360, 7, 3)\n",
      "  X_test: float32, shape: (90, 30, 65)\n",
      "  y_test: float32, shape: (90, 7, 3)\n",
      "✓ Data ranges:\n",
      "  X_train: [-2.615, 22.023]\n",
      "  y_train: [5.000, 10052.500]\n",
      "\n",
      "==============================\n",
      "STARTING TRAINING\n",
      "==============================\n",
      "Epoch 1/100\n",
      "\u001b[1m11/12\u001b[0m \u001b[32m━━━━━━━━━━━━━━━━━━\u001b[0m\u001b[37m━━\u001b[0m \u001b[1m0s\u001b[0m 18ms/step - loss: 3742371.5000 - mae: 1385.3073\n",
      "Epoch 1: val_loss improved from inf to 7599098.50000, saving model to best_cnn_lstm_model.h5\n"
     ]
    },
    {
     "name": "stderr",
     "output_type": "stream",
     "text": [
      "WARNING:absl:You are saving your model as an HDF5 file via `model.save()` or `keras.saving.save_model(model)`. This file format is considered legacy. We recommend using instead the native Keras format, e.g. `model.save('my_model.keras')` or `keras.saving.save_model(model, 'my_model.keras')`. \n"
     ]
    },
    {
     "name": "stdout",
     "output_type": "stream",
     "text": [
      "\u001b[1m12/12\u001b[0m \u001b[32m━━━━━━━━━━━━━━━━━━━━\u001b[0m\u001b[37m\u001b[0m \u001b[1m6s\u001b[0m 83ms/step - loss: 3687530.5000 - mae: 1378.0475 - val_loss: 7599098.5000 - val_mae: 2076.6685 - learning_rate: 0.0010\n",
      "Epoch 2/100\n",
      "\u001b[1m10/12\u001b[0m \u001b[32m━━━━━━━━━━━━━━━━\u001b[0m\u001b[37m━━━━\u001b[0m \u001b[1m0s\u001b[0m 12ms/step - loss: 3415606.2500 - mae: 1343.6519\n",
      "Epoch 2: val_loss improved from 7599098.50000 to 7588302.00000, saving model to best_cnn_lstm_model.h5\n"
     ]
    },
    {
     "name": "stderr",
     "output_type": "stream",
     "text": [
      "WARNING:absl:You are saving your model as an HDF5 file via `model.save()` or `keras.saving.save_model(model)`. This file format is considered legacy. We recommend using instead the native Keras format, e.g. `model.save('my_model.keras')` or `keras.saving.save_model(model, 'my_model.keras')`. \n"
     ]
    },
    {
     "name": "stdout",
     "output_type": "stream",
     "text": [
      "\u001b[1m12/12\u001b[0m \u001b[32m━━━━━━━━━━━━━━━━━━━━\u001b[0m\u001b[37m\u001b[0m \u001b[1m0s\u001b[0m 24ms/step - loss: 3409511.2500 - mae: 1342.3674 - val_loss: 7588302.0000 - val_mae: 2074.4189 - learning_rate: 0.0010\n",
      "Epoch 3/100\n",
      "\u001b[1m10/12\u001b[0m \u001b[32m━━━━━━━━━━━━━━━━\u001b[0m\u001b[37m━━━━\u001b[0m \u001b[1m0s\u001b[0m 12ms/step - loss: 3554489.0000 - mae: 1366.9968\n",
      "Epoch 3: val_loss improved from 7588302.00000 to 7570808.00000, saving model to best_cnn_lstm_model.h5\n"
     ]
    },
    {
     "name": "stderr",
     "output_type": "stream",
     "text": [
      "WARNING:absl:You are saving your model as an HDF5 file via `model.save()` or `keras.saving.save_model(model)`. This file format is considered legacy. We recommend using instead the native Keras format, e.g. `model.save('my_model.keras')` or `keras.saving.save_model(model, 'my_model.keras')`. \n"
     ]
    },
    {
     "name": "stdout",
     "output_type": "stream",
     "text": [
      "\u001b[1m12/12\u001b[0m \u001b[32m━━━━━━━━━━━━━━━━━━━━\u001b[0m\u001b[37m\u001b[0m \u001b[1m0s\u001b[0m 25ms/step - loss: 3514479.2500 - mae: 1359.7239 - val_loss: 7570808.0000 - val_mae: 2070.5779 - learning_rate: 0.0010\n",
      "Epoch 4/100\n",
      "\u001b[1m 7/12\u001b[0m \u001b[32m━━━━━━━━━━━\u001b[0m\u001b[37m━━━━━━━━━\u001b[0m \u001b[1m0s\u001b[0m 9ms/step - loss: 3461917.7500 - mae: 1350.1952 \n",
      "Epoch 4: val_loss improved from 7570808.00000 to 7545618.00000, saving model to best_cnn_lstm_model.h5\n"
     ]
    },
    {
     "name": "stderr",
     "output_type": "stream",
     "text": [
      "WARNING:absl:You are saving your model as an HDF5 file via `model.save()` or `keras.saving.save_model(model)`. This file format is considered legacy. We recommend using instead the native Keras format, e.g. `model.save('my_model.keras')` or `keras.saving.save_model(model, 'my_model.keras')`. \n"
     ]
    },
    {
     "name": "stdout",
     "output_type": "stream",
     "text": [
      "\u001b[1m12/12\u001b[0m \u001b[32m━━━━━━━━━━━━━━━━━━━━\u001b[0m\u001b[37m\u001b[0m \u001b[1m0s\u001b[0m 26ms/step - loss: 3434490.7500 - mae: 1343.0486 - val_loss: 7545618.0000 - val_mae: 2064.8682 - learning_rate: 0.0010\n",
      "Epoch 5/100\n",
      "\u001b[1m12/12\u001b[0m \u001b[32m━━━━━━━━━━━━━━━━━━━━\u001b[0m\u001b[37m\u001b[0m \u001b[1m0s\u001b[0m 10ms/step - loss: 3151091.0000 - mae: 1294.2996\n",
      "Epoch 5: val_loss improved from 7545618.00000 to 7511493.50000, saving model to best_cnn_lstm_model.h5\n"
     ]
    },
    {
     "name": "stderr",
     "output_type": "stream",
     "text": [
      "WARNING:absl:You are saving your model as an HDF5 file via `model.save()` or `keras.saving.save_model(model)`. This file format is considered legacy. We recommend using instead the native Keras format, e.g. `model.save('my_model.keras')` or `keras.saving.save_model(model, 'my_model.keras')`. \n"
     ]
    },
    {
     "name": "stdout",
     "output_type": "stream",
     "text": [
      "\u001b[1m12/12\u001b[0m \u001b[32m━━━━━━━━━━━━━━━━━━━━\u001b[0m\u001b[37m\u001b[0m \u001b[1m0s\u001b[0m 21ms/step - loss: 3165620.2500 - mae: 1296.4756 - val_loss: 7511493.5000 - val_mae: 2056.9443 - learning_rate: 0.0010\n",
      "Epoch 6/100\n",
      "\u001b[1m10/12\u001b[0m \u001b[32m━━━━━━━━━━━━━━━━\u001b[0m\u001b[37m━━━━\u001b[0m \u001b[1m0s\u001b[0m 12ms/step - loss: 3247672.5000 - mae: 1303.6906\n",
      "Epoch 6: val_loss improved from 7511493.50000 to 7465880.00000, saving model to best_cnn_lstm_model.h5\n"
     ]
    },
    {
     "name": "stderr",
     "output_type": "stream",
     "text": [
      "WARNING:absl:You are saving your model as an HDF5 file via `model.save()` or `keras.saving.save_model(model)`. This file format is considered legacy. We recommend using instead the native Keras format, e.g. `model.save('my_model.keras')` or `keras.saving.save_model(model, 'my_model.keras')`. \n"
     ]
    },
    {
     "name": "stdout",
     "output_type": "stream",
     "text": [
      "\u001b[1m12/12\u001b[0m \u001b[32m━━━━━━━━━━━━━━━━━━━━\u001b[0m\u001b[37m\u001b[0m \u001b[1m0s\u001b[0m 23ms/step - loss: 3259708.0000 - mae: 1305.4615 - val_loss: 7465880.0000 - val_mae: 2046.1440 - learning_rate: 0.0010\n",
      "Epoch 7/100\n",
      "\u001b[1m12/12\u001b[0m \u001b[32m━━━━━━━━━━━━━━━━━━━━\u001b[0m\u001b[37m\u001b[0m \u001b[1m0s\u001b[0m 10ms/step - loss: 3196783.5000 - mae: 1284.7582\n",
      "Epoch 7: val_loss improved from 7465880.00000 to 7407449.50000, saving model to best_cnn_lstm_model.h5\n"
     ]
    },
    {
     "name": "stderr",
     "output_type": "stream",
     "text": [
      "WARNING:absl:You are saving your model as an HDF5 file via `model.save()` or `keras.saving.save_model(model)`. This file format is considered legacy. We recommend using instead the native Keras format, e.g. `model.save('my_model.keras')` or `keras.saving.save_model(model, 'my_model.keras')`. \n"
     ]
    },
    {
     "name": "stdout",
     "output_type": "stream",
     "text": [
      "\u001b[1m12/12\u001b[0m \u001b[32m━━━━━━━━━━━━━━━━━━━━\u001b[0m\u001b[37m\u001b[0m \u001b[1m0s\u001b[0m 23ms/step - loss: 3203264.5000 - mae: 1286.0188 - val_loss: 7407449.5000 - val_mae: 2032.1216 - learning_rate: 0.0010\n",
      "Epoch 8/100\n",
      "\u001b[1m11/12\u001b[0m \u001b[32m━━━━━━━━━━━━━━━━━━\u001b[0m\u001b[37m━━\u001b[0m \u001b[1m0s\u001b[0m 11ms/step - loss: 3151881.0000 - mae: 1269.9490\n",
      "Epoch 8: val_loss improved from 7407449.50000 to 7337327.50000, saving model to best_cnn_lstm_model.h5\n"
     ]
    },
    {
     "name": "stderr",
     "output_type": "stream",
     "text": [
      "WARNING:absl:You are saving your model as an HDF5 file via `model.save()` or `keras.saving.save_model(model)`. This file format is considered legacy. We recommend using instead the native Keras format, e.g. `model.save('my_model.keras')` or `keras.saving.save_model(model, 'my_model.keras')`. \n"
     ]
    },
    {
     "name": "stdout",
     "output_type": "stream",
     "text": [
      "\u001b[1m12/12\u001b[0m \u001b[32m━━━━━━━━━━━━━━━━━━━━\u001b[0m\u001b[37m\u001b[0m \u001b[1m0s\u001b[0m 28ms/step - loss: 3165732.0000 - mae: 1272.5175 - val_loss: 7337327.5000 - val_mae: 2015.1218 - learning_rate: 0.0010\n",
      "Epoch 9/100\n",
      "\u001b[1m12/12\u001b[0m \u001b[32m━━━━━━━━━━━━━━━━━━━━\u001b[0m\u001b[37m\u001b[0m \u001b[1m0s\u001b[0m 10ms/step - loss: 2972797.2500 - mae: 1238.6398\n",
      "Epoch 9: val_loss improved from 7337327.50000 to 7254927.00000, saving model to best_cnn_lstm_model.h5\n"
     ]
    },
    {
     "name": "stderr",
     "output_type": "stream",
     "text": [
      "WARNING:absl:You are saving your model as an HDF5 file via `model.save()` or `keras.saving.save_model(model)`. This file format is considered legacy. We recommend using instead the native Keras format, e.g. `model.save('my_model.keras')` or `keras.saving.save_model(model, 'my_model.keras')`. \n"
     ]
    },
    {
     "name": "stdout",
     "output_type": "stream",
     "text": [
      "\u001b[1m12/12\u001b[0m \u001b[32m━━━━━━━━━━━━━━━━━━━━\u001b[0m\u001b[37m\u001b[0m \u001b[1m0s\u001b[0m 21ms/step - loss: 2989746.2500 - mae: 1240.9314 - val_loss: 7254927.0000 - val_mae: 1995.1047 - learning_rate: 0.0010\n",
      "Epoch 10/100\n",
      "\u001b[1m 8/12\u001b[0m \u001b[32m━━━━━━━━━━━━━\u001b[0m\u001b[37m━━━━━━━\u001b[0m \u001b[1m0s\u001b[0m 7ms/step - loss: 3396442.5000 - mae: 1306.0408 \n",
      "Epoch 10: val_loss improved from 7254927.00000 to 7160079.50000, saving model to best_cnn_lstm_model.h5\n"
     ]
    },
    {
     "name": "stderr",
     "output_type": "stream",
     "text": [
      "WARNING:absl:You are saving your model as an HDF5 file via `model.save()` or `keras.saving.save_model(model)`. This file format is considered legacy. We recommend using instead the native Keras format, e.g. `model.save('my_model.keras')` or `keras.saving.save_model(model, 'my_model.keras')`. \n"
     ]
    },
    {
     "name": "stdout",
     "output_type": "stream",
     "text": [
      "\u001b[1m12/12\u001b[0m \u001b[32m━━━━━━━━━━━━━━━━━━━━\u001b[0m\u001b[37m\u001b[0m \u001b[1m0s\u001b[0m 23ms/step - loss: 3289852.7500 - mae: 1283.0194 - val_loss: 7160079.5000 - val_mae: 1972.3138 - learning_rate: 0.0010\n",
      "Epoch 11/100\n",
      "\u001b[1m 9/12\u001b[0m \u001b[32m━━━━━━━━━━━━━━━\u001b[0m\u001b[37m━━━━━\u001b[0m \u001b[1m0s\u001b[0m 14ms/step - loss: 2694852.7500 - mae: 1171.6124\n",
      "Epoch 11: val_loss improved from 7160079.50000 to 7056580.50000, saving model to best_cnn_lstm_model.h5\n"
     ]
    },
    {
     "name": "stderr",
     "output_type": "stream",
     "text": [
      "WARNING:absl:You are saving your model as an HDF5 file via `model.save()` or `keras.saving.save_model(model)`. This file format is considered legacy. We recommend using instead the native Keras format, e.g. `model.save('my_model.keras')` or `keras.saving.save_model(model, 'my_model.keras')`. \n"
     ]
    },
    {
     "name": "stdout",
     "output_type": "stream",
     "text": [
      "\u001b[1m12/12\u001b[0m \u001b[32m━━━━━━━━━━━━━━━━━━━━\u001b[0m\u001b[37m\u001b[0m \u001b[1m0s\u001b[0m 23ms/step - loss: 2800935.5000 - mae: 1186.2617 - val_loss: 7056580.5000 - val_mae: 1947.6333 - learning_rate: 0.0010\n",
      "Epoch 12/100\n",
      "\u001b[1m11/12\u001b[0m \u001b[32m━━━━━━━━━━━━━━━━━━\u001b[0m\u001b[37m━━\u001b[0m \u001b[1m0s\u001b[0m 11ms/step - loss: 3217596.5000 - mae: 1225.1166\n",
      "Epoch 12: val_loss improved from 7056580.50000 to 6941225.00000, saving model to best_cnn_lstm_model.h5\n"
     ]
    },
    {
     "name": "stderr",
     "output_type": "stream",
     "text": [
      "WARNING:absl:You are saving your model as an HDF5 file via `model.save()` or `keras.saving.save_model(model)`. This file format is considered legacy. We recommend using instead the native Keras format, e.g. `model.save('my_model.keras')` or `keras.saving.save_model(model, 'my_model.keras')`. \n"
     ]
    },
    {
     "name": "stdout",
     "output_type": "stream",
     "text": [
      "\u001b[1m12/12\u001b[0m \u001b[32m━━━━━━━━━━━━━━━━━━━━\u001b[0m\u001b[37m\u001b[0m \u001b[1m0s\u001b[0m 23ms/step - loss: 3185361.5000 - mae: 1220.8423 - val_loss: 6941225.0000 - val_mae: 1920.2264 - learning_rate: 0.0010\n",
      "Epoch 13/100\n",
      "\u001b[1m11/12\u001b[0m \u001b[32m━━━━━━━━━━━━━━━━━━\u001b[0m\u001b[37m━━\u001b[0m \u001b[1m0s\u001b[0m 11ms/step - loss: 3235011.5000 - mae: 1215.0496\n",
      "Epoch 13: val_loss improved from 6941225.00000 to 6818047.50000, saving model to best_cnn_lstm_model.h5\n"
     ]
    },
    {
     "name": "stderr",
     "output_type": "stream",
     "text": [
      "WARNING:absl:You are saving your model as an HDF5 file via `model.save()` or `keras.saving.save_model(model)`. This file format is considered legacy. We recommend using instead the native Keras format, e.g. `model.save('my_model.keras')` or `keras.saving.save_model(model, 'my_model.keras')`. \n"
     ]
    },
    {
     "name": "stdout",
     "output_type": "stream",
     "text": [
      "\u001b[1m12/12\u001b[0m \u001b[32m━━━━━━━━━━━━━━━━━━━━\u001b[0m\u001b[37m\u001b[0m \u001b[1m0s\u001b[0m 24ms/step - loss: 3188708.5000 - mae: 1208.0266 - val_loss: 6818047.5000 - val_mae: 1891.1290 - learning_rate: 0.0010\n",
      "Epoch 14/100\n",
      "\u001b[1m 9/12\u001b[0m \u001b[32m━━━━━━━━━━━━━━━\u001b[0m\u001b[37m━━━━━\u001b[0m \u001b[1m0s\u001b[0m 13ms/step - loss: 3058823.2500 - mae: 1168.3556\n",
      "Epoch 14: val_loss improved from 6818047.50000 to 6688310.00000, saving model to best_cnn_lstm_model.h5\n"
     ]
    },
    {
     "name": "stderr",
     "output_type": "stream",
     "text": [
      "WARNING:absl:You are saving your model as an HDF5 file via `model.save()` or `keras.saving.save_model(model)`. This file format is considered legacy. We recommend using instead the native Keras format, e.g. `model.save('my_model.keras')` or `keras.saving.save_model(model, 'my_model.keras')`. \n"
     ]
    },
    {
     "name": "stdout",
     "output_type": "stream",
     "text": [
      "\u001b[1m12/12\u001b[0m \u001b[32m━━━━━━━━━━━━━━━━━━━━\u001b[0m\u001b[37m\u001b[0m \u001b[1m0s\u001b[0m 26ms/step - loss: 2998673.7500 - mae: 1160.0916 - val_loss: 6688310.0000 - val_mae: 1860.7559 - learning_rate: 0.0010\n",
      "Epoch 15/100\n",
      "\u001b[1m 9/12\u001b[0m \u001b[32m━━━━━━━━━━━━━━━\u001b[0m\u001b[37m━━━━━\u001b[0m \u001b[1m0s\u001b[0m 14ms/step - loss: 2753525.2500 - mae: 1108.0676\n",
      "Epoch 15: val_loss improved from 6688310.00000 to 6552477.00000, saving model to best_cnn_lstm_model.h5\n"
     ]
    },
    {
     "name": "stderr",
     "output_type": "stream",
     "text": [
      "WARNING:absl:You are saving your model as an HDF5 file via `model.save()` or `keras.saving.save_model(model)`. This file format is considered legacy. We recommend using instead the native Keras format, e.g. `model.save('my_model.keras')` or `keras.saving.save_model(model, 'my_model.keras')`. \n"
     ]
    },
    {
     "name": "stdout",
     "output_type": "stream",
     "text": [
      "\u001b[1m12/12\u001b[0m \u001b[32m━━━━━━━━━━━━━━━━━━━━\u001b[0m\u001b[37m\u001b[0m \u001b[1m0s\u001b[0m 27ms/step - loss: 2752146.0000 - mae: 1108.0647 - val_loss: 6552477.0000 - val_mae: 1829.4585 - learning_rate: 0.0010\n",
      "Epoch 16/100\n",
      "\u001b[1m11/12\u001b[0m \u001b[32m━━━━━━━━━━━━━━━━━━\u001b[0m\u001b[37m━━\u001b[0m \u001b[1m0s\u001b[0m 11ms/step - loss: 2764946.0000 - mae: 1101.1588\n",
      "Epoch 16: val_loss improved from 6552477.00000 to 6410480.50000, saving model to best_cnn_lstm_model.h5\n"
     ]
    },
    {
     "name": "stderr",
     "output_type": "stream",
     "text": [
      "WARNING:absl:You are saving your model as an HDF5 file via `model.save()` or `keras.saving.save_model(model)`. This file format is considered legacy. We recommend using instead the native Keras format, e.g. `model.save('my_model.keras')` or `keras.saving.save_model(model, 'my_model.keras')`. \n"
     ]
    },
    {
     "name": "stdout",
     "output_type": "stream",
     "text": [
      "\u001b[1m12/12\u001b[0m \u001b[32m━━━━━━━━━━━━━━━━━━━━\u001b[0m\u001b[37m\u001b[0m \u001b[1m0s\u001b[0m 22ms/step - loss: 2753989.0000 - mae: 1098.1442 - val_loss: 6410480.5000 - val_mae: 1797.1008 - learning_rate: 0.0010\n",
      "Epoch 17/100\n",
      "\u001b[1m11/12\u001b[0m \u001b[32m━━━━━━━━━━━━━━━━━━\u001b[0m\u001b[37m━━\u001b[0m \u001b[1m0s\u001b[0m 10ms/step - loss: 2650380.5000 - mae: 1061.0824\n",
      "Epoch 17: val_loss improved from 6410480.50000 to 6265279.50000, saving model to best_cnn_lstm_model.h5\n"
     ]
    },
    {
     "name": "stderr",
     "output_type": "stream",
     "text": [
      "WARNING:absl:You are saving your model as an HDF5 file via `model.save()` or `keras.saving.save_model(model)`. This file format is considered legacy. We recommend using instead the native Keras format, e.g. `model.save('my_model.keras')` or `keras.saving.save_model(model, 'my_model.keras')`. \n"
     ]
    },
    {
     "name": "stdout",
     "output_type": "stream",
     "text": [
      "\u001b[1m12/12\u001b[0m \u001b[32m━━━━━━━━━━━━━━━━━━━━\u001b[0m\u001b[37m\u001b[0m \u001b[1m0s\u001b[0m 23ms/step - loss: 2644076.5000 - mae: 1059.6333 - val_loss: 6265279.5000 - val_mae: 1763.9292 - learning_rate: 0.0010\n",
      "Epoch 18/100\n",
      "\u001b[1m 8/12\u001b[0m \u001b[32m━━━━━━━━━━━━━\u001b[0m\u001b[37m━━━━━━━\u001b[0m \u001b[1m0s\u001b[0m 8ms/step - loss: 2649695.0000 - mae: 1044.3722 \n",
      "Epoch 18: val_loss improved from 6265279.50000 to 6115348.00000, saving model to best_cnn_lstm_model.h5\n"
     ]
    },
    {
     "name": "stderr",
     "output_type": "stream",
     "text": [
      "WARNING:absl:You are saving your model as an HDF5 file via `model.save()` or `keras.saving.save_model(model)`. This file format is considered legacy. We recommend using instead the native Keras format, e.g. `model.save('my_model.keras')` or `keras.saving.save_model(model, 'my_model.keras')`. \n"
     ]
    },
    {
     "name": "stdout",
     "output_type": "stream",
     "text": [
      "\u001b[1m12/12\u001b[0m \u001b[32m━━━━━━━━━━━━━━━━━━━━\u001b[0m\u001b[37m\u001b[0m \u001b[1m0s\u001b[0m 24ms/step - loss: 2606683.0000 - mae: 1036.7574 - val_loss: 6115348.0000 - val_mae: 1730.0608 - learning_rate: 0.0010\n",
      "Epoch 19/100\n",
      "\u001b[1m 9/12\u001b[0m \u001b[32m━━━━━━━━━━━━━━━\u001b[0m\u001b[37m━━━━━\u001b[0m \u001b[1m0s\u001b[0m 14ms/step - loss: 2347263.7500 - mae: 970.3468\n",
      "Epoch 19: val_loss improved from 6115348.00000 to 5963379.00000, saving model to best_cnn_lstm_model.h5\n"
     ]
    },
    {
     "name": "stderr",
     "output_type": "stream",
     "text": [
      "WARNING:absl:You are saving your model as an HDF5 file via `model.save()` or `keras.saving.save_model(model)`. This file format is considered legacy. We recommend using instead the native Keras format, e.g. `model.save('my_model.keras')` or `keras.saving.save_model(model, 'my_model.keras')`. \n"
     ]
    },
    {
     "name": "stdout",
     "output_type": "stream",
     "text": [
      "\u001b[1m12/12\u001b[0m \u001b[32m━━━━━━━━━━━━━━━━━━━━\u001b[0m\u001b[37m\u001b[0m \u001b[1m0s\u001b[0m 23ms/step - loss: 2376253.7500 - mae: 978.2893 - val_loss: 5963379.0000 - val_mae: 1696.5725 - learning_rate: 0.0010\n",
      "Epoch 20/100\n",
      "\u001b[1m11/12\u001b[0m \u001b[32m━━━━━━━━━━━━━━━━━━\u001b[0m\u001b[37m━━\u001b[0m \u001b[1m0s\u001b[0m 11ms/step - loss: 2423039.7500 - mae: 977.9048\n",
      "Epoch 20: val_loss improved from 5963379.00000 to 5809363.00000, saving model to best_cnn_lstm_model.h5\n"
     ]
    },
    {
     "name": "stderr",
     "output_type": "stream",
     "text": [
      "WARNING:absl:You are saving your model as an HDF5 file via `model.save()` or `keras.saving.save_model(model)`. This file format is considered legacy. We recommend using instead the native Keras format, e.g. `model.save('my_model.keras')` or `keras.saving.save_model(model, 'my_model.keras')`. \n"
     ]
    },
    {
     "name": "stdout",
     "output_type": "stream",
     "text": [
      "\u001b[1m12/12\u001b[0m \u001b[32m━━━━━━━━━━━━━━━━━━━━\u001b[0m\u001b[37m\u001b[0m \u001b[1m0s\u001b[0m 21ms/step - loss: 2411945.0000 - mae: 976.3305 - val_loss: 5809363.0000 - val_mae: 1663.8450 - learning_rate: 0.0010\n",
      "Epoch 21/100\n",
      "\u001b[1m 7/12\u001b[0m \u001b[32m━━━━━━━━━━━\u001b[0m\u001b[37m━━━━━━━━━\u001b[0m \u001b[1m0s\u001b[0m 9ms/step - loss: 2091822.3750 - mae: 908.0884 \n",
      "Epoch 21: val_loss improved from 5809363.00000 to 5656059.50000, saving model to best_cnn_lstm_model.h5\n"
     ]
    },
    {
     "name": "stderr",
     "output_type": "stream",
     "text": [
      "WARNING:absl:You are saving your model as an HDF5 file via `model.save()` or `keras.saving.save_model(model)`. This file format is considered legacy. We recommend using instead the native Keras format, e.g. `model.save('my_model.keras')` or `keras.saving.save_model(model, 'my_model.keras')`. \n"
     ]
    },
    {
     "name": "stdout",
     "output_type": "stream",
     "text": [
      "\u001b[1m12/12\u001b[0m \u001b[32m━━━━━━━━━━━━━━━━━━━━\u001b[0m\u001b[37m\u001b[0m \u001b[1m0s\u001b[0m 20ms/step - loss: 2157339.7500 - mae: 921.9104 - val_loss: 5656059.5000 - val_mae: 1632.8627 - learning_rate: 0.0010\n",
      "Epoch 22/100\n",
      "\u001b[1m 7/12\u001b[0m \u001b[32m━━━━━━━━━━━\u001b[0m\u001b[37m━━━━━━━━━\u001b[0m \u001b[1m0s\u001b[0m 9ms/step - loss: 2192655.0000 - mae: 939.3635 \n",
      "Epoch 22: val_loss improved from 5656059.50000 to 5501444.50000, saving model to best_cnn_lstm_model.h5\n"
     ]
    },
    {
     "name": "stderr",
     "output_type": "stream",
     "text": [
      "WARNING:absl:You are saving your model as an HDF5 file via `model.save()` or `keras.saving.save_model(model)`. This file format is considered legacy. We recommend using instead the native Keras format, e.g. `model.save('my_model.keras')` or `keras.saving.save_model(model, 'my_model.keras')`. \n"
     ]
    },
    {
     "name": "stdout",
     "output_type": "stream",
     "text": [
      "\u001b[1m12/12\u001b[0m \u001b[32m━━━━━━━━━━━━━━━━━━━━\u001b[0m\u001b[37m\u001b[0m \u001b[1m0s\u001b[0m 19ms/step - loss: 2192635.2500 - mae: 931.4888 - val_loss: 5501444.5000 - val_mae: 1601.9840 - learning_rate: 0.0010\n",
      "Epoch 23/100\n",
      "\u001b[1m12/12\u001b[0m \u001b[32m━━━━━━━━━━━━━━━━━━━━\u001b[0m\u001b[37m\u001b[0m \u001b[1m0s\u001b[0m 10ms/step - loss: 2130637.0000 - mae: 897.8468\n",
      "Epoch 23: val_loss improved from 5501444.50000 to 5350760.50000, saving model to best_cnn_lstm_model.h5\n"
     ]
    },
    {
     "name": "stderr",
     "output_type": "stream",
     "text": [
      "WARNING:absl:You are saving your model as an HDF5 file via `model.save()` or `keras.saving.save_model(model)`. This file format is considered legacy. We recommend using instead the native Keras format, e.g. `model.save('my_model.keras')` or `keras.saving.save_model(model, 'my_model.keras')`. \n"
     ]
    },
    {
     "name": "stdout",
     "output_type": "stream",
     "text": [
      "\u001b[1m12/12\u001b[0m \u001b[32m━━━━━━━━━━━━━━━━━━━━\u001b[0m\u001b[37m\u001b[0m \u001b[1m0s\u001b[0m 21ms/step - loss: 2127860.2500 - mae: 897.5594 - val_loss: 5350760.5000 - val_mae: 1571.9601 - learning_rate: 0.0010\n",
      "Epoch 24/100\n",
      "\u001b[1m 8/12\u001b[0m \u001b[32m━━━━━━━━━━━━━\u001b[0m\u001b[37m━━━━━━━\u001b[0m \u001b[1m0s\u001b[0m 8ms/step - loss: 2275041.2500 - mae: 924.7517 \n",
      "Epoch 24: val_loss improved from 5350760.50000 to 5201550.00000, saving model to best_cnn_lstm_model.h5\n"
     ]
    },
    {
     "name": "stderr",
     "output_type": "stream",
     "text": [
      "WARNING:absl:You are saving your model as an HDF5 file via `model.save()` or `keras.saving.save_model(model)`. This file format is considered legacy. We recommend using instead the native Keras format, e.g. `model.save('my_model.keras')` or `keras.saving.save_model(model, 'my_model.keras')`. \n"
     ]
    },
    {
     "name": "stdout",
     "output_type": "stream",
     "text": [
      "\u001b[1m12/12\u001b[0m \u001b[32m━━━━━━━━━━━━━━━━━━━━\u001b[0m\u001b[37m\u001b[0m \u001b[1m0s\u001b[0m 22ms/step - loss: 2173034.5000 - mae: 904.8633 - val_loss: 5201550.0000 - val_mae: 1542.6328 - learning_rate: 0.0010\n",
      "Epoch 25/100\n",
      "\u001b[1m 7/12\u001b[0m \u001b[32m━━━━━━━━━━━\u001b[0m\u001b[37m━━━━━━━━━\u001b[0m \u001b[1m0s\u001b[0m 9ms/step - loss: 1918314.2500 - mae: 866.4148 \n",
      "Epoch 25: val_loss improved from 5201550.00000 to 5054569.00000, saving model to best_cnn_lstm_model.h5\n"
     ]
    },
    {
     "name": "stderr",
     "output_type": "stream",
     "text": [
      "WARNING:absl:You are saving your model as an HDF5 file via `model.save()` or `keras.saving.save_model(model)`. This file format is considered legacy. We recommend using instead the native Keras format, e.g. `model.save('my_model.keras')` or `keras.saving.save_model(model, 'my_model.keras')`. \n"
     ]
    },
    {
     "name": "stdout",
     "output_type": "stream",
     "text": [
      "\u001b[1m12/12\u001b[0m \u001b[32m━━━━━━━━━━━━━━━━━━━━\u001b[0m\u001b[37m\u001b[0m \u001b[1m0s\u001b[0m 21ms/step - loss: 1928023.2500 - mae: 862.4310 - val_loss: 5054569.0000 - val_mae: 1515.3088 - learning_rate: 0.0010\n",
      "Epoch 26/100\n",
      "\u001b[1m 8/12\u001b[0m \u001b[32m━━━━━━━━━━━━━\u001b[0m\u001b[37m━━━━━━━\u001b[0m \u001b[1m0s\u001b[0m 8ms/step - loss: 2146534.0000 - mae: 893.4105 \n",
      "Epoch 26: val_loss improved from 5054569.00000 to 4914772.50000, saving model to best_cnn_lstm_model.h5\n"
     ]
    },
    {
     "name": "stderr",
     "output_type": "stream",
     "text": [
      "WARNING:absl:You are saving your model as an HDF5 file via `model.save()` or `keras.saving.save_model(model)`. This file format is considered legacy. We recommend using instead the native Keras format, e.g. `model.save('my_model.keras')` or `keras.saving.save_model(model, 'my_model.keras')`. \n"
     ]
    },
    {
     "name": "stdout",
     "output_type": "stream",
     "text": [
      "\u001b[1m12/12\u001b[0m \u001b[32m━━━━━━━━━━━━━━━━━━━━\u001b[0m\u001b[37m\u001b[0m \u001b[1m0s\u001b[0m 22ms/step - loss: 2036069.0000 - mae: 871.5736 - val_loss: 4914772.5000 - val_mae: 1489.6517 - learning_rate: 0.0010\n",
      "Epoch 27/100\n",
      "\u001b[1m 6/12\u001b[0m \u001b[32m━━━━━━━━━━\u001b[0m\u001b[37m━━━━━━━━━━\u001b[0m \u001b[1m0s\u001b[0m 10ms/step - loss: 1776399.7500 - mae: 818.6775\n",
      "Epoch 27: val_loss improved from 4914772.50000 to 4782489.00000, saving model to best_cnn_lstm_model.h5\n"
     ]
    },
    {
     "name": "stderr",
     "output_type": "stream",
     "text": [
      "WARNING:absl:You are saving your model as an HDF5 file via `model.save()` or `keras.saving.save_model(model)`. This file format is considered legacy. We recommend using instead the native Keras format, e.g. `model.save('my_model.keras')` or `keras.saving.save_model(model, 'my_model.keras')`. \n"
     ]
    },
    {
     "name": "stdout",
     "output_type": "stream",
     "text": [
      "\u001b[1m12/12\u001b[0m \u001b[32m━━━━━━━━━━━━━━━━━━━━\u001b[0m\u001b[37m\u001b[0m \u001b[1m0s\u001b[0m 22ms/step - loss: 1775768.6250 - mae: 818.3918 - val_loss: 4782489.0000 - val_mae: 1465.8121 - learning_rate: 0.0010\n",
      "Epoch 28/100\n",
      "\u001b[1m 8/12\u001b[0m \u001b[32m━━━━━━━━━━━━━\u001b[0m\u001b[37m━━━━━━━\u001b[0m \u001b[1m0s\u001b[0m 7ms/step - loss: 1663085.8750 - mae: 793.5015 \n",
      "Epoch 28: val_loss improved from 4782489.00000 to 4655824.50000, saving model to best_cnn_lstm_model.h5\n"
     ]
    },
    {
     "name": "stderr",
     "output_type": "stream",
     "text": [
      "WARNING:absl:You are saving your model as an HDF5 file via `model.save()` or `keras.saving.save_model(model)`. This file format is considered legacy. We recommend using instead the native Keras format, e.g. `model.save('my_model.keras')` or `keras.saving.save_model(model, 'my_model.keras')`. \n"
     ]
    },
    {
     "name": "stdout",
     "output_type": "stream",
     "text": [
      "\u001b[1m12/12\u001b[0m \u001b[32m━━━━━━━━━━━━━━━━━━━━\u001b[0m\u001b[37m\u001b[0m \u001b[1m0s\u001b[0m 20ms/step - loss: 1694978.6250 - mae: 800.1176 - val_loss: 4655824.5000 - val_mae: 1444.3782 - learning_rate: 0.0010\n",
      "Epoch 29/100\n",
      "\u001b[1m 8/12\u001b[0m \u001b[32m━━━━━━━━━━━━━\u001b[0m\u001b[37m━━━━━━━\u001b[0m \u001b[1m0s\u001b[0m 8ms/step - loss: 1840439.7500 - mae: 830.0463 \n",
      "Epoch 29: val_loss improved from 4655824.50000 to 4534849.50000, saving model to best_cnn_lstm_model.h5\n"
     ]
    },
    {
     "name": "stderr",
     "output_type": "stream",
     "text": [
      "WARNING:absl:You are saving your model as an HDF5 file via `model.save()` or `keras.saving.save_model(model)`. This file format is considered legacy. We recommend using instead the native Keras format, e.g. `model.save('my_model.keras')` or `keras.saving.save_model(model, 'my_model.keras')`. \n"
     ]
    },
    {
     "name": "stdout",
     "output_type": "stream",
     "text": [
      "\u001b[1m12/12\u001b[0m \u001b[32m━━━━━━━━━━━━━━━━━━━━\u001b[0m\u001b[37m\u001b[0m \u001b[1m0s\u001b[0m 23ms/step - loss: 1756019.5000 - mae: 813.3469 - val_loss: 4534849.5000 - val_mae: 1423.9855 - learning_rate: 0.0010\n",
      "Epoch 30/100\n",
      "\u001b[1m 7/12\u001b[0m \u001b[32m━━━━━━━━━━━\u001b[0m\u001b[37m━━━━━━━━━\u001b[0m \u001b[1m0s\u001b[0m 9ms/step - loss: 1574607.6250 - mae: 772.6387 \n",
      "Epoch 30: val_loss improved from 4534849.50000 to 4413391.00000, saving model to best_cnn_lstm_model.h5\n"
     ]
    },
    {
     "name": "stderr",
     "output_type": "stream",
     "text": [
      "WARNING:absl:You are saving your model as an HDF5 file via `model.save()` or `keras.saving.save_model(model)`. This file format is considered legacy. We recommend using instead the native Keras format, e.g. `model.save('my_model.keras')` or `keras.saving.save_model(model, 'my_model.keras')`. \n"
     ]
    },
    {
     "name": "stdout",
     "output_type": "stream",
     "text": [
      "\u001b[1m12/12\u001b[0m \u001b[32m━━━━━━━━━━━━━━━━━━━━\u001b[0m\u001b[37m\u001b[0m \u001b[1m0s\u001b[0m 21ms/step - loss: 1590388.1250 - mae: 774.8815 - val_loss: 4413391.0000 - val_mae: 1403.2941 - learning_rate: 0.0010\n",
      "Epoch 31/100\n",
      "\u001b[1m 8/12\u001b[0m \u001b[32m━━━━━━━━━━━━━\u001b[0m\u001b[37m━━━━━━━\u001b[0m \u001b[1m0s\u001b[0m 8ms/step - loss: 1604448.1250 - mae: 773.8608 \n",
      "Epoch 31: val_loss improved from 4413391.00000 to 4301241.00000, saving model to best_cnn_lstm_model.h5\n"
     ]
    },
    {
     "name": "stderr",
     "output_type": "stream",
     "text": [
      "WARNING:absl:You are saving your model as an HDF5 file via `model.save()` or `keras.saving.save_model(model)`. This file format is considered legacy. We recommend using instead the native Keras format, e.g. `model.save('my_model.keras')` or `keras.saving.save_model(model, 'my_model.keras')`. \n"
     ]
    },
    {
     "name": "stdout",
     "output_type": "stream",
     "text": [
      "\u001b[1m12/12\u001b[0m \u001b[32m━━━━━━━━━━━━━━━━━━━━\u001b[0m\u001b[37m\u001b[0m \u001b[1m0s\u001b[0m 19ms/step - loss: 1590528.1250 - mae: 770.8360 - val_loss: 4301241.0000 - val_mae: 1384.1562 - learning_rate: 0.0010\n",
      "Epoch 32/100\n",
      "\u001b[1m 8/12\u001b[0m \u001b[32m━━━━━━━━━━━━━\u001b[0m\u001b[37m━━━━━━━\u001b[0m \u001b[1m0s\u001b[0m 8ms/step - loss: 1473126.7500 - mae: 745.1946 \n",
      "Epoch 32: val_loss improved from 4301241.00000 to 4197481.00000, saving model to best_cnn_lstm_model.h5\n"
     ]
    },
    {
     "name": "stderr",
     "output_type": "stream",
     "text": [
      "WARNING:absl:You are saving your model as an HDF5 file via `model.save()` or `keras.saving.save_model(model)`. This file format is considered legacy. We recommend using instead the native Keras format, e.g. `model.save('my_model.keras')` or `keras.saving.save_model(model, 'my_model.keras')`. \n"
     ]
    },
    {
     "name": "stdout",
     "output_type": "stream",
     "text": [
      "\u001b[1m12/12\u001b[0m \u001b[32m━━━━━━━━━━━━━━━━━━━━\u001b[0m\u001b[37m\u001b[0m \u001b[1m0s\u001b[0m 23ms/step - loss: 1502558.5000 - mae: 750.0833 - val_loss: 4197481.0000 - val_mae: 1366.5725 - learning_rate: 0.0010\n",
      "Epoch 33/100\n",
      "\u001b[1m 7/12\u001b[0m \u001b[32m━━━━━━━━━━━\u001b[0m\u001b[37m━━━━━━━━━\u001b[0m \u001b[1m0s\u001b[0m 9ms/step - loss: 1642493.6250 - mae: 763.3673 \n",
      "Epoch 33: val_loss improved from 4197481.00000 to 4097186.75000, saving model to best_cnn_lstm_model.h5\n"
     ]
    },
    {
     "name": "stderr",
     "output_type": "stream",
     "text": [
      "WARNING:absl:You are saving your model as an HDF5 file via `model.save()` or `keras.saving.save_model(model)`. This file format is considered legacy. We recommend using instead the native Keras format, e.g. `model.save('my_model.keras')` or `keras.saving.save_model(model, 'my_model.keras')`. \n"
     ]
    },
    {
     "name": "stdout",
     "output_type": "stream",
     "text": [
      "\u001b[1m12/12\u001b[0m \u001b[32m━━━━━━━━━━━━━━━━━━━━\u001b[0m\u001b[37m\u001b[0m \u001b[1m0s\u001b[0m 22ms/step - loss: 1573472.7500 - mae: 753.3657 - val_loss: 4097186.7500 - val_mae: 1349.5522 - learning_rate: 0.0010\n",
      "Epoch 34/100\n",
      "\u001b[1m11/12\u001b[0m \u001b[32m━━━━━━━━━━━━━━━━━━\u001b[0m\u001b[37m━━\u001b[0m \u001b[1m0s\u001b[0m 11ms/step - loss: 1331834.8750 - mae: 705.4692\n",
      "Epoch 34: val_loss improved from 4097186.75000 to 4007108.00000, saving model to best_cnn_lstm_model.h5\n"
     ]
    },
    {
     "name": "stderr",
     "output_type": "stream",
     "text": [
      "WARNING:absl:You are saving your model as an HDF5 file via `model.save()` or `keras.saving.save_model(model)`. This file format is considered legacy. We recommend using instead the native Keras format, e.g. `model.save('my_model.keras')` or `keras.saving.save_model(model, 'my_model.keras')`. \n"
     ]
    },
    {
     "name": "stdout",
     "output_type": "stream",
     "text": [
      "\u001b[1m12/12\u001b[0m \u001b[32m━━━━━━━━━━━━━━━━━━━━\u001b[0m\u001b[37m\u001b[0m \u001b[1m0s\u001b[0m 25ms/step - loss: 1340868.3750 - mae: 707.7051 - val_loss: 4007108.0000 - val_mae: 1334.5065 - learning_rate: 0.0010\n",
      "Epoch 35/100\n",
      "\u001b[1m 9/12\u001b[0m \u001b[32m━━━━━━━━━━━━━━━\u001b[0m\u001b[37m━━━━━\u001b[0m \u001b[1m0s\u001b[0m 7ms/step - loss: 1244395.2500 - mae: 684.8132 \n",
      "Epoch 35: val_loss improved from 4007108.00000 to 3918764.75000, saving model to best_cnn_lstm_model.h5\n"
     ]
    },
    {
     "name": "stderr",
     "output_type": "stream",
     "text": [
      "WARNING:absl:You are saving your model as an HDF5 file via `model.save()` or `keras.saving.save_model(model)`. This file format is considered legacy. We recommend using instead the native Keras format, e.g. `model.save('my_model.keras')` or `keras.saving.save_model(model, 'my_model.keras')`. \n"
     ]
    },
    {
     "name": "stdout",
     "output_type": "stream",
     "text": [
      "\u001b[1m12/12\u001b[0m \u001b[32m━━━━━━━━━━━━━━━━━━━━\u001b[0m\u001b[37m\u001b[0m \u001b[1m0s\u001b[0m 20ms/step - loss: 1272377.6250 - mae: 690.8497 - val_loss: 3918764.7500 - val_mae: 1319.9161 - learning_rate: 0.0010\n",
      "Epoch 36/100\n",
      "\u001b[1m 8/12\u001b[0m \u001b[32m━━━━━━━━━━━━━\u001b[0m\u001b[37m━━━━━━━\u001b[0m \u001b[1m0s\u001b[0m 7ms/step - loss: 1294011.8750 - mae: 684.1559 \n",
      "Epoch 36: val_loss improved from 3918764.75000 to 3830141.75000, saving model to best_cnn_lstm_model.h5\n"
     ]
    },
    {
     "name": "stderr",
     "output_type": "stream",
     "text": [
      "WARNING:absl:You are saving your model as an HDF5 file via `model.save()` or `keras.saving.save_model(model)`. This file format is considered legacy. We recommend using instead the native Keras format, e.g. `model.save('my_model.keras')` or `keras.saving.save_model(model, 'my_model.keras')`. \n"
     ]
    },
    {
     "name": "stdout",
     "output_type": "stream",
     "text": [
      "\u001b[1m12/12\u001b[0m \u001b[32m━━━━━━━━━━━━━━━━━━━━\u001b[0m\u001b[37m\u001b[0m \u001b[1m0s\u001b[0m 24ms/step - loss: 1302184.6250 - mae: 688.5271 - val_loss: 3830141.7500 - val_mae: 1305.6130 - learning_rate: 0.0010\n",
      "Epoch 37/100\n",
      "\u001b[1m 8/12\u001b[0m \u001b[32m━━━━━━━━━━━━━\u001b[0m\u001b[37m━━━━━━━\u001b[0m \u001b[1m0s\u001b[0m 8ms/step - loss: 1456702.6250 - mae: 715.9126 \n",
      "Epoch 37: val_loss improved from 3830141.75000 to 3748938.75000, saving model to best_cnn_lstm_model.h5\n"
     ]
    },
    {
     "name": "stderr",
     "output_type": "stream",
     "text": [
      "WARNING:absl:You are saving your model as an HDF5 file via `model.save()` or `keras.saving.save_model(model)`. This file format is considered legacy. We recommend using instead the native Keras format, e.g. `model.save('my_model.keras')` or `keras.saving.save_model(model, 'my_model.keras')`. \n"
     ]
    },
    {
     "name": "stdout",
     "output_type": "stream",
     "text": [
      "\u001b[1m12/12\u001b[0m \u001b[32m━━━━━━━━━━━━━━━━━━━━\u001b[0m\u001b[37m\u001b[0m \u001b[1m0s\u001b[0m 20ms/step - loss: 1392517.8750 - mae: 704.2173 - val_loss: 3748938.7500 - val_mae: 1292.6263 - learning_rate: 0.0010\n",
      "Epoch 38/100\n",
      "\u001b[1m 8/12\u001b[0m \u001b[32m━━━━━━━━━━━━━\u001b[0m\u001b[37m━━━━━━━\u001b[0m \u001b[1m0s\u001b[0m 8ms/step - loss: 1470560.0000 - mae: 727.8447 \n",
      "Epoch 38: val_loss improved from 3748938.75000 to 3678014.50000, saving model to best_cnn_lstm_model.h5\n"
     ]
    },
    {
     "name": "stderr",
     "output_type": "stream",
     "text": [
      "WARNING:absl:You are saving your model as an HDF5 file via `model.save()` or `keras.saving.save_model(model)`. This file format is considered legacy. We recommend using instead the native Keras format, e.g. `model.save('my_model.keras')` or `keras.saving.save_model(model, 'my_model.keras')`. \n"
     ]
    },
    {
     "name": "stdout",
     "output_type": "stream",
     "text": [
      "\u001b[1m12/12\u001b[0m \u001b[32m━━━━━━━━━━━━━━━━━━━━\u001b[0m\u001b[37m\u001b[0m \u001b[1m0s\u001b[0m 21ms/step - loss: 1379354.7500 - mae: 707.0583 - val_loss: 3678014.5000 - val_mae: 1280.8921 - learning_rate: 0.0010\n",
      "Epoch 39/100\n",
      "\u001b[1m 9/12\u001b[0m \u001b[32m━━━━━━━━━━━━━━━\u001b[0m\u001b[37m━━━━━\u001b[0m \u001b[1m0s\u001b[0m 7ms/step - loss: 1107042.6250 - mae: 639.7929\n",
      "Epoch 39: val_loss improved from 3678014.50000 to 3610909.25000, saving model to best_cnn_lstm_model.h5\n"
     ]
    },
    {
     "name": "stderr",
     "output_type": "stream",
     "text": [
      "WARNING:absl:You are saving your model as an HDF5 file via `model.save()` or `keras.saving.save_model(model)`. This file format is considered legacy. We recommend using instead the native Keras format, e.g. `model.save('my_model.keras')` or `keras.saving.save_model(model, 'my_model.keras')`. \n"
     ]
    },
    {
     "name": "stdout",
     "output_type": "stream",
     "text": [
      "\u001b[1m12/12\u001b[0m \u001b[32m━━━━━━━━━━━━━━━━━━━━\u001b[0m\u001b[37m\u001b[0m \u001b[1m0s\u001b[0m 20ms/step - loss: 1135639.3750 - mae: 646.4775 - val_loss: 3610909.2500 - val_mae: 1269.6398 - learning_rate: 0.0010\n",
      "Epoch 40/100\n",
      "\u001b[1m 8/12\u001b[0m \u001b[32m━━━━━━━━━━━━━\u001b[0m\u001b[37m━━━━━━━\u001b[0m \u001b[1m0s\u001b[0m 7ms/step - loss: 1098515.7500 - mae: 644.0641\n",
      "Epoch 40: val_loss improved from 3610909.25000 to 3540233.25000, saving model to best_cnn_lstm_model.h5\n"
     ]
    },
    {
     "name": "stderr",
     "output_type": "stream",
     "text": [
      "WARNING:absl:You are saving your model as an HDF5 file via `model.save()` or `keras.saving.save_model(model)`. This file format is considered legacy. We recommend using instead the native Keras format, e.g. `model.save('my_model.keras')` or `keras.saving.save_model(model, 'my_model.keras')`. \n"
     ]
    },
    {
     "name": "stdout",
     "output_type": "stream",
     "text": [
      "\u001b[1m12/12\u001b[0m \u001b[32m━━━━━━━━━━━━━━━━━━━━\u001b[0m\u001b[37m\u001b[0m \u001b[1m0s\u001b[0m 21ms/step - loss: 1125061.3750 - mae: 647.0820 - val_loss: 3540233.2500 - val_mae: 1258.1571 - learning_rate: 0.0010\n",
      "Epoch 41/100\n",
      "\u001b[1m 9/12\u001b[0m \u001b[32m━━━━━━━━━━━━━━━\u001b[0m\u001b[37m━━━━━\u001b[0m \u001b[1m0s\u001b[0m 7ms/step - loss: 1323632.8750 - mae: 686.8441 \n",
      "Epoch 41: val_loss improved from 3540233.25000 to 3476391.50000, saving model to best_cnn_lstm_model.h5\n"
     ]
    },
    {
     "name": "stderr",
     "output_type": "stream",
     "text": [
      "WARNING:absl:You are saving your model as an HDF5 file via `model.save()` or `keras.saving.save_model(model)`. This file format is considered legacy. We recommend using instead the native Keras format, e.g. `model.save('my_model.keras')` or `keras.saving.save_model(model, 'my_model.keras')`. \n"
     ]
    },
    {
     "name": "stdout",
     "output_type": "stream",
     "text": [
      "\u001b[1m12/12\u001b[0m \u001b[32m━━━━━━━━━━━━━━━━━━━━\u001b[0m\u001b[37m\u001b[0m \u001b[1m0s\u001b[0m 18ms/step - loss: 1267445.8750 - mae: 674.2429 - val_loss: 3476391.5000 - val_mae: 1247.9960 - learning_rate: 0.0010\n",
      "Epoch 42/100\n",
      "\u001b[1m 8/12\u001b[0m \u001b[32m━━━━━━━━━━━━━\u001b[0m\u001b[37m━━━━━━━\u001b[0m \u001b[1m0s\u001b[0m 7ms/step - loss: 1120740.1250 - mae: 635.3925 \n",
      "Epoch 42: val_loss improved from 3476391.50000 to 3425490.75000, saving model to best_cnn_lstm_model.h5\n"
     ]
    },
    {
     "name": "stderr",
     "output_type": "stream",
     "text": [
      "WARNING:absl:You are saving your model as an HDF5 file via `model.save()` or `keras.saving.save_model(model)`. This file format is considered legacy. We recommend using instead the native Keras format, e.g. `model.save('my_model.keras')` or `keras.saving.save_model(model, 'my_model.keras')`. \n"
     ]
    },
    {
     "name": "stdout",
     "output_type": "stream",
     "text": [
      "\u001b[1m12/12\u001b[0m \u001b[32m━━━━━━━━━━━━━━━━━━━━\u001b[0m\u001b[37m\u001b[0m \u001b[1m0s\u001b[0m 21ms/step - loss: 1105315.0000 - mae: 632.0042 - val_loss: 3425490.7500 - val_mae: 1239.8955 - learning_rate: 0.0010\n",
      "Epoch 43/100\n",
      "\u001b[1m 6/12\u001b[0m \u001b[32m━━━━━━━━━━\u001b[0m\u001b[37m━━━━━━━━━━\u001b[0m \u001b[1m0s\u001b[0m 10ms/step - loss: 1163530.1250 - mae: 643.0432\n",
      "Epoch 43: val_loss improved from 3425490.75000 to 3371268.25000, saving model to best_cnn_lstm_model.h5\n"
     ]
    },
    {
     "name": "stderr",
     "output_type": "stream",
     "text": [
      "WARNING:absl:You are saving your model as an HDF5 file via `model.save()` or `keras.saving.save_model(model)`. This file format is considered legacy. We recommend using instead the native Keras format, e.g. `model.save('my_model.keras')` or `keras.saving.save_model(model, 'my_model.keras')`. \n"
     ]
    },
    {
     "name": "stdout",
     "output_type": "stream",
     "text": [
      "\u001b[1m12/12\u001b[0m \u001b[32m━━━━━━━━━━━━━━━━━━━━\u001b[0m\u001b[37m\u001b[0m \u001b[1m0s\u001b[0m 21ms/step - loss: 1135333.6250 - mae: 638.7002 - val_loss: 3371268.2500 - val_mae: 1231.5184 - learning_rate: 0.0010\n",
      "Epoch 44/100\n",
      "\u001b[1m10/12\u001b[0m \u001b[32m━━━━━━━━━━━━━━━━\u001b[0m\u001b[37m━━━━\u001b[0m \u001b[1m0s\u001b[0m 12ms/step - loss: 1262496.8750 - mae: 661.7421\n",
      "Epoch 44: val_loss improved from 3371268.25000 to 3322806.00000, saving model to best_cnn_lstm_model.h5\n"
     ]
    },
    {
     "name": "stderr",
     "output_type": "stream",
     "text": [
      "WARNING:absl:You are saving your model as an HDF5 file via `model.save()` or `keras.saving.save_model(model)`. This file format is considered legacy. We recommend using instead the native Keras format, e.g. `model.save('my_model.keras')` or `keras.saving.save_model(model, 'my_model.keras')`. \n"
     ]
    },
    {
     "name": "stdout",
     "output_type": "stream",
     "text": [
      "\u001b[1m12/12\u001b[0m \u001b[32m━━━━━━━━━━━━━━━━━━━━\u001b[0m\u001b[37m\u001b[0m \u001b[1m0s\u001b[0m 23ms/step - loss: 1211901.6250 - mae: 652.2762 - val_loss: 3322806.0000 - val_mae: 1224.0011 - learning_rate: 0.0010\n",
      "Epoch 45/100\n",
      "\u001b[1m 7/12\u001b[0m \u001b[32m━━━━━━━━━━━\u001b[0m\u001b[37m━━━━━━━━━\u001b[0m \u001b[1m0s\u001b[0m 9ms/step - loss: 1158243.3750 - mae: 631.5425 \n",
      "Epoch 45: val_loss improved from 3322806.00000 to 3271489.50000, saving model to best_cnn_lstm_model.h5\n"
     ]
    },
    {
     "name": "stderr",
     "output_type": "stream",
     "text": [
      "WARNING:absl:You are saving your model as an HDF5 file via `model.save()` or `keras.saving.save_model(model)`. This file format is considered legacy. We recommend using instead the native Keras format, e.g. `model.save('my_model.keras')` or `keras.saving.save_model(model, 'my_model.keras')`. \n"
     ]
    },
    {
     "name": "stdout",
     "output_type": "stream",
     "text": [
      "\u001b[1m12/12\u001b[0m \u001b[32m━━━━━━━━━━━━━━━━━━━━\u001b[0m\u001b[37m\u001b[0m \u001b[1m0s\u001b[0m 24ms/step - loss: 1096780.3750 - mae: 622.3761 - val_loss: 3271489.5000 - val_mae: 1216.4857 - learning_rate: 0.0010\n",
      "Epoch 46/100\n",
      "\u001b[1m 7/12\u001b[0m \u001b[32m━━━━━━━━━━━\u001b[0m\u001b[37m━━━━━━━━━\u001b[0m \u001b[1m0s\u001b[0m 10ms/step - loss: 989059.1250 - mae: 615.6525\n",
      "Epoch 46: val_loss improved from 3271489.50000 to 3228961.75000, saving model to best_cnn_lstm_model.h5\n"
     ]
    },
    {
     "name": "stderr",
     "output_type": "stream",
     "text": [
      "WARNING:absl:You are saving your model as an HDF5 file via `model.save()` or `keras.saving.save_model(model)`. This file format is considered legacy. We recommend using instead the native Keras format, e.g. `model.save('my_model.keras')` or `keras.saving.save_model(model, 'my_model.keras')`. \n"
     ]
    },
    {
     "name": "stdout",
     "output_type": "stream",
     "text": [
      "\u001b[1m12/12\u001b[0m \u001b[32m━━━━━━━━━━━━━━━━━━━━\u001b[0m\u001b[37m\u001b[0m \u001b[1m0s\u001b[0m 21ms/step - loss: 993724.1250 - mae: 613.5730 - val_loss: 3228961.7500 - val_mae: 1210.8701 - learning_rate: 0.0010\n",
      "Epoch 47/100\n",
      "\u001b[1m 7/12\u001b[0m \u001b[32m━━━━━━━━━━━\u001b[0m\u001b[37m━━━━━━━━━\u001b[0m \u001b[1m0s\u001b[0m 10ms/step - loss: 1197316.3750 - mae: 642.0380\n",
      "Epoch 47: val_loss improved from 3228961.75000 to 3186363.00000, saving model to best_cnn_lstm_model.h5\n"
     ]
    },
    {
     "name": "stderr",
     "output_type": "stream",
     "text": [
      "WARNING:absl:You are saving your model as an HDF5 file via `model.save()` or `keras.saving.save_model(model)`. This file format is considered legacy. We recommend using instead the native Keras format, e.g. `model.save('my_model.keras')` or `keras.saving.save_model(model, 'my_model.keras')`. \n"
     ]
    },
    {
     "name": "stdout",
     "output_type": "stream",
     "text": [
      "\u001b[1m12/12\u001b[0m \u001b[32m━━━━━━━━━━━━━━━━━━━━\u001b[0m\u001b[37m\u001b[0m \u001b[1m0s\u001b[0m 22ms/step - loss: 1129515.0000 - mae: 630.5292 - val_loss: 3186363.0000 - val_mae: 1205.3499 - learning_rate: 0.0010\n",
      "Epoch 48/100\n",
      "\u001b[1m 7/12\u001b[0m \u001b[32m━━━━━━━━━━━\u001b[0m\u001b[37m━━━━━━━━━\u001b[0m \u001b[1m0s\u001b[0m 9ms/step - loss: 960787.2500 - mae: 610.2070 \n",
      "Epoch 48: val_loss improved from 3186363.00000 to 3155069.75000, saving model to best_cnn_lstm_model.h5\n"
     ]
    },
    {
     "name": "stderr",
     "output_type": "stream",
     "text": [
      "WARNING:absl:You are saving your model as an HDF5 file via `model.save()` or `keras.saving.save_model(model)`. This file format is considered legacy. We recommend using instead the native Keras format, e.g. `model.save('my_model.keras')` or `keras.saving.save_model(model, 'my_model.keras')`. \n"
     ]
    },
    {
     "name": "stdout",
     "output_type": "stream",
     "text": [
      "\u001b[1m12/12\u001b[0m \u001b[32m━━━━━━━━━━━━━━━━━━━━\u001b[0m\u001b[37m\u001b[0m \u001b[1m0s\u001b[0m 24ms/step - loss: 975268.2500 - mae: 609.6637 - val_loss: 3155069.7500 - val_mae: 1201.4487 - learning_rate: 0.0010\n",
      "Epoch 49/100\n",
      "\u001b[1m 7/12\u001b[0m \u001b[32m━━━━━━━━━━━\u001b[0m\u001b[37m━━━━━━━━━\u001b[0m \u001b[1m0s\u001b[0m 9ms/step - loss: 1053762.7500 - mae: 607.6079\n",
      "Epoch 49: val_loss improved from 3155069.75000 to 3121268.50000, saving model to best_cnn_lstm_model.h5\n"
     ]
    },
    {
     "name": "stderr",
     "output_type": "stream",
     "text": [
      "WARNING:absl:You are saving your model as an HDF5 file via `model.save()` or `keras.saving.save_model(model)`. This file format is considered legacy. We recommend using instead the native Keras format, e.g. `model.save('my_model.keras')` or `keras.saving.save_model(model, 'my_model.keras')`. \n"
     ]
    },
    {
     "name": "stdout",
     "output_type": "stream",
     "text": [
      "\u001b[1m12/12\u001b[0m \u001b[32m━━━━━━━━━━━━━━━━━━━━\u001b[0m\u001b[37m\u001b[0m \u001b[1m0s\u001b[0m 20ms/step - loss: 1043785.6250 - mae: 609.8712 - val_loss: 3121268.5000 - val_mae: 1197.3507 - learning_rate: 0.0010\n",
      "Epoch 50/100\n",
      "\u001b[1m 7/12\u001b[0m \u001b[32m━━━━━━━━━━━\u001b[0m\u001b[37m━━━━━━━━━\u001b[0m \u001b[1m0s\u001b[0m 9ms/step - loss: 960106.6875 - mae: 583.3257 \n",
      "Epoch 50: val_loss improved from 3121268.50000 to 3094754.75000, saving model to best_cnn_lstm_model.h5\n"
     ]
    },
    {
     "name": "stderr",
     "output_type": "stream",
     "text": [
      "WARNING:absl:You are saving your model as an HDF5 file via `model.save()` or `keras.saving.save_model(model)`. This file format is considered legacy. We recommend using instead the native Keras format, e.g. `model.save('my_model.keras')` or `keras.saving.save_model(model, 'my_model.keras')`. \n"
     ]
    },
    {
     "name": "stdout",
     "output_type": "stream",
     "text": [
      "\u001b[1m12/12\u001b[0m \u001b[32m━━━━━━━━━━━━━━━━━━━━\u001b[0m\u001b[37m\u001b[0m \u001b[1m0s\u001b[0m 20ms/step - loss: 968622.5625 - mae: 593.2277 - val_loss: 3094754.7500 - val_mae: 1194.2821 - learning_rate: 0.0010\n",
      "Epoch 51/100\n",
      "\u001b[1m 8/12\u001b[0m \u001b[32m━━━━━━━━━━━━━\u001b[0m\u001b[37m━━━━━━━\u001b[0m \u001b[1m0s\u001b[0m 8ms/step - loss: 1058251.7500 - mae: 619.9512\n",
      "Epoch 51: val_loss improved from 3094754.75000 to 3067218.25000, saving model to best_cnn_lstm_model.h5\n"
     ]
    },
    {
     "name": "stderr",
     "output_type": "stream",
     "text": [
      "WARNING:absl:You are saving your model as an HDF5 file via `model.save()` or `keras.saving.save_model(model)`. This file format is considered legacy. We recommend using instead the native Keras format, e.g. `model.save('my_model.keras')` or `keras.saving.save_model(model, 'my_model.keras')`. \n"
     ]
    },
    {
     "name": "stdout",
     "output_type": "stream",
     "text": [
      "\u001b[1m12/12\u001b[0m \u001b[32m━━━━━━━━━━━━━━━━━━━━\u001b[0m\u001b[37m\u001b[0m \u001b[1m0s\u001b[0m 21ms/step - loss: 1032449.5000 - mae: 614.9746 - val_loss: 3067218.2500 - val_mae: 1190.9346 - learning_rate: 0.0010\n",
      "Epoch 52/100\n",
      "\u001b[1m 6/12\u001b[0m \u001b[32m━━━━━━━━━━\u001b[0m\u001b[37m━━━━━━━━━━\u001b[0m \u001b[1m0s\u001b[0m 10ms/step - loss: 951712.5625 - mae: 602.7130\n",
      "Epoch 52: val_loss improved from 3067218.25000 to 3041852.75000, saving model to best_cnn_lstm_model.h5\n"
     ]
    },
    {
     "name": "stderr",
     "output_type": "stream",
     "text": [
      "WARNING:absl:You are saving your model as an HDF5 file via `model.save()` or `keras.saving.save_model(model)`. This file format is considered legacy. We recommend using instead the native Keras format, e.g. `model.save('my_model.keras')` or `keras.saving.save_model(model, 'my_model.keras')`. \n"
     ]
    },
    {
     "name": "stdout",
     "output_type": "stream",
     "text": [
      "\u001b[1m12/12\u001b[0m \u001b[32m━━━━━━━━━━━━━━━━━━━━\u001b[0m\u001b[37m\u001b[0m \u001b[1m0s\u001b[0m 21ms/step - loss: 952898.1875 - mae: 601.9639 - val_loss: 3041852.7500 - val_mae: 1187.7738 - learning_rate: 0.0010\n",
      "Epoch 53/100\n",
      "\u001b[1m12/12\u001b[0m \u001b[32m━━━━━━━━━━━━━━━━━━━━\u001b[0m\u001b[37m\u001b[0m \u001b[1m0s\u001b[0m 10ms/step - loss: 975792.2500 - mae: 601.0120\n",
      "Epoch 53: val_loss improved from 3041852.75000 to 3014319.75000, saving model to best_cnn_lstm_model.h5\n"
     ]
    },
    {
     "name": "stderr",
     "output_type": "stream",
     "text": [
      "WARNING:absl:You are saving your model as an HDF5 file via `model.save()` or `keras.saving.save_model(model)`. This file format is considered legacy. We recommend using instead the native Keras format, e.g. `model.save('my_model.keras')` or `keras.saving.save_model(model, 'my_model.keras')`. \n"
     ]
    },
    {
     "name": "stdout",
     "output_type": "stream",
     "text": [
      "\u001b[1m12/12\u001b[0m \u001b[32m━━━━━━━━━━━━━━━━━━━━\u001b[0m\u001b[37m\u001b[0m \u001b[1m0s\u001b[0m 23ms/step - loss: 973307.1875 - mae: 600.8873 - val_loss: 3014319.7500 - val_mae: 1184.2422 - learning_rate: 0.0010\n",
      "Epoch 54/100\n",
      "\u001b[1m 8/12\u001b[0m \u001b[32m━━━━━━━━━━━━━\u001b[0m\u001b[37m━━━━━━━\u001b[0m \u001b[1m0s\u001b[0m 8ms/step - loss: 767500.5000 - mae: 566.4060 \n",
      "Epoch 54: val_loss improved from 3014319.75000 to 2993861.00000, saving model to best_cnn_lstm_model.h5\n"
     ]
    },
    {
     "name": "stderr",
     "output_type": "stream",
     "text": [
      "WARNING:absl:You are saving your model as an HDF5 file via `model.save()` or `keras.saving.save_model(model)`. This file format is considered legacy. We recommend using instead the native Keras format, e.g. `model.save('my_model.keras')` or `keras.saving.save_model(model, 'my_model.keras')`. \n"
     ]
    },
    {
     "name": "stdout",
     "output_type": "stream",
     "text": [
      "\u001b[1m12/12\u001b[0m \u001b[32m━━━━━━━━━━━━━━━━━━━━\u001b[0m\u001b[37m\u001b[0m \u001b[1m0s\u001b[0m 20ms/step - loss: 837600.5000 - mae: 580.4611 - val_loss: 2993861.0000 - val_mae: 1181.6144 - learning_rate: 0.0010\n",
      "Epoch 55/100\n",
      "\u001b[1m11/12\u001b[0m \u001b[32m━━━━━━━━━━━━━━━━━━\u001b[0m\u001b[37m━━\u001b[0m \u001b[1m0s\u001b[0m 11ms/step - loss: 1022538.3125 - mae: 607.3124\n",
      "Epoch 55: val_loss improved from 2993861.00000 to 2971085.75000, saving model to best_cnn_lstm_model.h5\n"
     ]
    },
    {
     "name": "stderr",
     "output_type": "stream",
     "text": [
      "WARNING:absl:You are saving your model as an HDF5 file via `model.save()` or `keras.saving.save_model(model)`. This file format is considered legacy. We recommend using instead the native Keras format, e.g. `model.save('my_model.keras')` or `keras.saving.save_model(model, 'my_model.keras')`. \n"
     ]
    },
    {
     "name": "stdout",
     "output_type": "stream",
     "text": [
      "\u001b[1m12/12\u001b[0m \u001b[32m━━━━━━━━━━━━━━━━━━━━\u001b[0m\u001b[37m\u001b[0m \u001b[1m0s\u001b[0m 24ms/step - loss: 1010939.5625 - mae: 606.2948 - val_loss: 2971085.7500 - val_mae: 1178.5653 - learning_rate: 0.0010\n",
      "Epoch 56/100\n",
      "\u001b[1m 7/12\u001b[0m \u001b[32m━━━━━━━━━━━\u001b[0m\u001b[37m━━━━━━━━━\u001b[0m \u001b[1m0s\u001b[0m 10ms/step - loss: 908766.0000 - mae: 587.9355 \n",
      "Epoch 56: val_loss improved from 2971085.75000 to 2951675.75000, saving model to best_cnn_lstm_model.h5\n"
     ]
    },
    {
     "name": "stderr",
     "output_type": "stream",
     "text": [
      "WARNING:absl:You are saving your model as an HDF5 file via `model.save()` or `keras.saving.save_model(model)`. This file format is considered legacy. We recommend using instead the native Keras format, e.g. `model.save('my_model.keras')` or `keras.saving.save_model(model, 'my_model.keras')`. \n"
     ]
    },
    {
     "name": "stdout",
     "output_type": "stream",
     "text": [
      "\u001b[1m12/12\u001b[0m \u001b[32m━━━━━━━━━━━━━━━━━━━━\u001b[0m\u001b[37m\u001b[0m \u001b[1m0s\u001b[0m 20ms/step - loss: 900458.8125 - mae: 589.6378 - val_loss: 2951675.7500 - val_mae: 1176.0146 - learning_rate: 0.0010\n",
      "Epoch 57/100\n",
      "\u001b[1m 8/12\u001b[0m \u001b[32m━━━━━━━━━━━━━\u001b[0m\u001b[37m━━━━━━━\u001b[0m \u001b[1m0s\u001b[0m 8ms/step - loss: 1146817.6250 - mae: 649.0033 \n",
      "Epoch 57: val_loss improved from 2951675.75000 to 2927352.75000, saving model to best_cnn_lstm_model.h5\n"
     ]
    },
    {
     "name": "stderr",
     "output_type": "stream",
     "text": [
      "WARNING:absl:You are saving your model as an HDF5 file via `model.save()` or `keras.saving.save_model(model)`. This file format is considered legacy. We recommend using instead the native Keras format, e.g. `model.save('my_model.keras')` or `keras.saving.save_model(model, 'my_model.keras')`. \n"
     ]
    },
    {
     "name": "stdout",
     "output_type": "stream",
     "text": [
      "\u001b[1m12/12\u001b[0m \u001b[32m━━━━━━━━━━━━━━━━━━━━\u001b[0m\u001b[37m\u001b[0m \u001b[1m0s\u001b[0m 21ms/step - loss: 1075854.3750 - mae: 632.9745 - val_loss: 2927352.7500 - val_mae: 1172.5262 - learning_rate: 0.0010\n",
      "Epoch 58/100\n",
      "\u001b[1m 6/12\u001b[0m \u001b[32m━━━━━━━━━━\u001b[0m\u001b[37m━━━━━━━━━━\u001b[0m \u001b[1m0s\u001b[0m 11ms/step - loss: 844792.3125 - mae: 583.2448\n",
      "Epoch 58: val_loss improved from 2927352.75000 to 2918735.00000, saving model to best_cnn_lstm_model.h5\n"
     ]
    },
    {
     "name": "stderr",
     "output_type": "stream",
     "text": [
      "WARNING:absl:You are saving your model as an HDF5 file via `model.save()` or `keras.saving.save_model(model)`. This file format is considered legacy. We recommend using instead the native Keras format, e.g. `model.save('my_model.keras')` or `keras.saving.save_model(model, 'my_model.keras')`. \n"
     ]
    },
    {
     "name": "stdout",
     "output_type": "stream",
     "text": [
      "\u001b[1m12/12\u001b[0m \u001b[32m━━━━━━━━━━━━━━━━━━━━\u001b[0m\u001b[37m\u001b[0m \u001b[1m0s\u001b[0m 23ms/step - loss: 869778.6250 - mae: 588.7073 - val_loss: 2918735.0000 - val_mae: 1171.5717 - learning_rate: 0.0010\n",
      "Epoch 59/100\n",
      "\u001b[1m 7/12\u001b[0m \u001b[32m━━━━━━━━━━━\u001b[0m\u001b[37m━━━━━━━━━\u001b[0m \u001b[1m0s\u001b[0m 10ms/step - loss: 1008687.5000 - mae: 618.2275\n",
      "Epoch 59: val_loss improved from 2918735.00000 to 2908868.25000, saving model to best_cnn_lstm_model.h5\n"
     ]
    },
    {
     "name": "stderr",
     "output_type": "stream",
     "text": [
      "WARNING:absl:You are saving your model as an HDF5 file via `model.save()` or `keras.saving.save_model(model)`. This file format is considered legacy. We recommend using instead the native Keras format, e.g. `model.save('my_model.keras')` or `keras.saving.save_model(model, 'my_model.keras')`. \n"
     ]
    },
    {
     "name": "stdout",
     "output_type": "stream",
     "text": [
      "\u001b[1m12/12\u001b[0m \u001b[32m━━━━━━━━━━━━━━━━━━━━\u001b[0m\u001b[37m\u001b[0m \u001b[1m0s\u001b[0m 21ms/step - loss: 976784.8750 - mae: 611.1638 - val_loss: 2908868.2500 - val_mae: 1170.4752 - learning_rate: 0.0010\n",
      "Epoch 60/100\n",
      "\u001b[1m12/12\u001b[0m \u001b[32m━━━━━━━━━━━━━━━━━━━━\u001b[0m\u001b[37m\u001b[0m \u001b[1m0s\u001b[0m 10ms/step - loss: 935183.6875 - mae: 600.3264\n",
      "Epoch 60: val_loss improved from 2908868.25000 to 2900476.50000, saving model to best_cnn_lstm_model.h5\n"
     ]
    },
    {
     "name": "stderr",
     "output_type": "stream",
     "text": [
      "WARNING:absl:You are saving your model as an HDF5 file via `model.save()` or `keras.saving.save_model(model)`. This file format is considered legacy. We recommend using instead the native Keras format, e.g. `model.save('my_model.keras')` or `keras.saving.save_model(model, 'my_model.keras')`. \n"
     ]
    },
    {
     "name": "stdout",
     "output_type": "stream",
     "text": [
      "\u001b[1m12/12\u001b[0m \u001b[32m━━━━━━━━━━━━━━━━━━━━\u001b[0m\u001b[37m\u001b[0m \u001b[1m0s\u001b[0m 23ms/step - loss: 933695.6250 - mae: 600.1353 - val_loss: 2900476.5000 - val_mae: 1169.5358 - learning_rate: 0.0010\n",
      "Epoch 61/100\n",
      "\u001b[1m 8/12\u001b[0m \u001b[32m━━━━━━━━━━━━━\u001b[0m\u001b[37m━━━━━━━\u001b[0m \u001b[1m0s\u001b[0m 8ms/step - loss: 1059559.5000 - mae: 618.4534 \n",
      "Epoch 61: val_loss improved from 2900476.50000 to 2886995.50000, saving model to best_cnn_lstm_model.h5\n"
     ]
    },
    {
     "name": "stderr",
     "output_type": "stream",
     "text": [
      "WARNING:absl:You are saving your model as an HDF5 file via `model.save()` or `keras.saving.save_model(model)`. This file format is considered legacy. We recommend using instead the native Keras format, e.g. `model.save('my_model.keras')` or `keras.saving.save_model(model, 'my_model.keras')`. \n"
     ]
    },
    {
     "name": "stdout",
     "output_type": "stream",
     "text": [
      "\u001b[1m12/12\u001b[0m \u001b[32m━━━━━━━━━━━━━━━━━━━━\u001b[0m\u001b[37m\u001b[0m \u001b[1m0s\u001b[0m 22ms/step - loss: 1015683.5000 - mae: 612.8285 - val_loss: 2886995.5000 - val_mae: 1167.7775 - learning_rate: 0.0010\n",
      "Epoch 62/100\n",
      "\u001b[1m 9/12\u001b[0m \u001b[32m━━━━━━━━━━━━━━━\u001b[0m\u001b[37m━━━━━\u001b[0m \u001b[1m0s\u001b[0m 7ms/step - loss: 910818.5000 - mae: 601.1711 \n",
      "Epoch 62: val_loss improved from 2886995.50000 to 2883466.25000, saving model to best_cnn_lstm_model.h5\n"
     ]
    },
    {
     "name": "stderr",
     "output_type": "stream",
     "text": [
      "WARNING:absl:You are saving your model as an HDF5 file via `model.save()` or `keras.saving.save_model(model)`. This file format is considered legacy. We recommend using instead the native Keras format, e.g. `model.save('my_model.keras')` or `keras.saving.save_model(model, 'my_model.keras')`. \n"
     ]
    },
    {
     "name": "stdout",
     "output_type": "stream",
     "text": [
      "\u001b[1m12/12\u001b[0m \u001b[32m━━━━━━━━━━━━━━━━━━━━\u001b[0m\u001b[37m\u001b[0m \u001b[1m0s\u001b[0m 22ms/step - loss: 909574.3750 - mae: 600.2759 - val_loss: 2883466.2500 - val_mae: 1167.5353 - learning_rate: 0.0010\n",
      "Epoch 63/100\n",
      "\u001b[1m 9/12\u001b[0m \u001b[32m━━━━━━━━━━━━━━━\u001b[0m\u001b[37m━━━━━\u001b[0m \u001b[1m0s\u001b[0m 7ms/step - loss: 981150.8750 - mae: 614.6740 \n",
      "Epoch 63: val_loss improved from 2883466.25000 to 2873217.50000, saving model to best_cnn_lstm_model.h5\n"
     ]
    },
    {
     "name": "stderr",
     "output_type": "stream",
     "text": [
      "WARNING:absl:You are saving your model as an HDF5 file via `model.save()` or `keras.saving.save_model(model)`. This file format is considered legacy. We recommend using instead the native Keras format, e.g. `model.save('my_model.keras')` or `keras.saving.save_model(model, 'my_model.keras')`. \n"
     ]
    },
    {
     "name": "stdout",
     "output_type": "stream",
     "text": [
      "\u001b[1m12/12\u001b[0m \u001b[32m━━━━━━━━━━━━━━━━━━━━\u001b[0m\u001b[37m\u001b[0m \u001b[1m0s\u001b[0m 18ms/step - loss: 971296.0000 - mae: 611.9508 - val_loss: 2873217.5000 - val_mae: 1166.2733 - learning_rate: 0.0010\n",
      "Epoch 64/100\n",
      "\u001b[1m 8/12\u001b[0m \u001b[32m━━━━━━━━━━━━━\u001b[0m\u001b[37m━━━━━━━\u001b[0m \u001b[1m0s\u001b[0m 7ms/step - loss: 1054744.2500 - mae: 631.8159 \n",
      "Epoch 64: val_loss improved from 2873217.50000 to 2868972.00000, saving model to best_cnn_lstm_model.h5\n"
     ]
    },
    {
     "name": "stderr",
     "output_type": "stream",
     "text": [
      "WARNING:absl:You are saving your model as an HDF5 file via `model.save()` or `keras.saving.save_model(model)`. This file format is considered legacy. We recommend using instead the native Keras format, e.g. `model.save('my_model.keras')` or `keras.saving.save_model(model, 'my_model.keras')`. \n"
     ]
    },
    {
     "name": "stdout",
     "output_type": "stream",
     "text": [
      "\u001b[1m12/12\u001b[0m \u001b[32m━━━━━━━━━━━━━━━━━━━━\u001b[0m\u001b[37m\u001b[0m \u001b[1m0s\u001b[0m 22ms/step - loss: 1008864.8125 - mae: 621.6454 - val_loss: 2868972.0000 - val_mae: 1165.8605 - learning_rate: 0.0010\n",
      "Epoch 65/100\n",
      "\u001b[1m 6/12\u001b[0m \u001b[32m━━━━━━━━━━\u001b[0m\u001b[37m━━━━━━━━━━\u001b[0m \u001b[1m0s\u001b[0m 11ms/step - loss: 1015321.4375 - mae: 639.2541\n",
      "Epoch 65: val_loss improved from 2868972.00000 to 2864936.25000, saving model to best_cnn_lstm_model.h5\n"
     ]
    },
    {
     "name": "stderr",
     "output_type": "stream",
     "text": [
      "WARNING:absl:You are saving your model as an HDF5 file via `model.save()` or `keras.saving.save_model(model)`. This file format is considered legacy. We recommend using instead the native Keras format, e.g. `model.save('my_model.keras')` or `keras.saving.save_model(model, 'my_model.keras')`. \n"
     ]
    },
    {
     "name": "stdout",
     "output_type": "stream",
     "text": [
      "\u001b[1m12/12\u001b[0m \u001b[32m━━━━━━━━━━━━━━━━━━━━\u001b[0m\u001b[37m\u001b[0m \u001b[1m0s\u001b[0m 22ms/step - loss: 951419.3125 - mae: 618.8383 - val_loss: 2864936.2500 - val_mae: 1165.4355 - learning_rate: 0.0010\n",
      "Epoch 66/100\n",
      "\u001b[1m 6/12\u001b[0m \u001b[32m━━━━━━━━━━\u001b[0m\u001b[37m━━━━━━━━━━\u001b[0m \u001b[1m0s\u001b[0m 10ms/step - loss: 940747.5000 - mae: 602.0019\n",
      "Epoch 66: val_loss improved from 2864936.25000 to 2860775.25000, saving model to best_cnn_lstm_model.h5\n"
     ]
    },
    {
     "name": "stderr",
     "output_type": "stream",
     "text": [
      "WARNING:absl:You are saving your model as an HDF5 file via `model.save()` or `keras.saving.save_model(model)`. This file format is considered legacy. We recommend using instead the native Keras format, e.g. `model.save('my_model.keras')` or `keras.saving.save_model(model, 'my_model.keras')`. \n"
     ]
    },
    {
     "name": "stdout",
     "output_type": "stream",
     "text": [
      "\u001b[1m12/12\u001b[0m \u001b[32m━━━━━━━━━━━━━━━━━━━━\u001b[0m\u001b[37m\u001b[0m \u001b[1m0s\u001b[0m 23ms/step - loss: 934691.3750 - mae: 601.9971 - val_loss: 2860775.2500 - val_mae: 1165.0333 - learning_rate: 0.0010\n",
      "Epoch 67/100\n",
      "\u001b[1m 8/12\u001b[0m \u001b[32m━━━━━━━━━━━━━\u001b[0m\u001b[37m━━━━━━━\u001b[0m \u001b[1m0s\u001b[0m 8ms/step - loss: 979485.5000 - mae: 626.2795  \n",
      "Epoch 67: val_loss improved from 2860775.25000 to 2859363.25000, saving model to best_cnn_lstm_model.h5\n"
     ]
    },
    {
     "name": "stderr",
     "output_type": "stream",
     "text": [
      "WARNING:absl:You are saving your model as an HDF5 file via `model.save()` or `keras.saving.save_model(model)`. This file format is considered legacy. We recommend using instead the native Keras format, e.g. `model.save('my_model.keras')` or `keras.saving.save_model(model, 'my_model.keras')`. \n"
     ]
    },
    {
     "name": "stdout",
     "output_type": "stream",
     "text": [
      "\u001b[1m12/12\u001b[0m \u001b[32m━━━━━━━━━━━━━━━━━━━━\u001b[0m\u001b[37m\u001b[0m \u001b[1m0s\u001b[0m 21ms/step - loss: 971957.6250 - mae: 622.6172 - val_loss: 2859363.2500 - val_mae: 1164.9966 - learning_rate: 0.0010\n",
      "Epoch 68/100\n",
      "\u001b[1m12/12\u001b[0m \u001b[32m━━━━━━━━━━━━━━━━━━━━\u001b[0m\u001b[37m\u001b[0m \u001b[1m0s\u001b[0m 9ms/step - loss: 919140.3750 - mae: 597.3336 \n",
      "Epoch 68: val_loss improved from 2859363.25000 to 2853220.50000, saving model to best_cnn_lstm_model.h5\n"
     ]
    },
    {
     "name": "stderr",
     "output_type": "stream",
     "text": [
      "WARNING:absl:You are saving your model as an HDF5 file via `model.save()` or `keras.saving.save_model(model)`. This file format is considered legacy. We recommend using instead the native Keras format, e.g. `model.save('my_model.keras')` or `keras.saving.save_model(model, 'my_model.keras')`. \n"
     ]
    },
    {
     "name": "stdout",
     "output_type": "stream",
     "text": [
      "\u001b[1m12/12\u001b[0m \u001b[32m━━━━━━━━━━━━━━━━━━━━\u001b[0m\u001b[37m\u001b[0m \u001b[1m0s\u001b[0m 22ms/step - loss: 919949.0625 - mae: 597.5906 - val_loss: 2853220.5000 - val_mae: 1164.1407 - learning_rate: 0.0010\n",
      "Epoch 69/100\n",
      "\u001b[1m 8/12\u001b[0m \u001b[32m━━━━━━━━━━━━━\u001b[0m\u001b[37m━━━━━━━\u001b[0m \u001b[1m0s\u001b[0m 7ms/step - loss: 859784.8750 - mae: 581.0328 \n",
      "Epoch 69: val_loss improved from 2853220.50000 to 2847746.75000, saving model to best_cnn_lstm_model.h5\n"
     ]
    },
    {
     "name": "stderr",
     "output_type": "stream",
     "text": [
      "WARNING:absl:You are saving your model as an HDF5 file via `model.save()` or `keras.saving.save_model(model)`. This file format is considered legacy. We recommend using instead the native Keras format, e.g. `model.save('my_model.keras')` or `keras.saving.save_model(model, 'my_model.keras')`. \n"
     ]
    },
    {
     "name": "stdout",
     "output_type": "stream",
     "text": [
      "\u001b[1m12/12\u001b[0m \u001b[32m━━━━━━━━━━━━━━━━━━━━\u001b[0m\u001b[37m\u001b[0m \u001b[1m0s\u001b[0m 21ms/step - loss: 881637.5625 - mae: 587.6160 - val_loss: 2847746.7500 - val_mae: 1163.3427 - learning_rate: 0.0010\n",
      "Epoch 70/100\n",
      "\u001b[1m11/12\u001b[0m \u001b[32m━━━━━━━━━━━━━━━━━━\u001b[0m\u001b[37m━━\u001b[0m \u001b[1m0s\u001b[0m 10ms/step - loss: 878781.6250 - mae: 601.3367\n",
      "Epoch 70: val_loss did not improve from 2847746.75000\n",
      "\u001b[1m12/12\u001b[0m \u001b[32m━━━━━━━━━━━━━━━━━━━━\u001b[0m\u001b[37m\u001b[0m \u001b[1m0s\u001b[0m 16ms/step - loss: 887016.1250 - mae: 602.3679 - val_loss: 2848381.7500 - val_mae: 1163.5903 - learning_rate: 0.0010\n",
      "Epoch 71/100\n",
      "\u001b[1m 8/12\u001b[0m \u001b[32m━━━━━━━━━━━━━\u001b[0m\u001b[37m━━━━━━━\u001b[0m \u001b[1m0s\u001b[0m 7ms/step - loss: 818957.0000 - mae: 581.4747 \n",
      "Epoch 71: val_loss improved from 2847746.75000 to 2844580.50000, saving model to best_cnn_lstm_model.h5\n"
     ]
    },
    {
     "name": "stderr",
     "output_type": "stream",
     "text": [
      "WARNING:absl:You are saving your model as an HDF5 file via `model.save()` or `keras.saving.save_model(model)`. This file format is considered legacy. We recommend using instead the native Keras format, e.g. `model.save('my_model.keras')` or `keras.saving.save_model(model, 'my_model.keras')`. \n"
     ]
    },
    {
     "name": "stdout",
     "output_type": "stream",
     "text": [
      "\u001b[1m12/12\u001b[0m \u001b[32m━━━━━━━━━━━━━━━━━━━━\u001b[0m\u001b[37m\u001b[0m \u001b[1m0s\u001b[0m 18ms/step - loss: 848067.0625 - mae: 587.3162 - val_loss: 2844580.5000 - val_mae: 1163.0813 - learning_rate: 0.0010\n",
      "Epoch 72/100\n",
      "\u001b[1m 7/12\u001b[0m \u001b[32m━━━━━━━━━━━\u001b[0m\u001b[37m━━━━━━━━━\u001b[0m \u001b[1m0s\u001b[0m 9ms/step - loss: 954728.6875 - mae: 616.6472  \n",
      "Epoch 72: val_loss improved from 2844580.50000 to 2835175.00000, saving model to best_cnn_lstm_model.h5\n"
     ]
    },
    {
     "name": "stderr",
     "output_type": "stream",
     "text": [
      "WARNING:absl:You are saving your model as an HDF5 file via `model.save()` or `keras.saving.save_model(model)`. This file format is considered legacy. We recommend using instead the native Keras format, e.g. `model.save('my_model.keras')` or `keras.saving.save_model(model, 'my_model.keras')`. \n"
     ]
    },
    {
     "name": "stdout",
     "output_type": "stream",
     "text": [
      "\u001b[1m12/12\u001b[0m \u001b[32m━━━━━━━━━━━━━━━━━━━━\u001b[0m\u001b[37m\u001b[0m \u001b[1m0s\u001b[0m 19ms/step - loss: 959613.5625 - mae: 614.6718 - val_loss: 2835175.0000 - val_mae: 1161.6327 - learning_rate: 0.0010\n",
      "Epoch 73/100\n",
      "\u001b[1m 7/12\u001b[0m \u001b[32m━━━━━━━━━━━\u001b[0m\u001b[37m━━━━━━━━━\u001b[0m \u001b[1m0s\u001b[0m 9ms/step - loss: 741906.1250 - mae: 571.8138 \n",
      "Epoch 73: val_loss improved from 2835175.00000 to 2834935.25000, saving model to best_cnn_lstm_model.h5\n"
     ]
    },
    {
     "name": "stderr",
     "output_type": "stream",
     "text": [
      "WARNING:absl:You are saving your model as an HDF5 file via `model.save()` or `keras.saving.save_model(model)`. This file format is considered legacy. We recommend using instead the native Keras format, e.g. `model.save('my_model.keras')` or `keras.saving.save_model(model, 'my_model.keras')`. \n"
     ]
    },
    {
     "name": "stdout",
     "output_type": "stream",
     "text": [
      "\u001b[1m12/12\u001b[0m \u001b[32m━━━━━━━━━━━━━━━━━━━━\u001b[0m\u001b[37m\u001b[0m \u001b[1m0s\u001b[0m 24ms/step - loss: 797094.3125 - mae: 582.3853 - val_loss: 2834935.2500 - val_mae: 1161.6326 - learning_rate: 0.0010\n",
      "Epoch 74/100\n",
      "\u001b[1m 8/12\u001b[0m \u001b[32m━━━━━━━━━━━━━\u001b[0m\u001b[37m━━━━━━━\u001b[0m \u001b[1m0s\u001b[0m 8ms/step - loss: 952408.6875 - mae: 628.5664 \n",
      "Epoch 74: val_loss improved from 2834935.25000 to 2830357.50000, saving model to best_cnn_lstm_model.h5\n"
     ]
    },
    {
     "name": "stderr",
     "output_type": "stream",
     "text": [
      "WARNING:absl:You are saving your model as an HDF5 file via `model.save()` or `keras.saving.save_model(model)`. This file format is considered legacy. We recommend using instead the native Keras format, e.g. `model.save('my_model.keras')` or `keras.saving.save_model(model, 'my_model.keras')`. \n"
     ]
    },
    {
     "name": "stdout",
     "output_type": "stream",
     "text": [
      "\u001b[1m12/12\u001b[0m \u001b[32m━━━━━━━━━━━━━━━━━━━━\u001b[0m\u001b[37m\u001b[0m \u001b[1m0s\u001b[0m 20ms/step - loss: 939209.1875 - mae: 620.8265 - val_loss: 2830357.5000 - val_mae: 1160.9896 - learning_rate: 0.0010\n",
      "Epoch 75/100\n",
      "\u001b[1m 7/12\u001b[0m \u001b[32m━━━━━━━━━━━\u001b[0m\u001b[37m━━━━━━━━━\u001b[0m \u001b[1m0s\u001b[0m 9ms/step - loss: 1053881.6250 - mae: 635.6300 \n",
      "Epoch 75: val_loss improved from 2830357.50000 to 2825306.75000, saving model to best_cnn_lstm_model.h5\n"
     ]
    },
    {
     "name": "stderr",
     "output_type": "stream",
     "text": [
      "WARNING:absl:You are saving your model as an HDF5 file via `model.save()` or `keras.saving.save_model(model)`. This file format is considered legacy. We recommend using instead the native Keras format, e.g. `model.save('my_model.keras')` or `keras.saving.save_model(model, 'my_model.keras')`. \n"
     ]
    },
    {
     "name": "stdout",
     "output_type": "stream",
     "text": [
      "\u001b[1m12/12\u001b[0m \u001b[32m━━━━━━━━━━━━━━━━━━━━\u001b[0m\u001b[37m\u001b[0m \u001b[1m0s\u001b[0m 21ms/step - loss: 990843.4375 - mae: 619.0139 - val_loss: 2825306.7500 - val_mae: 1160.3972 - learning_rate: 0.0010\n",
      "Epoch 76/100\n",
      "\u001b[1m 6/12\u001b[0m \u001b[32m━━━━━━━━━━\u001b[0m\u001b[37m━━━━━━━━━━\u001b[0m \u001b[1m0s\u001b[0m 11ms/step - loss: 912400.8750 - mae: 612.6064\n",
      "Epoch 76: val_loss improved from 2825306.75000 to 2814419.00000, saving model to best_cnn_lstm_model.h5\n"
     ]
    },
    {
     "name": "stderr",
     "output_type": "stream",
     "text": [
      "WARNING:absl:You are saving your model as an HDF5 file via `model.save()` or `keras.saving.save_model(model)`. This file format is considered legacy. We recommend using instead the native Keras format, e.g. `model.save('my_model.keras')` or `keras.saving.save_model(model, 'my_model.keras')`. \n"
     ]
    },
    {
     "name": "stdout",
     "output_type": "stream",
     "text": [
      "\u001b[1m12/12\u001b[0m \u001b[32m━━━━━━━━━━━━━━━━━━━━\u001b[0m\u001b[37m\u001b[0m \u001b[1m0s\u001b[0m 21ms/step - loss: 913937.6250 - mae: 608.2424 - val_loss: 2814419.0000 - val_mae: 1158.5679 - learning_rate: 0.0010\n",
      "Epoch 77/100\n",
      "\u001b[1m10/12\u001b[0m \u001b[32m━━━━━━━━━━━━━━━━\u001b[0m\u001b[37m━━━━\u001b[0m \u001b[1m0s\u001b[0m 13ms/step - loss: 845614.6875 - mae: 592.6949\n",
      "Epoch 77: val_loss improved from 2814419.00000 to 2813284.00000, saving model to best_cnn_lstm_model.h5\n"
     ]
    },
    {
     "name": "stderr",
     "output_type": "stream",
     "text": [
      "WARNING:absl:You are saving your model as an HDF5 file via `model.save()` or `keras.saving.save_model(model)`. This file format is considered legacy. We recommend using instead the native Keras format, e.g. `model.save('my_model.keras')` or `keras.saving.save_model(model, 'my_model.keras')`. \n"
     ]
    },
    {
     "name": "stdout",
     "output_type": "stream",
     "text": [
      "\u001b[1m12/12\u001b[0m \u001b[32m━━━━━━━━━━━━━━━━━━━━\u001b[0m\u001b[37m\u001b[0m \u001b[1m0s\u001b[0m 28ms/step - loss: 869222.0000 - mae: 598.5742 - val_loss: 2813284.0000 - val_mae: 1158.4034 - learning_rate: 0.0010\n",
      "Epoch 78/100\n",
      "\u001b[1m 7/12\u001b[0m \u001b[32m━━━━━━━━━━━\u001b[0m\u001b[37m━━━━━━━━━\u001b[0m \u001b[1m0s\u001b[0m 9ms/step - loss: 890656.6250 - mae: 595.2648 \n",
      "Epoch 78: val_loss did not improve from 2813284.00000\n",
      "\u001b[1m12/12\u001b[0m \u001b[32m━━━━━━━━━━━━━━━━━━━━\u001b[0m\u001b[37m\u001b[0m \u001b[1m0s\u001b[0m 14ms/step - loss: 903234.9375 - mae: 599.7598 - val_loss: 2818944.2500 - val_mae: 1159.3268 - learning_rate: 0.0010\n",
      "Epoch 79/100\n",
      "\u001b[1m12/12\u001b[0m \u001b[32m━━━━━━━━━━━━━━━━━━━━\u001b[0m\u001b[37m\u001b[0m \u001b[1m0s\u001b[0m 10ms/step - loss: 998480.7500 - mae: 614.8575 \n",
      "Epoch 79: val_loss did not improve from 2813284.00000\n",
      "\u001b[1m12/12\u001b[0m \u001b[32m━━━━━━━━━━━━━━━━━━━━\u001b[0m\u001b[37m\u001b[0m \u001b[1m0s\u001b[0m 18ms/step - loss: 992196.6875 - mae: 613.9543 - val_loss: 2817175.7500 - val_mae: 1159.0815 - learning_rate: 0.0010\n",
      "Epoch 80/100\n",
      "\u001b[1m 8/12\u001b[0m \u001b[32m━━━━━━━━━━━━━\u001b[0m\u001b[37m━━━━━━━\u001b[0m \u001b[1m0s\u001b[0m 7ms/step - loss: 931143.9375 - mae: 609.6587 \n",
      "Epoch 80: val_loss did not improve from 2813284.00000\n",
      "\u001b[1m12/12\u001b[0m \u001b[32m━━━━━━━━━━━━━━━━━━━━\u001b[0m\u001b[37m\u001b[0m \u001b[1m0s\u001b[0m 13ms/step - loss: 924395.4375 - mae: 607.1669 - val_loss: 2817817.5000 - val_mae: 1159.2218 - learning_rate: 0.0010\n",
      "Epoch 81/100\n",
      "\u001b[1m 7/12\u001b[0m \u001b[32m━━━━━━━━━━━\u001b[0m\u001b[37m━━━━━━━━━\u001b[0m \u001b[1m0s\u001b[0m 9ms/step - loss: 853841.4375 - mae: 591.2332 \n",
      "Epoch 81: val_loss did not improve from 2813284.00000\n",
      "\u001b[1m12/12\u001b[0m \u001b[32m━━━━━━━━━━━━━━━━━━━━\u001b[0m\u001b[37m\u001b[0m \u001b[1m0s\u001b[0m 15ms/step - loss: 879366.1875 - mae: 597.7068 - val_loss: 2819977.0000 - val_mae: 1159.5503 - learning_rate: 0.0010\n",
      "Epoch 82/100\n",
      "\u001b[1m 8/12\u001b[0m \u001b[32m━━━━━━━━━━━━━\u001b[0m\u001b[37m━━━━━━━\u001b[0m \u001b[1m0s\u001b[0m 8ms/step - loss: 713503.3125 - mae: 569.1444 \n",
      "Epoch 82: ReduceLROnPlateau reducing learning rate to 0.0005000000237487257.\n",
      "\n",
      "Epoch 82: val_loss did not improve from 2813284.00000\n",
      "\u001b[1m12/12\u001b[0m \u001b[32m━━━━━━━━━━━━━━━━━━━━\u001b[0m\u001b[37m\u001b[0m \u001b[1m0s\u001b[0m 16ms/step - loss: 777630.8750 - mae: 579.4340 - val_loss: 2815501.2500 - val_mae: 1158.9427 - learning_rate: 0.0010\n",
      "Epoch 83/100\n",
      "\u001b[1m 7/12\u001b[0m \u001b[32m━━━━━━━━━━━\u001b[0m\u001b[37m━━━━━━━━━\u001b[0m \u001b[1m0s\u001b[0m 9ms/step - loss: 797918.6875 - mae: 573.0458 \n",
      "Epoch 83: val_loss improved from 2813284.00000 to 2813086.75000, saving model to best_cnn_lstm_model.h5\n"
     ]
    },
    {
     "name": "stderr",
     "output_type": "stream",
     "text": [
      "WARNING:absl:You are saving your model as an HDF5 file via `model.save()` or `keras.saving.save_model(model)`. This file format is considered legacy. We recommend using instead the native Keras format, e.g. `model.save('my_model.keras')` or `keras.saving.save_model(model, 'my_model.keras')`. \n"
     ]
    },
    {
     "name": "stdout",
     "output_type": "stream",
     "text": [
      "\u001b[1m12/12\u001b[0m \u001b[32m━━━━━━━━━━━━━━━━━━━━\u001b[0m\u001b[37m\u001b[0m \u001b[1m0s\u001b[0m 20ms/step - loss: 861456.4375 - mae: 589.8607 - val_loss: 2813086.7500 - val_mae: 1158.6277 - learning_rate: 5.0000e-04\n",
      "Epoch 84/100\n",
      "\u001b[1m12/12\u001b[0m \u001b[32m━━━━━━━━━━━━━━━━━━━━\u001b[0m\u001b[37m\u001b[0m \u001b[1m0s\u001b[0m 10ms/step - loss: 868592.8750 - mae: 601.8333\n",
      "Epoch 84: val_loss did not improve from 2813086.75000\n",
      "\u001b[1m12/12\u001b[0m \u001b[32m━━━━━━━━━━━━━━━━━━━━\u001b[0m\u001b[37m\u001b[0m \u001b[1m0s\u001b[0m 18ms/step - loss: 872780.0000 - mae: 602.4469 - val_loss: 2813775.7500 - val_mae: 1158.7277 - learning_rate: 5.0000e-04\n",
      "Epoch 85/100\n",
      "\u001b[1m 8/12\u001b[0m \u001b[32m━━━━━━━━━━━━━\u001b[0m\u001b[37m━━━━━━━\u001b[0m \u001b[1m0s\u001b[0m 8ms/step - loss: 919723.0000 - mae: 606.6731 \n",
      "Epoch 85: val_loss did not improve from 2813086.75000\n",
      "\u001b[1m12/12\u001b[0m \u001b[32m━━━━━━━━━━━━━━━━━━━━\u001b[0m\u001b[37m\u001b[0m \u001b[1m0s\u001b[0m 15ms/step - loss: 931386.6250 - mae: 608.7726 - val_loss: 2814635.2500 - val_mae: 1158.8400 - learning_rate: 5.0000e-04\n",
      "Epoch 86/100\n",
      "\u001b[1m11/12\u001b[0m \u001b[32m━━━━━━━━━━━━━━━━━━\u001b[0m\u001b[37m━━\u001b[0m \u001b[1m0s\u001b[0m 10ms/step - loss: 845282.6250 - mae: 593.6076\n",
      "Epoch 86: val_loss did not improve from 2813086.75000\n",
      "\u001b[1m12/12\u001b[0m \u001b[32m━━━━━━━━━━━━━━━━━━━━\u001b[0m\u001b[37m\u001b[0m \u001b[1m0s\u001b[0m 16ms/step - loss: 858293.8125 - mae: 596.2725 - val_loss: 2817462.0000 - val_mae: 1159.2678 - learning_rate: 5.0000e-04\n",
      "Epoch 87/100\n",
      "\u001b[1m 8/12\u001b[0m \u001b[32m━━━━━━━━━━━━━\u001b[0m\u001b[37m━━━━━━━\u001b[0m \u001b[1m0s\u001b[0m 8ms/step - loss: 832914.1875 - mae: 591.7853 \n",
      "Epoch 87: val_loss did not improve from 2813086.75000\n",
      "\u001b[1m12/12\u001b[0m \u001b[32m━━━━━━━━━━━━━━━━━━━━\u001b[0m\u001b[37m\u001b[0m \u001b[1m0s\u001b[0m 14ms/step - loss: 853174.3750 - mae: 595.4994 - val_loss: 2817047.0000 - val_mae: 1159.1689 - learning_rate: 5.0000e-04\n",
      "Epoch 88/100\n",
      "\u001b[1m 8/12\u001b[0m \u001b[32m━━━━━━━━━━━━━\u001b[0m\u001b[37m━━━━━━━\u001b[0m \u001b[1m0s\u001b[0m 7ms/step - loss: 936905.8750 - mae: 612.6011 \n",
      "Epoch 88: ReduceLROnPlateau reducing learning rate to 0.0002500000118743628.\n",
      "\n",
      "Epoch 88: val_loss did not improve from 2813086.75000\n",
      "\u001b[1m12/12\u001b[0m \u001b[32m━━━━━━━━━━━━━━━━━━━━\u001b[0m\u001b[37m\u001b[0m \u001b[1m0s\u001b[0m 15ms/step - loss: 937719.6875 - mae: 612.4601 - val_loss: 2816407.5000 - val_mae: 1159.0990 - learning_rate: 5.0000e-04\n",
      "Epoch 89/100\n",
      "\u001b[1m 9/12\u001b[0m \u001b[32m━━━━━━━━━━━━━━━\u001b[0m\u001b[37m━━━━━\u001b[0m \u001b[1m0s\u001b[0m 7ms/step - loss: 1000600.2500 - mae: 621.0840 \n",
      "Epoch 89: val_loss did not improve from 2813086.75000\n",
      "\u001b[1m12/12\u001b[0m \u001b[32m━━━━━━━━━━━━━━━━━━━━\u001b[0m\u001b[37m\u001b[0m \u001b[1m0s\u001b[0m 13ms/step - loss: 985079.5000 - mae: 618.5777 - val_loss: 2817409.0000 - val_mae: 1159.2750 - learning_rate: 2.5000e-04\n",
      "Epoch 90/100\n",
      "\u001b[1m 8/12\u001b[0m \u001b[32m━━━━━━━━━━━━━\u001b[0m\u001b[37m━━━━━━━\u001b[0m \u001b[1m0s\u001b[0m 8ms/step - loss: 816990.1250 - mae: 594.4789 \n",
      "Epoch 90: val_loss did not improve from 2813086.75000\n",
      "\u001b[1m12/12\u001b[0m \u001b[32m━━━━━━━━━━━━━━━━━━━━\u001b[0m\u001b[37m\u001b[0m \u001b[1m0s\u001b[0m 15ms/step - loss: 859951.8750 - mae: 598.8800 - val_loss: 2819570.0000 - val_mae: 1159.6243 - learning_rate: 2.5000e-04\n",
      "Epoch 91/100\n",
      "\u001b[1m10/12\u001b[0m \u001b[32m━━━━━━━━━━━━━━━━\u001b[0m\u001b[37m━━━━\u001b[0m \u001b[1m0s\u001b[0m 12ms/step - loss: 1009683.6250 - mae: 629.2518\n",
      "Epoch 91: val_loss did not improve from 2813086.75000\n",
      "\u001b[1m12/12\u001b[0m \u001b[32m━━━━━━━━━━━━━━━━━━━━\u001b[0m\u001b[37m\u001b[0m \u001b[1m0s\u001b[0m 18ms/step - loss: 990277.4375 - mae: 624.1480 - val_loss: 2818855.7500 - val_mae: 1159.5269 - learning_rate: 2.5000e-04\n",
      "Epoch 92/100\n",
      "\u001b[1m 8/12\u001b[0m \u001b[32m━━━━━━━━━━━━━\u001b[0m\u001b[37m━━━━━━━\u001b[0m \u001b[1m0s\u001b[0m 8ms/step - loss: 870440.6875 - mae: 603.8897 \n",
      "Epoch 92: val_loss did not improve from 2813086.75000\n",
      "\u001b[1m12/12\u001b[0m \u001b[32m━━━━━━━━━━━━━━━━━━━━\u001b[0m\u001b[37m\u001b[0m \u001b[1m0s\u001b[0m 15ms/step - loss: 887583.5000 - mae: 603.9097 - val_loss: 2820130.2500 - val_mae: 1159.7522 - learning_rate: 2.5000e-04\n",
      "Epoch 93/100\n",
      "\u001b[1m 7/12\u001b[0m \u001b[32m━━━━━━━━━━━\u001b[0m\u001b[37m━━━━━━━━━\u001b[0m \u001b[1m0s\u001b[0m 10ms/step - loss: 882956.5000 - mae: 596.9661 \n",
      "Epoch 93: ReduceLROnPlateau reducing learning rate to 0.0001250000059371814.\n",
      "\n",
      "Epoch 93: val_loss did not improve from 2813086.75000\n",
      "\u001b[1m12/12\u001b[0m \u001b[32m━━━━━━━━━━━━━━━━━━━━\u001b[0m\u001b[37m\u001b[0m \u001b[1m0s\u001b[0m 14ms/step - loss: 909121.3125 - mae: 604.2979 - val_loss: 2820720.2500 - val_mae: 1159.8766 - learning_rate: 2.5000e-04\n",
      "Epoch 94/100\n",
      "\u001b[1m 8/12\u001b[0m \u001b[32m━━━━━━━━━━━━━\u001b[0m\u001b[37m━━━━━━━\u001b[0m \u001b[1m0s\u001b[0m 8ms/step - loss: 839758.8125 - mae: 596.6039 \n",
      "Epoch 94: val_loss did not improve from 2813086.75000\n",
      "\u001b[1m12/12\u001b[0m \u001b[32m━━━━━━━━━━━━━━━━━━━━\u001b[0m\u001b[37m\u001b[0m \u001b[1m0s\u001b[0m 14ms/step - loss: 881265.6875 - mae: 603.3914 - val_loss: 2821353.7500 - val_mae: 1159.9855 - learning_rate: 1.2500e-04\n",
      "Epoch 95/100\n",
      "\u001b[1m 6/12\u001b[0m \u001b[32m━━━━━━━━━━\u001b[0m\u001b[37m━━━━━━━━━━\u001b[0m \u001b[1m0s\u001b[0m 11ms/step - loss: 990456.6250 - mae: 630.9232\n",
      "Epoch 95: val_loss did not improve from 2813086.75000\n",
      "\u001b[1m12/12\u001b[0m \u001b[32m━━━━━━━━━━━━━━━━━━━━\u001b[0m\u001b[37m\u001b[0m \u001b[1m0s\u001b[0m 15ms/step - loss: 949248.5625 - mae: 618.3185 - val_loss: 2821779.2500 - val_mae: 1160.0544 - learning_rate: 1.2500e-04\n",
      "Epoch 96/100\n",
      "\u001b[1m 7/12\u001b[0m \u001b[32m━━━━━━━━━━━\u001b[0m\u001b[37m━━━━━━━━━\u001b[0m \u001b[1m0s\u001b[0m 9ms/step - loss: 854319.6250 - mae: 576.4252 \n",
      "Epoch 96: val_loss did not improve from 2813086.75000\n",
      "\u001b[1m12/12\u001b[0m \u001b[32m━━━━━━━━━━━━━━━━━━━━\u001b[0m\u001b[37m\u001b[0m \u001b[1m0s\u001b[0m 14ms/step - loss: 889645.3125 - mae: 589.5511 - val_loss: 2822025.5000 - val_mae: 1160.0905 - learning_rate: 1.2500e-04\n",
      "Epoch 97/100\n",
      "\u001b[1m 7/12\u001b[0m \u001b[32m━━━━━━━━━━━\u001b[0m\u001b[37m━━━━━━━━━\u001b[0m \u001b[1m0s\u001b[0m 9ms/step - loss: 974213.2500 - mae: 622.0557  \n",
      "Epoch 97: val_loss did not improve from 2813086.75000\n",
      "\u001b[1m12/12\u001b[0m \u001b[32m━━━━━━━━━━━━━━━━━━━━\u001b[0m\u001b[37m\u001b[0m \u001b[1m0s\u001b[0m 15ms/step - loss: 970722.6875 - mae: 618.7344 - val_loss: 2821848.2500 - val_mae: 1160.0488 - learning_rate: 1.2500e-04\n",
      "Epoch 98/100\n",
      "\u001b[1m12/12\u001b[0m \u001b[32m━━━━━━━━━━━━━━━━━━━━\u001b[0m\u001b[37m\u001b[0m \u001b[1m0s\u001b[0m 9ms/step - loss: 847081.3125 - mae: 582.6630 \n",
      "Epoch 98: ReduceLROnPlateau reducing learning rate to 6.25000029685907e-05.\n",
      "\n",
      "Epoch 98: val_loss did not improve from 2813086.75000\n",
      "\u001b[1m12/12\u001b[0m \u001b[32m━━━━━━━━━━━━━━━━━━━━\u001b[0m\u001b[37m\u001b[0m \u001b[1m0s\u001b[0m 16ms/step - loss: 852147.4375 - mae: 583.8731 - val_loss: 2821204.5000 - val_mae: 1159.9529 - learning_rate: 1.2500e-04\n",
      "Epoch 98: early stopping\n",
      "Restoring model weights from the end of the best epoch: 83.\n",
      "\n",
      "✅ Training completed successfully!\n"
     ]
    }
   ],
   "source": [
    "# Cell 9 Alternative: Comprehensive data cleaning and training\n",
    "import tensorflow as tf\n",
    "\n",
    "print(\"=\"*40)\n",
    "print(\"COMPREHENSIVE DATA PREPARATION\")\n",
    "print(\"=\"*40)\n",
    "\n",
    "def clean_and_prepare_data(X_train, y_train, X_test, y_test):\n",
    "    \"\"\"\n",
    "    Comprehensive data cleaning for CNN-LSTM training\n",
    "    \"\"\"\n",
    "    print(\"🔧 Cleaning and preparing data...\")\n",
    "    \n",
    "    # Convert to numpy arrays if not already\n",
    "    X_train = np.array(X_train)\n",
    "    y_train = np.array(y_train)\n",
    "    X_test = np.array(X_test)\n",
    "    y_test = np.array(y_test)\n",
    "    \n",
    "    # Check for object dtype issues\n",
    "    if X_train.dtype == 'object':\n",
    "        print(\"⚠️  X_train has object dtype - converting...\")\n",
    "        X_train = X_train.astype(np.float64)\n",
    "    \n",
    "    if y_train.dtype == 'object':\n",
    "        print(\"⚠️  y_train has object dtype - converting...\")\n",
    "        y_train = y_train.astype(np.float64)\n",
    "    \n",
    "    if X_test.dtype == 'object':\n",
    "        print(\"⚠️  X_test has object dtype - converting...\")\n",
    "        X_test = X_test.astype(np.float64)\n",
    "    \n",
    "    if y_test.dtype == 'object':\n",
    "        print(\"⚠️  y_test has object dtype - converting...\")\n",
    "        y_test = y_test.astype(np.float64)\n",
    "    \n",
    "    # Handle NaN and infinite values\n",
    "    print(\"🧹 Handling NaN and infinite values...\")\n",
    "    X_train = np.nan_to_num(X_train, nan=0.0, posinf=1e6, neginf=-1e6)\n",
    "    y_train = np.nan_to_num(y_train, nan=0.0, posinf=1e6, neginf=-1e6)\n",
    "    X_test = np.nan_to_num(X_test, nan=0.0, posinf=1e6, neginf=-1e6)\n",
    "    y_test = np.nan_to_num(y_test, nan=0.0, posinf=1e6, neginf=-1e6)\n",
    "    \n",
    "    # Convert to float32 (TensorFlow's preferred type)\n",
    "    X_train = X_train.astype(np.float32)\n",
    "    y_train = y_train.astype(np.float32)\n",
    "    X_test = X_test.astype(np.float32)\n",
    "    y_test = y_test.astype(np.float32)\n",
    "    \n",
    "    # Final verification\n",
    "    print(f\"✓ Final data types:\")\n",
    "    print(f\"  X_train: {X_train.dtype}, shape: {X_train.shape}\")\n",
    "    print(f\"  y_train: {y_train.dtype}, shape: {y_train.shape}\")\n",
    "    print(f\"  X_test: {X_test.dtype}, shape: {X_test.shape}\")\n",
    "    print(f\"  y_test: {y_test.dtype}, shape: {y_test.shape}\")\n",
    "    \n",
    "    # Check data ranges\n",
    "    print(f\"✓ Data ranges:\")\n",
    "    print(f\"  X_train: [{X_train.min():.3f}, {X_train.max():.3f}]\")\n",
    "    print(f\"  y_train: [{y_train.min():.3f}, {y_train.max():.3f}]\")\n",
    "    \n",
    "    return X_train, y_train, X_test, y_test\n",
    "\n",
    "# Clean the data\n",
    "X_train_clean, y_train_clean, X_test_clean, y_test_clean = clean_and_prepare_data(\n",
    "    X_train, y_train, X_test, y_test\n",
    ")\n",
    "\n",
    "print(\"\\n\" + \"=\"*30)\n",
    "print(\"STARTING TRAINING\")\n",
    "print(\"=\"*30)\n",
    "\n",
    "# Train with cleaned data\n",
    "try:\n",
    "    history = model.fit(\n",
    "        X_train_clean, y_train_clean,\n",
    "        batch_size=BATCH_SIZE,\n",
    "        epochs=EPOCHS,\n",
    "        validation_data=(X_test_clean, y_test_clean),\n",
    "        callbacks=callbacks,\n",
    "        verbose=1\n",
    "    )\n",
    "    \n",
    "    print(\"\\n✅ Training completed successfully!\")\n",
    "    \n",
    "    # Update variables for next cells\n",
    "    X_train, y_train = X_train_clean, y_train_clean\n",
    "    X_test, y_test = X_test_clean, y_test_clean\n",
    "    \n",
    "except Exception as e:\n",
    "    print(f\"❌ Training still failed: {e}\")\n",
    "    print(\"\\n🔍 Additional debugging:\")\n",
    "    \n",
    "    # More detailed debugging\n",
    "    print(f\"X_train unique dtypes: {set(str(x.dtype) for x in X_train.flatten()[:100])}\")\n",
    "    print(f\"Sample X_train values: {X_train[0, 0, :10]}\")\n",
    "    print(f\"Sample y_train values: {y_train[0, 0, :10]}\")\n",
    "    \n",
    "    # Check if data contains any strings\n",
    "    sample_x = X_train[0, 0, :]\n",
    "    print(f\"Sample X contains strings: {any(isinstance(x, str) for x in sample_x.flatten())}\")"
   ]
  },
  {
   "cell_type": "code",
   "execution_count": 16,
   "metadata": {},
   "outputs": [
    {
     "name": "stdout",
     "output_type": "stream",
     "text": [
      "==============================\n",
      "COMPREHENSIVE MODEL EVALUATION\n",
      "==============================\n",
      "🔍 Shape Debugging:\n",
      "X_test shape: (90, 30, 65)\n",
      "y_test shape: (90, 7, 3)\n",
      "y_pred shape: (90, 7, 3)\n",
      "\n",
      "✅ Final shapes:\n",
      "y_test: (90, 7, 3)\n",
      "y_pred: (90, 7, 3)\n",
      "\n",
      "Flattened shapes: y_test=(1890,), y_pred=(1890,)\n",
      "\n",
      "✅ Overall Test Metrics:\n",
      "  MAE: 1158.63\n",
      "  RMSE: 1677.23\n",
      "  MSE: 2813087.25\n",
      "  MAPE: 85.00%\n",
      "\n",
      "✅ Performance by Forecast Day:\n",
      "  Day 1: MAE = 1218.02\n",
      "  Day 2: MAE = 1196.12\n",
      "  Day 3: MAE = 1175.83\n",
      "  Day 4: MAE = 1155.93\n",
      "  Day 5: MAE = 1132.07\n",
      "  Day 6: MAE = 1121.33\n",
      "  Day 7: MAE = 1111.09\n",
      "\n",
      "✅ Performance by Revenue Stream:\n",
      "  Stream 1: MAE = 1010.31\n",
      "  Stream 2: MAE = 1749.13\n",
      "  Stream 3: MAE = 716.44\n",
      "\n",
      "✅ Revenue Stream Summary:\n",
      "  Best performing stream: MAE = 716.44\n",
      "  Worst performing stream: MAE = 1749.13\n",
      "  Average across streams: MAE = 1158.63\n",
      "  Standard deviation: MAE = 434.44\n",
      "\n",
      "✅ Sample Predictions (First sequence, First 5 streams):\n",
      "Day | Stream1_Actual | Stream1_Pred | Stream2_Actual | Stream2_Pred | ...\n",
      " 1  |   2466.0      |    801.4     |   6548.0      |   2464.6     | ...\n",
      " 2  |   2586.8      |    812.6     |   4300.0      |   2472.2     | ...\n",
      " 3  |   1639.6      |    825.2     |   6378.0      |   2492.3     | ...\n",
      " 4  |   2079.6      |    815.9     |   6710.0      |   2489.2     | ...\n",
      " 5  |   1232.0      |    820.3     |   4523.0      |   2503.4     | ...\n",
      " 6  |   1390.0      |    814.3     |   3990.0      |   2506.2     | ...\n",
      " 7  |   1426.0      |    824.2     |   5762.0      |   2514.0     | ...\n",
      "\n",
      "✅ Model evaluation complete!\n"
     ]
    }
   ],
   "source": [
    "# Cell 10: Fixed Model Evaluation with shape checking\n",
    "print(\"=\"*30)\n",
    "print(\"COMPREHENSIVE MODEL EVALUATION\")\n",
    "print(\"=\"*30)\n",
    "\n",
    "# Make predictions on test set\n",
    "y_pred = model.predict(X_test, verbose=0)\n",
    "\n",
    "# Debug shapes first\n",
    "print(f\"🔍 Shape Debugging:\")\n",
    "print(f\"X_test shape: {X_test.shape}\")\n",
    "print(f\"y_test shape: {y_test.shape}\")\n",
    "print(f\"y_pred shape: {y_pred.shape}\")\n",
    "\n",
    "# Check if shapes match\n",
    "if y_test.shape != y_pred.shape:\n",
    "    print(f\"⚠️  Shape mismatch detected!\")\n",
    "    print(f\"y_test: {y_test.shape} vs y_pred: {y_pred.shape}\")\n",
    "    \n",
    "    # Try to fix shape mismatch\n",
    "    if len(y_pred.shape) == 2 and len(y_test.shape) == 3:\n",
    "        # If y_pred is 2D, reshape to 3D\n",
    "        expected_shape = (y_pred.shape[0], y_test.shape[1], y_test.shape[2])\n",
    "        if y_pred.shape[1] == (y_test.shape[1] * y_test.shape[2]):\n",
    "            y_pred = y_pred.reshape(expected_shape)\n",
    "            print(f\"✅ Reshaped y_pred to: {y_pred.shape}\")\n",
    "        else:\n",
    "            print(f\"❌ Cannot reshape y_pred automatically\")\n",
    "            print(f\"Expected elements: {y_test.shape[1] * y_test.shape[2]}, got: {y_pred.shape[1]}\")\n",
    "    \n",
    "    elif len(y_pred.shape) == 3 and len(y_test.shape) == 3:\n",
    "        if y_pred.shape[0] != y_test.shape[0]:\n",
    "            # Take only matching samples\n",
    "            min_samples = min(y_pred.shape[0], y_test.shape[0])\n",
    "            y_pred = y_pred[:min_samples]\n",
    "            y_test = y_test[:min_samples]\n",
    "            print(f\"✅ Trimmed to {min_samples} samples\")\n",
    "\n",
    "# Verify shapes again\n",
    "print(f\"\\n✅ Final shapes:\")\n",
    "print(f\"y_test: {y_test.shape}\")\n",
    "print(f\"y_pred: {y_pred.shape}\")\n",
    "\n",
    "# Calculate overall metrics\n",
    "try:\n",
    "    # Flatten arrays for overall metrics\n",
    "    y_test_flat = y_test.reshape(-1)\n",
    "    y_pred_flat = y_pred.reshape(-1)\n",
    "    \n",
    "    print(f\"\\nFlattened shapes: y_test={y_test_flat.shape}, y_pred={y_pred_flat.shape}\")\n",
    "    \n",
    "    mae = mean_absolute_error(y_test_flat, y_pred_flat)\n",
    "    mse = mean_squared_error(y_test_flat, y_pred_flat)\n",
    "    rmse = np.sqrt(mse)\n",
    "    \n",
    "    # Calculate MAPE (avoiding division by zero)\n",
    "    mape = np.mean(np.abs((y_test_flat - y_pred_flat) / (np.abs(y_test_flat) + 1e-8))) * 100\n",
    "    \n",
    "    print(f\"\\n✅ Overall Test Metrics:\")\n",
    "    print(f\"  MAE: {mae:.2f}\")\n",
    "    print(f\"  RMSE: {rmse:.2f}\")\n",
    "    print(f\"  MSE: {mse:.2f}\")\n",
    "    print(f\"  MAPE: {mape:.2f}%\")\n",
    "    \n",
    "    # Calculate metrics by forecast day\n",
    "    print(f\"\\n✅ Performance by Forecast Day:\")\n",
    "    for day in range(y_test.shape[1]):  # Should be 7 days\n",
    "        day_mae = mean_absolute_error(y_test[:, day, :].reshape(-1), y_pred[:, day, :].reshape(-1))\n",
    "        print(f\"  Day {day+1}: MAE = {day_mae:.2f}\")\n",
    "    \n",
    "    # Calculate metrics by revenue stream\n",
    "    print(f\"\\n✅ Performance by Revenue Stream:\")\n",
    "    revenue_stream_metrics = []\n",
    "    for stream in range(y_test.shape[2]):  # Should be 27 streams\n",
    "        stream_mae = mean_absolute_error(y_test[:, :, stream].reshape(-1), y_pred[:, :, stream].reshape(-1))\n",
    "        revenue_stream_metrics.append(stream_mae)\n",
    "        if stream < 10:  # Show first 10 streams to avoid clutter\n",
    "            print(f\"  Stream {stream+1}: MAE = {stream_mae:.2f}\")\n",
    "    \n",
    "    print(f\"\\n✅ Revenue Stream Summary:\")\n",
    "    print(f\"  Best performing stream: MAE = {min(revenue_stream_metrics):.2f}\")\n",
    "    print(f\"  Worst performing stream: MAE = {max(revenue_stream_metrics):.2f}\")\n",
    "    print(f\"  Average across streams: MAE = {np.mean(revenue_stream_metrics):.2f}\")\n",
    "    print(f\"  Standard deviation: MAE = {np.std(revenue_stream_metrics):.2f}\")\n",
    "    \n",
    "    # Sample predictions vs actual\n",
    "    print(f\"\\n✅ Sample Predictions (First sequence, First 5 streams):\")\n",
    "    print(\"Day | Stream1_Actual | Stream1_Pred | Stream2_Actual | Stream2_Pred | ...\")\n",
    "    for day in range(min(7, y_test.shape[1])):\n",
    "        actual_vals = y_test[0, day, :5]  # First 5 streams\n",
    "        pred_vals = y_pred[0, day, :5]\n",
    "        print(f\"{day+1:2d}  | {actual_vals[0]:8.1f}      | {pred_vals[0]:8.1f}     | {actual_vals[1]:8.1f}      | {pred_vals[1]:8.1f}     | ...\")\n",
    "    \n",
    "    print(f\"\\n✅ Model evaluation complete!\")\n",
    "    \n",
    "except Exception as e:\n",
    "    print(f\"❌ Error during evaluation: {e}\")\n",
    "    print(f\"Shapes: y_test={y_test.shape}, y_pred={y_pred.shape}\")\n",
    "    \n",
    "    # Fallback: simple metrics calculation\n",
    "    print(f\"\\n🔧 Attempting simplified evaluation...\")\n",
    "    try:\n",
    "        # Calculate MAE for each sample individually then average\n",
    "        sample_maes = []\n",
    "        for i in range(min(len(y_test), len(y_pred))):\n",
    "            sample_mae = np.mean(np.abs(y_test[i] - y_pred[i]))\n",
    "            sample_maes.append(sample_mae)\n",
    "        \n",
    "        overall_mae = np.mean(sample_maes)\n",
    "        print(f\"✅ Simplified MAE: {overall_mae:.2f}\")\n",
    "        print(f\"✅ MAE std: {np.std(sample_maes):.2f}\")\n",
    "        \n",
    "    except Exception as e2:\n",
    "        print(f\"❌ Simplified evaluation also failed: {e2}\")"
   ]
  },
  {
   "cell_type": "code",
   "execution_count": null,
   "metadata": {},
   "outputs": [],
   "source": []
  }
 ],
 "metadata": {
  "kernelspec": {
   "display_name": "myenv1",
   "language": "python",
   "name": "python3"
  },
  "language_info": {
   "codemirror_mode": {
    "name": "ipython",
    "version": 3
   },
   "file_extension": ".py",
   "mimetype": "text/x-python",
   "name": "python",
   "nbconvert_exporter": "python",
   "pygments_lexer": "ipython3",
   "version": "3.11.11"
  }
 },
 "nbformat": 4,
 "nbformat_minor": 2
}
